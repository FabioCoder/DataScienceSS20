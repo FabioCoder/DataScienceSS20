{
 "cells": [
  {
   "cell_type": "markdown",
   "metadata": {},
   "source": [
    "# Exercise I: Your own Python module "
   ]
  },
  {
   "cell_type": "code",
   "execution_count": 1,
   "metadata": {},
   "outputs": [
    {
     "name": "stdout",
     "output_type": "stream",
     "text": [
      "running in Colab: False\n"
     ]
    }
   ],
   "source": [
    "#check if notebook runs in colab\n",
    "import sys\n",
    "IN_COLAB = 'google.colab' in sys.modules\n",
    "print('running in Colab:',IN_COLAB)\n",
    "path='..'\n",
    "if IN_COLAB:\n",
    "  #in colab, we need to clone the data from the repo\n",
    "  !git clone https://github.com/keuperj/DataScienceSS20.git\n",
    "  path='DataScienceSS20'"
   ]
  },
  {
   "cell_type": "markdown",
   "metadata": {},
   "source": [
    "Write your own python module (choose a name) with the following properties:\n",
    "\n",
    "1. start new python file for the module\n",
    "2. define a class ***ListKeeper*** with the following properties and API:\n",
    "   1. ***Listkeeper*** strores named lists (hint: use dictionaries) \n",
    "   2. it initializes with a list named *example*: [1,2,3,4,5]\n",
    "   3. ``show()`` returns all list names\n",
    "   4. ``add(name, list)`` adds a new list\n",
    "   5. ``delete(name)`` deletes list\n",
    "   6. ``sort(name)`` returns the sorted list *name*\n",
    "   7. ``append(name, list)`` appends *list* to *name* \n",
    "3. add comments and documentation to your class\n",
    "4. Import your module in this notebook\n",
    "5. write tests to check the functionality of your class "
   ]
  },
  {
   "cell_type": "code",
   "execution_count": 1,
   "metadata": {},
   "outputs": [],
   "source": [
    "# load the autoreload extension\n",
    "%load_ext autoreload\n",
    "# Set extension to reload modules every time before executing code\n",
    "%autoreload 2\n",
    "\n",
    "import ListkeeperModule as lm"
   ]
  },
  {
   "cell_type": "code",
   "execution_count": 22,
   "metadata": {},
   "outputs": [
    {
     "name": "stderr",
     "output_type": "stream",
     "text": [
      "......\n",
      "----------------------------------------------------------------------\n",
      "Ran 6 tests in 0.006s\n",
      "\n",
      "OK\n"
     ]
    }
   ],
   "source": [
    "import unittest\n",
    "class TestListkeeperMethods(unittest.TestCase):\n",
    "    def test_init(self):\n",
    "        myListKeeper = lm.ListKeeper()\n",
    "        self.assertEqual(myListKeeper.listDict, {\"example\": [1,2,3,4,5]})\n",
    "    \n",
    "    def test_show(self):\n",
    "        myListKeeper = lm.ListKeeper()\n",
    "        self.assertEqual(myListKeeper.show(), [\"example\"])\n",
    "    \n",
    "    def test_add(self):\n",
    "        myListKeeper = lm.ListKeeper()\n",
    "        testList = [6,7,8,9]\n",
    "        testName = \"test\"\n",
    "        myListKeeper.add(testName,testList)\n",
    "        self.assertEqual(myListKeeper.listDict[testName], testList)\n",
    "    \n",
    "    def test_delete(self):\n",
    "        myListKeeper = lm.ListKeeper()\n",
    "        myListKeeper.delete(\"example\")\n",
    "        self.assertEqual(myListKeeper.listDict, {})\n",
    "    \n",
    "    def test_sort(self):\n",
    "        myListKeeper = lm.ListKeeper()\n",
    "        testList = [8,6,9,3]\n",
    "        testName = \"test\"\n",
    "        myListKeeper.add(testName,testList)\n",
    "        myListKeeper.sort(testName)\n",
    "        self.assertEqual(myListKeeper.listDict[testName], [3,6,8,9])\n",
    "    \n",
    "    def test_append(self):\n",
    "        myListKeeper = lm.ListKeeper()\n",
    "        testList = [8,6,9,3]\n",
    "        testName = \"test\"\n",
    "        myListKeeper.append(\"example\",testList)\n",
    "        self.assertEqual(myListKeeper.listDict[\"example\"], [1,2,3,4,5,8,6,9,3])\n",
    "        \n",
    "if __name__ == '__main__':\n",
    "    #der Aufruf von unittest.main() führt zu einem Fehler, siehe: \n",
    "    #https://medium.com/@vladbezden/using-python-unittest-in-ipython-or-jupyter-732448724e31\n",
    "    unittest.main(argv=['first-arg-is-ignored'], exit=False)"
   ]
  },
  {
   "cell_type": "code",
   "execution_count": 20,
   "metadata": {},
   "outputs": [
    {
     "data": {
      "text/plain": [
       "['__class__',\n",
       " '__delattr__',\n",
       " '__dict__',\n",
       " '__dir__',\n",
       " '__doc__',\n",
       " '__eq__',\n",
       " '__format__',\n",
       " '__ge__',\n",
       " '__getattribute__',\n",
       " '__gt__',\n",
       " '__hash__',\n",
       " '__init__',\n",
       " '__init_subclass__',\n",
       " '__le__',\n",
       " '__lt__',\n",
       " '__module__',\n",
       " '__ne__',\n",
       " '__new__',\n",
       " '__reduce__',\n",
       " '__reduce_ex__',\n",
       " '__repr__',\n",
       " '__setattr__',\n",
       " '__sizeof__',\n",
       " '__str__',\n",
       " '__subclasshook__',\n",
       " '__weakref__',\n",
       " 'add',\n",
       " 'append',\n",
       " 'delete',\n",
       " 'listDict',\n",
       " 'show',\n",
       " 'sort']"
      ]
     },
     "execution_count": 20,
     "metadata": {},
     "output_type": "execute_result"
    }
   ],
   "source": [
    "dir(lm.ListKeeper)"
   ]
  },
  {
   "cell_type": "code",
   "execution_count": null,
   "metadata": {},
   "outputs": [],
   "source": []
  }
 ],
 "metadata": {
  "kernelspec": {
   "display_name": "Python 3",
   "language": "python",
   "name": "python3"
  },
  "language_info": {
   "codemirror_mode": {
    "name": "ipython",
    "version": 3
   },
   "file_extension": ".py",
   "mimetype": "text/x-python",
   "name": "python",
   "nbconvert_exporter": "python",
   "pygments_lexer": "ipython3",
   "version": "3.7.6"
  }
 },
 "nbformat": 4,
 "nbformat_minor": 4
}
