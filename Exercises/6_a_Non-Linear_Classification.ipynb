{
  "nbformat": 4,
  "nbformat_minor": 0,
  "metadata": {
    "kernelspec": {
      "display_name": "Python 3",
      "language": "python",
      "name": "python3"
    },
    "language_info": {
      "codemirror_mode": {
        "name": "ipython",
        "version": 3
      },
      "file_extension": ".py",
      "mimetype": "text/x-python",
      "name": "python",
      "nbconvert_exporter": "python",
      "pygments_lexer": "ipython3",
      "version": "3.7.6"
    },
    "colab": {
      "name": "6_a_Non-Linear_Classification.ipynb",
      "provenance": []
    }
  },
  "cells": [
    {
      "cell_type": "markdown",
      "metadata": {
        "id": "IzL0cC2kqXU3",
        "colab_type": "text"
      },
      "source": [
        "# Block 6 Exercise 1: Non-Linear Classification"
      ]
    },
    {
      "cell_type": "markdown",
      "metadata": {
        "id": "WrcA2jd_qXU6",
        "colab_type": "text"
      },
      "source": [
        "## MNIST Data\n",
        "We return to the MNIST data set on handwritten digits to compare non-linear classification algorithms ...   "
      ]
    },
    {
      "cell_type": "code",
      "metadata": {
        "id": "ZNE1-wJ5qXU_",
        "colab_type": "code",
        "colab": {}
      },
      "source": [
        "#imports \n",
        "import matplotlib.pyplot as plt\n",
        "import numpy as np\n",
        "from sklearn.datasets import fetch_openml"
      ],
      "execution_count": 0,
      "outputs": []
    },
    {
      "cell_type": "code",
      "metadata": {
        "id": "Uwf7ZKFgqXVS",
        "colab_type": "code",
        "colab": {}
      },
      "source": [
        "# Load data from https://www.openml.org/d/554\n",
        "X, y = fetch_openml('mnist_784', version=1, return_X_y=True)\n"
      ],
      "execution_count": 0,
      "outputs": []
    },
    {
      "cell_type": "code",
      "metadata": {
        "id": "SUUbwaDvqXVc",
        "colab_type": "code",
        "outputId": "be3fed83-2caa-4bf1-842d-347f79a05f4d",
        "colab": {
          "base_uri": "https://localhost:8080/",
          "height": 36
        }
      },
      "source": [
        "#the full MNIST data set contains 70k samples of digits 0-9 as 28*28 gray scale images (represented as 784 dim vectors)\n",
        "np.shape(X)"
      ],
      "execution_count": 3,
      "outputs": [
        {
          "output_type": "execute_result",
          "data": {
            "text/plain": [
              "(70000, 784)"
            ]
          },
          "metadata": {
            "tags": []
          },
          "execution_count": 3
        }
      ]
    },
    {
      "cell_type": "code",
      "metadata": {
        "id": "l_xWBDA-qXVs",
        "colab_type": "code",
        "outputId": "d9ebb362-5ea5-493b-9491-1e0819d12ee0",
        "colab": {
          "base_uri": "https://localhost:8080/",
          "height": 36
        }
      },
      "source": [
        "X.min()"
      ],
      "execution_count": 4,
      "outputs": [
        {
          "output_type": "execute_result",
          "data": {
            "text/plain": [
              "0.0"
            ]
          },
          "metadata": {
            "tags": []
          },
          "execution_count": 4
        }
      ]
    },
    {
      "cell_type": "code",
      "metadata": {
        "id": "aRoV-E4FqXV3",
        "colab_type": "code",
        "outputId": "82227a5e-d2f3-464d-a4fa-43444559a254",
        "colab": {
          "base_uri": "https://localhost:8080/",
          "height": 36
        }
      },
      "source": [
        "#look at max/min value in the data\n",
        "X.max()"
      ],
      "execution_count": 5,
      "outputs": [
        {
          "output_type": "execute_result",
          "data": {
            "text/plain": [
              "255.0"
            ]
          },
          "metadata": {
            "tags": []
          },
          "execution_count": 5
        }
      ]
    },
    {
      "cell_type": "markdown",
      "metadata": {
        "id": "JlfA0TQsqXWB",
        "colab_type": "text"
      },
      "source": [
        "### E1.1: Cross-Validation and Support Vector Machines\n",
        "Train and optimize  C-SVM classifier on MNIST (https://scikit-learn.org/stable/modules/generated/sklearn.svm.SVC.html#sklearn.svm.SVC)\n",
        "* use a RBF kernel\n",
        "* use *random search* with cross-validation to find the best settings for *gamma* and *C* (https://scikit-learn.org/stable/modules/generated/sklearn.model_selection.RandomizedSearchCV.html#sklearn.model_selection.RandomizedSearchCV)"
      ]
    },
    {
      "cell_type": "code",
      "metadata": {
        "id": "VB_BKgE_qXWC",
        "colab_type": "code",
        "colab": {}
      },
      "source": [
        "import sklearn.model_selection\n",
        "X_train, X_test, y_train, y_test = sklearn.model_selection.train_test_split(X, y, train_size=0.9)"
      ],
      "execution_count": 0,
      "outputs": []
    },
    {
      "cell_type": "code",
      "metadata": {
        "id": "rBsvuIKMqXWO",
        "colab_type": "code",
        "colab": {}
      },
      "source": [
        "from sklearn.svm import SVC\n",
        "from sklearn.model_selection import RandomizedSearchCV\n",
        "from scipy.stats import uniform\n",
        "\n",
        "model = SVC(kernel='rbf')\n",
        "rand_list = {\"C\": [1, 10 , 100], \"gamma\": ['scale',0.0001, 1, 0.1]}\n",
        "\n",
        "clf = RandomizedSearchCV(estimator=model, param_distributions=rand_list, random_state=0, n_jobs=4, n_iter=32, cv=3)"
      ],
      "execution_count": 0,
      "outputs": []
    },
    {
      "cell_type": "code",
      "metadata": {
        "id": "ZZNt7rhyqXWX",
        "colab_type": "code",
        "outputId": "3f2561f7-60fa-4cf5-9fe2-15dabbc32309",
        "colab": {
          "base_uri": "https://localhost:8080/",
          "height": 111
        }
      },
      "source": [
        "%%time\n",
        "search = clf.fit(X_train[:1000], y_train[:1000])\n",
        "search.best_params_"
      ],
      "execution_count": 0,
      "outputs": [
        {
          "output_type": "stream",
          "text": [
            "/usr/local/lib/python3.6/dist-packages/sklearn/model_selection/_search.py:281: UserWarning: The total space of parameters 12 is smaller than n_iter=32. Running 12 iterations. For exhaustive searches, use GridSearchCV.\n",
            "  % (grid_size, self.n_iter, grid_size), UserWarning)\n"
          ],
          "name": "stderr"
        },
        {
          "output_type": "stream",
          "text": [
            "CPU times: user 1.21 s, sys: 64.2 ms, total: 1.27 s\n",
            "Wall time: 26.8 s\n"
          ],
          "name": "stdout"
        }
      ]
    },
    {
      "cell_type": "code",
      "metadata": {
        "id": "sqXEC0SO3r58",
        "colab_type": "code",
        "outputId": "19310523-bdd1-49b5-cad1-f6b030ad2442",
        "colab": {
          "base_uri": "https://localhost:8080/",
          "height": 36
        }
      },
      "source": [
        "search.best_params_"
      ],
      "execution_count": 0,
      "outputs": [
        {
          "output_type": "execute_result",
          "data": {
            "text/plain": [
              "{'C': 10, 'gamma': 'scale'}"
            ]
          },
          "metadata": {
            "tags": []
          },
          "execution_count": 9
        }
      ]
    },
    {
      "cell_type": "code",
      "metadata": {
        "id": "JGy87YB4341C",
        "colab_type": "code",
        "outputId": "0b4b6166-6988-4129-9be1-647c3b86e913",
        "colab": {
          "base_uri": "https://localhost:8080/",
          "height": 964
        }
      },
      "source": [
        "search.cv_results_"
      ],
      "execution_count": 0,
      "outputs": [
        {
          "output_type": "execute_result",
          "data": {
            "text/plain": [
              "{'mean_fit_time': array([1.23795462, 2.21893406, 2.18677457, 2.18830919, 1.41883755,\n",
              "        2.207769  , 2.20731886, 2.18407178, 1.39622553, 2.25866787,\n",
              "        2.16642372, 1.78776185]),\n",
              " 'mean_score_time': array([0.49466236, 0.63097517, 0.58576608, 0.58494512, 0.4852097 ,\n",
              "        0.63734357, 0.58997869, 0.60050519, 0.4879969 , 0.61797722,\n",
              "        0.59142804, 0.47016231]),\n",
              " 'mean_test_score': array([0.89400179, 0.11800123, 0.11800123, 0.11800123, 0.91400382,\n",
              "        0.11800123, 0.11800123, 0.11800123, 0.91400382, 0.11800123,\n",
              "        0.11800123, 0.11800123]),\n",
              " 'param_C': masked_array(data=[1, 1, 1, 1, 10, 10, 10, 10, 100, 100, 100, 100],\n",
              "              mask=[False, False, False, False, False, False, False, False,\n",
              "                    False, False, False, False],\n",
              "        fill_value='?',\n",
              "             dtype=object),\n",
              " 'param_gamma': masked_array(data=['scale', 0.0001, 1, 0.1, 'scale', 0.0001, 1, 0.1,\n",
              "                    'scale', 0.0001, 1, 0.1],\n",
              "              mask=[False, False, False, False, False, False, False, False,\n",
              "                    False, False, False, False],\n",
              "        fill_value='?',\n",
              "             dtype=object),\n",
              " 'params': [{'C': 1, 'gamma': 'scale'},\n",
              "  {'C': 1, 'gamma': 0.0001},\n",
              "  {'C': 1, 'gamma': 1},\n",
              "  {'C': 1, 'gamma': 0.1},\n",
              "  {'C': 10, 'gamma': 'scale'},\n",
              "  {'C': 10, 'gamma': 0.0001},\n",
              "  {'C': 10, 'gamma': 1},\n",
              "  {'C': 10, 'gamma': 0.1},\n",
              "  {'C': 100, 'gamma': 'scale'},\n",
              "  {'C': 100, 'gamma': 0.0001},\n",
              "  {'C': 100, 'gamma': 1},\n",
              "  {'C': 100, 'gamma': 0.1}],\n",
              " 'rank_test_score': array([3, 4, 4, 4, 1, 4, 4, 4, 1, 4, 4, 4], dtype=int32),\n",
              " 'split0_test_score': array([0.89221557, 0.11676647, 0.11676647, 0.11676647, 0.91017964,\n",
              "        0.11676647, 0.11676647, 0.11676647, 0.91017964, 0.11676647,\n",
              "        0.11676647, 0.11676647]),\n",
              " 'split1_test_score': array([0.90690691, 0.12012012, 0.12012012, 0.12012012, 0.91891892,\n",
              "        0.12012012, 0.12012012, 0.12012012, 0.91891892, 0.12012012,\n",
              "        0.12012012, 0.12012012]),\n",
              " 'split2_test_score': array([0.88288288, 0.11711712, 0.11711712, 0.11711712, 0.91291291,\n",
              "        0.11711712, 0.11711712, 0.11711712, 0.91291291, 0.11711712,\n",
              "        0.11711712, 0.11711712]),\n",
              " 'std_fit_time': array([0.0271761 , 0.00792921, 0.0187121 , 0.01071304, 0.03209822,\n",
              "        0.04432509, 0.01317932, 0.00974424, 0.02521888, 0.02183226,\n",
              "        0.00537188, 0.54385355]),\n",
              " 'std_score_time': array([0.01154271, 0.00491358, 0.00061907, 0.00950193, 0.00319968,\n",
              "        0.01571835, 0.00696083, 0.00449732, 0.0075511 , 0.00023645,\n",
              "        0.00142577, 0.14292566]),\n",
              " 'std_test_score': array([0.00988876, 0.0015051 , 0.0015051 , 0.0015051 , 0.00365023,\n",
              "        0.0015051 , 0.0015051 , 0.0015051 , 0.00365023, 0.0015051 ,\n",
              "        0.0015051 , 0.0015051 ])}"
            ]
          },
          "metadata": {
            "tags": []
          },
          "execution_count": 10
        }
      ]
    },
    {
      "cell_type": "code",
      "metadata": {
        "id": "0iC4DZd24Kn2",
        "colab_type": "code",
        "outputId": "caff5f28-3de3-44ba-92b9-a90b495b31bf",
        "colab": {
          "base_uri": "https://localhost:8080/",
          "height": 36
        }
      },
      "source": [
        "clf_SVC = SVC(kernel='rbf', gamma='scale', C=10).fit(X_train,y_train)\n",
        "clf_SVC.score(X_test,y_test)"
      ],
      "execution_count": 0,
      "outputs": [
        {
          "output_type": "execute_result",
          "data": {
            "text/plain": [
              "0.986"
            ]
          },
          "metadata": {
            "tags": []
          },
          "execution_count": 16
        }
      ]
    },
    {
      "cell_type": "code",
      "metadata": {
        "id": "kpCaogLw5YKK",
        "colab_type": "code",
        "outputId": "16004eec-cde6-42a6-830d-3102a9c75d55",
        "colab": {
          "base_uri": "https://localhost:8080/",
          "height": 36
        }
      },
      "source": [
        "#Standard\n",
        "clf_SVC2 = SVC(kernel='rbf').fit(X_train,y_train)\n",
        "clf_SVC2.score(X_test,y_test)"
      ],
      "execution_count": 0,
      "outputs": [
        {
          "output_type": "execute_result",
          "data": {
            "text/plain": [
              "0.9802857142857143"
            ]
          },
          "metadata": {
            "tags": []
          },
          "execution_count": 17
        }
      ]
    },
    {
      "cell_type": "markdown",
      "metadata": {
        "id": "IKYeE9ThqXWk",
        "colab_type": "text"
      },
      "source": [
        "### E1.2: Pipelines and simple Neural Networks\n",
        "Split the MNIST data into  train- and test-sets and then train and evaluate a simple Multi Layer Perceptron (MLP) network. Since the non-linear activation functions of MLPs are sensitive to the scaling on the input (recall the *sigmoid* function), we need to scale all input values to [0,1] \n",
        "\n",
        "* combine all steps of your training in a SKL pipeline (https://scikit-learn.org/stable/modules/compose.html#pipeline)\n",
        "* use a SKL-scaler to scale the data (https://scikit-learn.org/stable/modules/generated/sklearn.preprocessing.StandardScaler.html)\n",
        "* MLP Parameters: https://scikit-learn.org/stable/modules/generated/sklearn.neural_network.MLPClassifier.html#sklearn.neural_network.MLPClassifier\n",
        "    * use a *SGD* solver\n",
        "    * use *tanh* as activation function\n",
        "    * compare networks with 1, 2 and 3 layers, use different numbers of neurons per layer\n",
        "    * adjust training parameters *alpha* (regularization) and *learning rate* - how sensitive is the model to these parameters?\n",
        "    * Hint: do not change all parameters at the same time, split into several experiments\n",
        "* How hard is it to find the best parameters? How many experiments would you need to find the best parameters?\n",
        "    "
      ]
    },
    {
      "cell_type": "code",
      "metadata": {
        "id": "s_MTpYF4onha",
        "colab_type": "code",
        "outputId": "7025f5d4-9b0d-4daf-c980-16cb13b9fb3d",
        "colab": {
          "base_uri": "https://localhost:8080/",
          "height": 371
        }
      },
      "source": [
        "from sklearn.preprocessing import StandardScaler\n",
        "from sklearn.pipeline import make_pipeline\n",
        "from sklearn.neural_network import MLPClassifier\n",
        "\n",
        "clf = make_pipeline(StandardScaler(), MLPClassifier(activation='tanh', solver='sgd',hidden_layer_sizes=(64,64), alpha=1e-3, learning_rate='constant'))\n",
        "clf.fit(X_train, y_train)"
      ],
      "execution_count": 7,
      "outputs": [
        {
          "output_type": "stream",
          "text": [
            "/usr/local/lib/python3.6/dist-packages/sklearn/neural_network/_multilayer_perceptron.py:571: ConvergenceWarning: Stochastic Optimizer: Maximum iterations (200) reached and the optimization hasn't converged yet.\n",
            "  % self.max_iter, ConvergenceWarning)\n"
          ],
          "name": "stderr"
        },
        {
          "output_type": "execute_result",
          "data": {
            "text/plain": [
              "Pipeline(memory=None,\n",
              "         steps=[('standardscaler',\n",
              "                 StandardScaler(copy=True, with_mean=True, with_std=True)),\n",
              "                ('mlpclassifier',\n",
              "                 MLPClassifier(activation='tanh', alpha=0.001,\n",
              "                               batch_size='auto', beta_1=0.9, beta_2=0.999,\n",
              "                               early_stopping=False, epsilon=1e-08,\n",
              "                               hidden_layer_sizes=(64, 64),\n",
              "                               learning_rate='constant',\n",
              "                               learning_rate_init=0.001, max_fun=15000,\n",
              "                               max_iter=200, momentum=0.9, n_iter_no_change=10,\n",
              "                               nesterovs_momentum=True, power_t=0.5,\n",
              "                               random_state=None, shuffle=True, solver='sgd',\n",
              "                               tol=0.0001, validation_fraction=0.1,\n",
              "                               verbose=False, warm_start=False))],\n",
              "         verbose=False)"
            ]
          },
          "metadata": {
            "tags": []
          },
          "execution_count": 7
        }
      ]
    },
    {
      "cell_type": "code",
      "metadata": {
        "id": "tABzMkkvqXWl",
        "colab_type": "code",
        "outputId": "3d454d61-5aab-4be0-f026-2cdceddeb7c6",
        "colab": {
          "base_uri": "https://localhost:8080/",
          "height": 54
        }
      },
      "source": [
        "print(clf.score(X_train, y_train))\n",
        "print(clf.score(X_test, y_test))"
      ],
      "execution_count": 8,
      "outputs": [
        {
          "output_type": "stream",
          "text": [
            "0.9974920634920635\n",
            "0.9621428571428572\n"
          ],
          "name": "stdout"
        }
      ]
    },
    {
      "cell_type": "code",
      "metadata": {
        "id": "HVPO4lS9Jf5j",
        "colab_type": "code",
        "colab": {}
      },
      "source": [
        ""
      ],
      "execution_count": 0,
      "outputs": []
    },
    {
      "cell_type": "code",
      "metadata": {
        "id": "dttQ8S4IqXWw",
        "colab_type": "code",
        "colab": {}
      },
      "source": [
        ""
      ],
      "execution_count": 0,
      "outputs": []
    },
    {
      "cell_type": "markdown",
      "metadata": {
        "id": "dm5ii6-FIDuE",
        "colab_type": "text"
      },
      "source": [
        "Protokoll: Einstellungen und Test-Score\n",
        "\n",
        "hidden_layer_sizes=(5, 2), alpha=1e-5, learning_rate='invscaling' : 0.2097\n",
        "\n",
        "hidden_layer_sizes=(5,4,3), alpha=1e-5, learning_rate='invscaling' : 0.257\n",
        "\n",
        "hidden_layer_sizes=(5,4,3), alpha=1e-3, learning_rate='invscaling' : 0.3258\n",
        "\n",
        "hidden_layer_sizes=(5,4,3), alpha=1e-3, learning_rate='adaptive' : 0.8291\n",
        "\n",
        "hidden_layer_sizes=(10,4,3), alpha=1e-3, learning_rate='adaptive' : 0.8832\n",
        "\n",
        "hidden_layer_sizes=(5), alpha=1e-3, learning_rate='constant': 0.8 - konvergiert nicht\n",
        "\n",
        "hidden_layer_sizes=(5), alpha=1e-3, learning_rate='constant': 0.8847 - konvergiert nicht\n",
        "\n",
        "hidden_layer_sizes=(1), alpha=1e-3, learning_rate='constant': 0.33 - konvergiert nicht\n",
        "\n"
      ]
    },
    {
      "cell_type": "code",
      "metadata": {
        "id": "yNhZKj9eIVjL",
        "colab_type": "code",
        "colab": {}
      },
      "source": [
        ""
      ],
      "execution_count": 0,
      "outputs": []
    }
  ]
}