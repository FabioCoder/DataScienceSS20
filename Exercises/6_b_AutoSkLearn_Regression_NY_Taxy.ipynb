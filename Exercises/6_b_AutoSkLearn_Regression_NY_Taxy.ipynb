{
  "nbformat": 4,
  "nbformat_minor": 0,
  "metadata": {
    "kernelspec": {
      "display_name": "Python 3",
      "language": "python",
      "name": "python3"
    },
    "language_info": {
      "codemirror_mode": {
        "name": "ipython",
        "version": 3
      },
      "file_extension": ".py",
      "mimetype": "text/x-python",
      "name": "python",
      "nbconvert_exporter": "python",
      "pygments_lexer": "ipython3",
      "version": "3.7.6"
    },
    "colab": {
      "name": "6_b_AutoSkLearn_Regression_NY_Taxy.ipynb",
      "provenance": []
    }
  },
  "cells": [
    {
      "cell_type": "markdown",
      "metadata": {
        "id": "V4YSA3cQrEQP",
        "colab_type": "text"
      },
      "source": [
        "# Block 6 Exercise 2: finding the best parameters for predicting the fare of taxi rides\n",
        "We return to our Random Forest Regression and want to automatically optimize all free parameters ..."
      ]
    },
    {
      "cell_type": "code",
      "metadata": {
        "id": "Z5QGU3VNrEQS",
        "colab_type": "code",
        "colab": {}
      },
      "source": [
        "import pandas as pd\n",
        "import numpy as np\n",
        "import folium\n"
      ],
      "execution_count": 0,
      "outputs": []
    },
    {
      "cell_type": "code",
      "metadata": {
        "id": "6LGL_VIhrEQi",
        "colab_type": "code",
        "outputId": "6d9345f7-f83d-4c64-9561-703a876977c9",
        "colab": {
          "base_uri": "https://localhost:8080/",
          "height": 147
        }
      },
      "source": [
        "#check if notebook runs in colab\n",
        "import sys\n",
        "IN_COLAB = 'google.colab' in sys.modules\n",
        "print('running in Colab:',IN_COLAB)\n",
        "path='..'\n",
        "if IN_COLAB:\n",
        "  #in colab, we need to clone the data from the repo\n",
        "  !git clone https://github.com/keuperj/DataScienceSS20.git\n",
        "  path='DataScienceSS20'"
      ],
      "execution_count": 2,
      "outputs": [
        {
          "output_type": "stream",
          "text": [
            "running in Colab: True\n",
            "Cloning into 'DataScienceSS20'...\n",
            "remote: Enumerating objects: 550, done.\u001b[K\n",
            "remote: Total 550 (delta 0), reused 0 (delta 0), pack-reused 550\u001b[K\n",
            "Receiving objects: 100% (550/550), 122.05 MiB | 12.62 MiB/s, done.\n",
            "Resolving deltas: 100% (221/221), done.\n",
            "Checking out files: 100% (210/210), done.\n"
          ],
          "name": "stdout"
        }
      ]
    },
    {
      "cell_type": "code",
      "metadata": {
        "id": "JAf9oQHSrEQ0",
        "colab_type": "code",
        "colab": {}
      },
      "source": [
        "# we load the data we have saved after wrangling and pre-processing in block I\n",
        "X=pd.read_csv(path+'/DATA/train_cleaned.csv')\n",
        "drop_columns=['Unnamed: 0','Unnamed: 0.1','Unnamed: 0.1.1','key','pickup_datetime','pickup_date','pickup_latitude_round3','pickup_longitude_round3','dropoff_latitude_round3','dropoff_longitude_round3']\n",
        "X=X.drop(drop_columns,axis=1)\n",
        "X=pd.get_dummies(X)# one hot coding\n",
        "#generate labels\n",
        "y=X['fare_amount']\n",
        "X=X.drop(['fare_amount'],axis=1)"
      ],
      "execution_count": 0,
      "outputs": []
    },
    {
      "cell_type": "markdown",
      "metadata": {
        "id": "vw6Ew_-orERB",
        "colab_type": "text"
      },
      "source": [
        "### Scikit Optimize\n",
        "Scikit Optimize (https://scikit-optimize.github.io/stable/index.html) is a AutoML toolbox wrapped around Scikit-Learn. It allows us to use state-of-the-art automatic hyper-parameter optimization on top of our learning algorithms.   \n",
        "\n"
      ]
    },
    {
      "cell_type": "code",
      "metadata": {
        "id": "YFTbpIgDrERC",
        "colab_type": "code",
        "outputId": "eb6c914d-b2b7-42d6-9b0c-05c3c2674661",
        "colab": {
          "base_uri": "https://localhost:8080/",
          "height": 260
        }
      },
      "source": [
        "# install \n",
        "!pip install scikit-optimize"
      ],
      "execution_count": 4,
      "outputs": [
        {
          "output_type": "stream",
          "text": [
            "Collecting scikit-optimize\n",
            "\u001b[?25l  Downloading https://files.pythonhosted.org/packages/5c/87/310b52debfbc0cb79764e5770fa3f5c18f6f0754809ea9e2fc185e1b67d3/scikit_optimize-0.7.4-py2.py3-none-any.whl (80kB)\n",
            "\r\u001b[K     |████                            | 10kB 18.6MB/s eta 0:00:01\r\u001b[K     |████████▏                       | 20kB 1.6MB/s eta 0:00:01\r\u001b[K     |████████████▎                   | 30kB 2.2MB/s eta 0:00:01\r\u001b[K     |████████████████▎               | 40kB 2.5MB/s eta 0:00:01\r\u001b[K     |████████████████████▍           | 51kB 1.9MB/s eta 0:00:01\r\u001b[K     |████████████████████████▌       | 61kB 2.2MB/s eta 0:00:01\r\u001b[K     |████████████████████████████▌   | 71kB 2.4MB/s eta 0:00:01\r\u001b[K     |████████████████████████████████| 81kB 2.2MB/s \n",
            "\u001b[?25hRequirement already satisfied: scikit-learn>=0.19.1 in /usr/local/lib/python3.6/dist-packages (from scikit-optimize) (0.22.2.post1)\n",
            "Requirement already satisfied: numpy>=1.11.0 in /usr/local/lib/python3.6/dist-packages (from scikit-optimize) (1.18.4)\n",
            "Collecting pyaml>=16.9\n",
            "  Downloading https://files.pythonhosted.org/packages/15/c4/1310a054d33abc318426a956e7d6df0df76a6ddfa9c66f6310274fb75d42/pyaml-20.4.0-py2.py3-none-any.whl\n",
            "Requirement already satisfied: scipy>=0.18.0 in /usr/local/lib/python3.6/dist-packages (from scikit-optimize) (1.4.1)\n",
            "Requirement already satisfied: joblib>=0.11 in /usr/local/lib/python3.6/dist-packages (from scikit-optimize) (0.15.0)\n",
            "Requirement already satisfied: PyYAML in /usr/local/lib/python3.6/dist-packages (from pyaml>=16.9->scikit-optimize) (3.13)\n",
            "Installing collected packages: pyaml, scikit-optimize\n",
            "Successfully installed pyaml-20.4.0 scikit-optimize-0.7.4\n"
          ],
          "name": "stdout"
        }
      ]
    },
    {
      "cell_type": "markdown",
      "metadata": {
        "id": "1Usj5zkrrERL",
        "colab_type": "text"
      },
      "source": [
        "### E 2.1 Bayesian Optimization of a Random Forest Regression Model\n",
        "use Bayesian Optimization with Cross-Validation (https://scikit-optimize.github.io/stable/modules/generated/skopt.BayesSearchCV.html#skopt.BayesSearchCV) to find the best regression model. Compare\n",
        "* linear regression (https://scikit-learn.org/stable/modules/generated/sklearn.linear_model.LinearRegression.html#sklearn.linear_model.LinearRegression) \n",
        "* Random Forest regression (https://scikit-learn.org/stable/modules/generated/sklearn.ensemble.RandomForestRegressor.html#sklearn.ensemble.RandomForestRegressor)\n",
        "* and SVM regression (https://scikit-learn.org/stable/modules/generated/sklearn.svm.SVR.html#sklearn.svm.SVR)\n",
        "\n",
        "NOTES: this can become quite compute intensive! Hence,\n",
        "* use a smaller subset of the training data to run the experiments \n",
        "* think about the range of your parameters (e.g. larger number of trees in RF or high C-values in SMV will make models expensive)\n",
        "* optimize only the following parameters per model type:\n",
        "    * linear: no parameters to optimize\n",
        "    * RF: #trees and depth\n",
        "    * SVM: C and gamma (use RBF kernel)\n",
        "* parallelize -> n_jobs\n",
        "* use CoLab to rum the job for up to 12h \n"
      ]
    },
    {
      "cell_type": "code",
      "metadata": {
        "id": "ln6a9zmArERN",
        "colab_type": "code",
        "colab": {}
      },
      "source": [
        "mask = X['pickup_year']< 2015\n",
        "X_train = X[mask] \n",
        "y_train = y[mask]\n",
        "\n",
        "X_test = X[mask==False] \n",
        "y_test = y[mask==False]"
      ],
      "execution_count": 0,
      "outputs": []
    },
    {
      "cell_type": "code",
      "metadata": {
        "id": "Ax7IlCp6THrz",
        "colab_type": "code",
        "colab": {}
      },
      "source": [
        "from skopt import BayesSearchCV\n",
        "from sklearn.pipeline import Pipeline\n",
        "from sklearn.linear_model import LinearRegression\n",
        "from sklearn.svm import SVR\n",
        "from sklearn.ensemble import RandomForestRegressor\n",
        "\n",
        "pipe = Pipeline([('model', LinearRegression())])\n",
        "\n",
        "clf = BayesSearchCV(\n",
        "     pipe,\n",
        "     {\n",
        "          'model': \n",
        "          [\n",
        "            LinearRegression(),\n",
        "            SVR(kernel='rbf',C=10, gamma=0.0001),\n",
        "            RandomForestRegressor(random_state=0, n_jobs=4, n_estimators=99, max_depth=23)\n",
        "          ]\n",
        "     },\n",
        "     n_iter=32,\n",
        "     n_jobs = 4,\n",
        "     scoring='neg_mean_squared_error'\n",
        " )"
      ],
      "execution_count": 0,
      "outputs": []
    },
    {
      "cell_type": "code",
      "metadata": {
        "id": "NuOk4aOATH1m",
        "colab_type": "code",
        "colab": {
          "base_uri": "https://localhost:8080/",
          "height": 403
        },
        "outputId": "52279808-f2d7-44b6-f831-9a945b741442"
      },
      "source": [
        "clf.fit(X_train[:10000], y_train[:10000])"
      ],
      "execution_count": 37,
      "outputs": [
        {
          "output_type": "error",
          "ename": "RuntimeError",
          "evalue": "ignored",
          "traceback": [
            "\u001b[0;31m---------------------------------------------------------------------------\u001b[0m",
            "\u001b[0;31mRuntimeError\u001b[0m                              Traceback (most recent call last)",
            "\u001b[0;32m<ipython-input-37-7cc3b92a0adb>\u001b[0m in \u001b[0;36m<module>\u001b[0;34m()\u001b[0m\n\u001b[0;32m----> 1\u001b[0;31m \u001b[0mclf\u001b[0m\u001b[0;34m.\u001b[0m\u001b[0mfit\u001b[0m\u001b[0;34m(\u001b[0m\u001b[0mX_train\u001b[0m\u001b[0;34m[\u001b[0m\u001b[0;34m:\u001b[0m\u001b[0;36m10000\u001b[0m\u001b[0;34m]\u001b[0m\u001b[0;34m,\u001b[0m \u001b[0my_train\u001b[0m\u001b[0;34m[\u001b[0m\u001b[0;34m:\u001b[0m\u001b[0;36m10000\u001b[0m\u001b[0;34m]\u001b[0m\u001b[0;34m)\u001b[0m\u001b[0;34m\u001b[0m\u001b[0;34m\u001b[0m\u001b[0m\n\u001b[0m",
            "\u001b[0;32m/usr/local/lib/python3.6/dist-packages/skopt/searchcv.py\u001b[0m in \u001b[0;36mfit\u001b[0;34m(self, X, y, groups, callback)\u001b[0m\n\u001b[1;32m    678\u001b[0m                 optim_result = self._step(\n\u001b[1;32m    679\u001b[0m                     \u001b[0mX\u001b[0m\u001b[0;34m,\u001b[0m \u001b[0my\u001b[0m\u001b[0;34m,\u001b[0m \u001b[0msearch_space\u001b[0m\u001b[0;34m,\u001b[0m \u001b[0moptimizer\u001b[0m\u001b[0;34m,\u001b[0m\u001b[0;34m\u001b[0m\u001b[0;34m\u001b[0m\u001b[0m\n\u001b[0;32m--> 680\u001b[0;31m                     \u001b[0mgroups\u001b[0m\u001b[0;34m=\u001b[0m\u001b[0mgroups\u001b[0m\u001b[0;34m,\u001b[0m \u001b[0mn_points\u001b[0m\u001b[0;34m=\u001b[0m\u001b[0mn_points_adjusted\u001b[0m\u001b[0;34m\u001b[0m\u001b[0;34m\u001b[0m\u001b[0m\n\u001b[0m\u001b[1;32m    681\u001b[0m                 )\n\u001b[1;32m    682\u001b[0m                 \u001b[0mn_iter\u001b[0m \u001b[0;34m-=\u001b[0m \u001b[0mn_points\u001b[0m\u001b[0;34m\u001b[0m\u001b[0;34m\u001b[0m\u001b[0m\n",
            "\u001b[0;32m/usr/local/lib/python3.6/dist-packages/skopt/searchcv.py\u001b[0m in \u001b[0;36m_step\u001b[0;34m(self, X, y, search_space, optimizer, groups, n_points)\u001b[0m\n\u001b[1;32m    550\u001b[0m \u001b[0;34m\u001b[0m\u001b[0m\n\u001b[1;32m    551\u001b[0m         \u001b[0;31m# get parameter values to evaluate\u001b[0m\u001b[0;34m\u001b[0m\u001b[0;34m\u001b[0m\u001b[0;34m\u001b[0m\u001b[0m\n\u001b[0;32m--> 552\u001b[0;31m         \u001b[0mparams\u001b[0m \u001b[0;34m=\u001b[0m \u001b[0moptimizer\u001b[0m\u001b[0;34m.\u001b[0m\u001b[0mask\u001b[0m\u001b[0;34m(\u001b[0m\u001b[0mn_points\u001b[0m\u001b[0;34m=\u001b[0m\u001b[0mn_points\u001b[0m\u001b[0;34m)\u001b[0m\u001b[0;34m\u001b[0m\u001b[0;34m\u001b[0m\u001b[0m\n\u001b[0m\u001b[1;32m    553\u001b[0m \u001b[0;34m\u001b[0m\u001b[0m\n\u001b[1;32m    554\u001b[0m         \u001b[0;31m# convert parameters to python native types\u001b[0m\u001b[0;34m\u001b[0m\u001b[0;34m\u001b[0m\u001b[0;34m\u001b[0m\u001b[0m\n",
            "\u001b[0;32m/usr/local/lib/python3.6/dist-packages/skopt/optimizer/optimizer.py\u001b[0m in \u001b[0;36mask\u001b[0;34m(self, n_points, strategy)\u001b[0m\n\u001b[1;32m    358\u001b[0m         \u001b[0mX\u001b[0m \u001b[0;34m=\u001b[0m \u001b[0;34m[\u001b[0m\u001b[0;34m]\u001b[0m\u001b[0;34m\u001b[0m\u001b[0;34m\u001b[0m\u001b[0m\n\u001b[1;32m    359\u001b[0m         \u001b[0;32mfor\u001b[0m \u001b[0mi\u001b[0m \u001b[0;32min\u001b[0m \u001b[0mrange\u001b[0m\u001b[0;34m(\u001b[0m\u001b[0mn_points\u001b[0m\u001b[0;34m)\u001b[0m\u001b[0;34m:\u001b[0m\u001b[0;34m\u001b[0m\u001b[0;34m\u001b[0m\u001b[0m\n\u001b[0;32m--> 360\u001b[0;31m             \u001b[0mx\u001b[0m \u001b[0;34m=\u001b[0m \u001b[0mopt\u001b[0m\u001b[0;34m.\u001b[0m\u001b[0mask\u001b[0m\u001b[0;34m(\u001b[0m\u001b[0;34m)\u001b[0m\u001b[0;34m\u001b[0m\u001b[0;34m\u001b[0m\u001b[0m\n\u001b[0m\u001b[1;32m    361\u001b[0m             \u001b[0mX\u001b[0m\u001b[0;34m.\u001b[0m\u001b[0mappend\u001b[0m\u001b[0;34m(\u001b[0m\u001b[0mx\u001b[0m\u001b[0;34m)\u001b[0m\u001b[0;34m\u001b[0m\u001b[0;34m\u001b[0m\u001b[0m\n\u001b[1;32m    362\u001b[0m \u001b[0;34m\u001b[0m\u001b[0m\n",
            "\u001b[0;32m/usr/local/lib/python3.6/dist-packages/skopt/optimizer/optimizer.py\u001b[0m in \u001b[0;36mask\u001b[0;34m(self, n_points, strategy)\u001b[0m\n\u001b[1;32m    330\u001b[0m         \"\"\"\n\u001b[1;32m    331\u001b[0m         \u001b[0;32mif\u001b[0m \u001b[0mn_points\u001b[0m \u001b[0;32mis\u001b[0m \u001b[0;32mNone\u001b[0m\u001b[0;34m:\u001b[0m\u001b[0;34m\u001b[0m\u001b[0;34m\u001b[0m\u001b[0m\n\u001b[0;32m--> 332\u001b[0;31m             \u001b[0;32mreturn\u001b[0m \u001b[0mself\u001b[0m\u001b[0;34m.\u001b[0m\u001b[0m_ask\u001b[0m\u001b[0;34m(\u001b[0m\u001b[0;34m)\u001b[0m\u001b[0;34m\u001b[0m\u001b[0;34m\u001b[0m\u001b[0m\n\u001b[0m\u001b[1;32m    333\u001b[0m \u001b[0;34m\u001b[0m\u001b[0m\n\u001b[1;32m    334\u001b[0m         \u001b[0msupported_strategies\u001b[0m \u001b[0;34m=\u001b[0m \u001b[0;34m[\u001b[0m\u001b[0;34m\"cl_min\"\u001b[0m\u001b[0;34m,\u001b[0m \u001b[0;34m\"cl_mean\"\u001b[0m\u001b[0;34m,\u001b[0m \u001b[0;34m\"cl_max\"\u001b[0m\u001b[0;34m]\u001b[0m\u001b[0;34m\u001b[0m\u001b[0;34m\u001b[0m\u001b[0m\n",
            "\u001b[0;32m/usr/local/lib/python3.6/dist-packages/skopt/optimizer/optimizer.py\u001b[0m in \u001b[0;36m_ask\u001b[0;34m(self)\u001b[0m\n\u001b[1;32m    405\u001b[0m             \u001b[0mnext_x\u001b[0m \u001b[0;34m=\u001b[0m \u001b[0mself\u001b[0m\u001b[0;34m.\u001b[0m\u001b[0m_next_x\u001b[0m\u001b[0;34m\u001b[0m\u001b[0;34m\u001b[0m\u001b[0m\n\u001b[1;32m    406\u001b[0m             min_delta_x = min([self.space.distance(next_x, xi)\n\u001b[0;32m--> 407\u001b[0;31m                                for xi in self.Xi])\n\u001b[0m\u001b[1;32m    408\u001b[0m             \u001b[0;32mif\u001b[0m \u001b[0mabs\u001b[0m\u001b[0;34m(\u001b[0m\u001b[0mmin_delta_x\u001b[0m\u001b[0;34m)\u001b[0m \u001b[0;34m<=\u001b[0m \u001b[0;36m1e-8\u001b[0m\u001b[0;34m:\u001b[0m\u001b[0;34m\u001b[0m\u001b[0;34m\u001b[0m\u001b[0m\n\u001b[1;32m    409\u001b[0m                 warnings.warn(\"The objective has been evaluated \"\n",
            "\u001b[0;32m/usr/local/lib/python3.6/dist-packages/skopt/optimizer/optimizer.py\u001b[0m in \u001b[0;36m<listcomp>\u001b[0;34m(.0)\u001b[0m\n\u001b[1;32m    405\u001b[0m             \u001b[0mnext_x\u001b[0m \u001b[0;34m=\u001b[0m \u001b[0mself\u001b[0m\u001b[0;34m.\u001b[0m\u001b[0m_next_x\u001b[0m\u001b[0;34m\u001b[0m\u001b[0;34m\u001b[0m\u001b[0m\n\u001b[1;32m    406\u001b[0m             min_delta_x = min([self.space.distance(next_x, xi)\n\u001b[0;32m--> 407\u001b[0;31m                                for xi in self.Xi])\n\u001b[0m\u001b[1;32m    408\u001b[0m             \u001b[0;32mif\u001b[0m \u001b[0mabs\u001b[0m\u001b[0;34m(\u001b[0m\u001b[0mmin_delta_x\u001b[0m\u001b[0;34m)\u001b[0m \u001b[0;34m<=\u001b[0m \u001b[0;36m1e-8\u001b[0m\u001b[0;34m:\u001b[0m\u001b[0;34m\u001b[0m\u001b[0;34m\u001b[0m\u001b[0m\n\u001b[1;32m    409\u001b[0m                 warnings.warn(\"The objective has been evaluated \"\n",
            "\u001b[0;32m/usr/local/lib/python3.6/dist-packages/skopt/space/space.py\u001b[0m in \u001b[0;36mdistance\u001b[0;34m(self, point_a, point_b)\u001b[0m\n\u001b[1;32m    921\u001b[0m         \u001b[0mdistance\u001b[0m \u001b[0;34m=\u001b[0m \u001b[0;36m0.\u001b[0m\u001b[0;34m\u001b[0m\u001b[0;34m\u001b[0m\u001b[0m\n\u001b[1;32m    922\u001b[0m         \u001b[0;32mfor\u001b[0m \u001b[0ma\u001b[0m\u001b[0;34m,\u001b[0m \u001b[0mb\u001b[0m\u001b[0;34m,\u001b[0m \u001b[0mdim\u001b[0m \u001b[0;32min\u001b[0m \u001b[0mzip\u001b[0m\u001b[0;34m(\u001b[0m\u001b[0mpoint_a\u001b[0m\u001b[0;34m,\u001b[0m \u001b[0mpoint_b\u001b[0m\u001b[0;34m,\u001b[0m \u001b[0mself\u001b[0m\u001b[0;34m.\u001b[0m\u001b[0mdimensions\u001b[0m\u001b[0;34m)\u001b[0m\u001b[0;34m:\u001b[0m\u001b[0;34m\u001b[0m\u001b[0;34m\u001b[0m\u001b[0m\n\u001b[0;32m--> 923\u001b[0;31m             \u001b[0mdistance\u001b[0m \u001b[0;34m+=\u001b[0m \u001b[0mdim\u001b[0m\u001b[0;34m.\u001b[0m\u001b[0mdistance\u001b[0m\u001b[0;34m(\u001b[0m\u001b[0ma\u001b[0m\u001b[0;34m,\u001b[0m \u001b[0mb\u001b[0m\u001b[0;34m)\u001b[0m\u001b[0;34m\u001b[0m\u001b[0;34m\u001b[0m\u001b[0m\n\u001b[0m\u001b[1;32m    924\u001b[0m \u001b[0;34m\u001b[0m\u001b[0m\n\u001b[1;32m    925\u001b[0m         \u001b[0;32mreturn\u001b[0m \u001b[0mdistance\u001b[0m\u001b[0;34m\u001b[0m\u001b[0;34m\u001b[0m\u001b[0m\n",
            "\u001b[0;32m/usr/local/lib/python3.6/dist-packages/skopt/space/space.py\u001b[0m in \u001b[0;36mdistance\u001b[0;34m(self, a, b)\u001b[0m\n\u001b[1;32m    625\u001b[0m         \u001b[0;32mif\u001b[0m \u001b[0;32mnot\u001b[0m \u001b[0;34m(\u001b[0m\u001b[0ma\u001b[0m \u001b[0;32min\u001b[0m \u001b[0mself\u001b[0m \u001b[0;32mand\u001b[0m \u001b[0mb\u001b[0m \u001b[0;32min\u001b[0m \u001b[0mself\u001b[0m\u001b[0;34m)\u001b[0m\u001b[0;34m:\u001b[0m\u001b[0;34m\u001b[0m\u001b[0;34m\u001b[0m\u001b[0m\n\u001b[1;32m    626\u001b[0m             raise RuntimeError(\"Can only compute distance for values within\"\n\u001b[0;32m--> 627\u001b[0;31m                                \" the space, not {} and {}.\".format(a, b))\n\u001b[0m\u001b[1;32m    628\u001b[0m         \u001b[0;32mreturn\u001b[0m \u001b[0;36m1\u001b[0m \u001b[0;32mif\u001b[0m \u001b[0ma\u001b[0m \u001b[0;34m!=\u001b[0m \u001b[0mb\u001b[0m \u001b[0;32melse\u001b[0m \u001b[0;36m0\u001b[0m\u001b[0;34m\u001b[0m\u001b[0;34m\u001b[0m\u001b[0m\n\u001b[1;32m    629\u001b[0m \u001b[0;34m\u001b[0m\u001b[0m\n",
            "\u001b[0;31mRuntimeError\u001b[0m: Can only compute distance for values within the space, not LinearRegression(copy_X=True,\n                 fit_intercept=\"RandomForestRegressor(bootstrap=True, ccp_alpha=0.0, criterion='mse',\\n                      max_depth=23, max_features='auto', max_leaf_nodes=None,\\n                      max_samples=None, min_impurity_decrease=0.0,\\n                      min_impurity_split=None, min_samples_leaf=1,\\n                      min_samples_split=2, min_weight_fraction_leaf=0.0,\\n                      n_estimators=99, n_jobs=4, oob_score=False,\\n                      random_state=0, verbose=0, warm_start=False)\",\n                 n_jobs=None, normalize=False) and SVR(C=10, cache_size=200, coef0=0.0, degree=3, epsilon=0.1, gamma=0.0001,\n    kernel='rbf', max_iter=-1, shrinking=True, tol=0.001, verbose=False)."
          ]
        }
      ]
    },
    {
      "cell_type": "code",
      "metadata": {
        "id": "7wPcHnrkTH81",
        "colab_type": "code",
        "colab": {
          "base_uri": "https://localhost:8080/",
          "height": 1000
        },
        "outputId": "e6f1ce0e-a689-4517-a486-fe845ab4226c"
      },
      "source": [
        "clf.cv_results_"
      ],
      "execution_count": 38,
      "outputs": [
        {
          "output_type": "execute_result",
          "data": {
            "text/plain": [
              "defaultdict(list,\n",
              "            {'mean_fit_time': [14.705779790878296,\n",
              "              13.996438455581664,\n",
              "              16.57693428993225,\n",
              "              13.983858585357666,\n",
              "              16.65515990257263,\n",
              "              13.876861095428467,\n",
              "              16.54414529800415,\n",
              "              16.586374378204347,\n",
              "              0.016764020919799803,\n",
              "              16.60833740234375],\n",
              "             'mean_score_time': [2.1896780490875245,\n",
              "              2.245754528045654,\n",
              "              0.16235089302062988,\n",
              "              2.3081761837005614,\n",
              "              0.142340087890625,\n",
              "              2.2293888092041017,\n",
              "              0.17940421104431153,\n",
              "              0.16782126426696778,\n",
              "              0.002165555953979492,\n",
              "              0.14847445487976074],\n",
              "             'mean_test_score': [-34.48438355799728,\n",
              "              -34.48438355799728,\n",
              "              -17.860200116357397,\n",
              "              -34.48438355799728,\n",
              "              -17.8602001163574,\n",
              "              -34.48438355799728,\n",
              "              -17.8602001163574,\n",
              "              -17.8602001163574,\n",
              "              -30.919056610845704,\n",
              "              -17.8602001163574],\n",
              "             'param_model': [SVR(C=10, cache_size=200, coef0=0.0, degree=3, epsilon=0.1, gamma=0.0001,\n",
              "                  kernel='rbf', max_iter=-1, shrinking=True, tol=0.001, verbose=False),\n",
              "              SVR(C=10, cache_size=200, coef0=0.0, degree=3, epsilon=0.1, gamma=0.0001,\n",
              "                  kernel='rbf', max_iter=-1, shrinking=True, tol=0.001, verbose=False),\n",
              "              RandomForestRegressor(bootstrap=True, ccp_alpha=0.0, criterion='mse',\n",
              "                                    max_depth=23, max_features='auto', max_leaf_nodes=None,\n",
              "                                    max_samples=None, min_impurity_decrease=0.0,\n",
              "                                    min_impurity_split=None, min_samples_leaf=1,\n",
              "                                    min_samples_split=2, min_weight_fraction_leaf=0.0,\n",
              "                                    n_estimators=99, n_jobs=4, oob_score=False,\n",
              "                                    random_state=0, verbose=0, warm_start=False),\n",
              "              SVR(C=10, cache_size=200, coef0=0.0, degree=3, epsilon=0.1, gamma=0.0001,\n",
              "                  kernel='rbf', max_iter=-1, shrinking=True, tol=0.001, verbose=False),\n",
              "              RandomForestRegressor(bootstrap=True, ccp_alpha=0.0, criterion='mse',\n",
              "                                    max_depth=23, max_features='auto', max_leaf_nodes=None,\n",
              "                                    max_samples=None, min_impurity_decrease=0.0,\n",
              "                                    min_impurity_split=None, min_samples_leaf=1,\n",
              "                                    min_samples_split=2, min_weight_fraction_leaf=0.0,\n",
              "                                    n_estimators=99, n_jobs=4, oob_score=False,\n",
              "                                    random_state=0, verbose=0, warm_start=False),\n",
              "              SVR(C=10, cache_size=200, coef0=0.0, degree=3, epsilon=0.1, gamma=0.0001,\n",
              "                  kernel='rbf', max_iter=-1, shrinking=True, tol=0.001, verbose=False),\n",
              "              RandomForestRegressor(bootstrap=True, ccp_alpha=0.0, criterion='mse',\n",
              "                                    max_depth=23, max_features='auto', max_leaf_nodes=None,\n",
              "                                    max_samples=None, min_impurity_decrease=0.0,\n",
              "                                    min_impurity_split=None, min_samples_leaf=1,\n",
              "                                    min_samples_split=2, min_weight_fraction_leaf=0.0,\n",
              "                                    n_estimators=99, n_jobs=4, oob_score=False,\n",
              "                                    random_state=0, verbose=0, warm_start=False),\n",
              "              RandomForestRegressor(bootstrap=True, ccp_alpha=0.0, criterion='mse',\n",
              "                                    max_depth=23, max_features='auto', max_leaf_nodes=None,\n",
              "                                    max_samples=None, min_impurity_decrease=0.0,\n",
              "                                    min_impurity_split=None, min_samples_leaf=1,\n",
              "                                    min_samples_split=2, min_weight_fraction_leaf=0.0,\n",
              "                                    n_estimators=99, n_jobs=4, oob_score=False,\n",
              "                                    random_state=0, verbose=0, warm_start=False),\n",
              "              LinearRegression(copy_X=True, fit_intercept=True, n_jobs=None, normalize=False),\n",
              "              RandomForestRegressor(bootstrap=True, ccp_alpha=0.0, criterion='mse',\n",
              "                                    max_depth=23, max_features='auto', max_leaf_nodes=None,\n",
              "                                    max_samples=None, min_impurity_decrease=0.0,\n",
              "                                    min_impurity_split=None, min_samples_leaf=1,\n",
              "                                    min_samples_split=2, min_weight_fraction_leaf=0.0,\n",
              "                                    n_estimators=99, n_jobs=4, oob_score=False,\n",
              "                                    random_state=0, verbose=0, warm_start=False)],\n",
              "             'params': [OrderedDict([('model',\n",
              "                            SVR(C=10, cache_size=200, coef0=0.0, degree=3, epsilon=0.1, gamma=0.0001,\n",
              "                                kernel='rbf', max_iter=-1, shrinking=True, tol=0.001, verbose=False))]),\n",
              "              OrderedDict([('model',\n",
              "                            SVR(C=10, cache_size=200, coef0=0.0, degree=3, epsilon=0.1, gamma=0.0001,\n",
              "                                kernel='rbf', max_iter=-1, shrinking=True, tol=0.001, verbose=False))]),\n",
              "              OrderedDict([('model',\n",
              "                            RandomForestRegressor(bootstrap=True, ccp_alpha=0.0, criterion='mse',\n",
              "                                                  max_depth=23, max_features='auto', max_leaf_nodes=None,\n",
              "                                                  max_samples=None, min_impurity_decrease=0.0,\n",
              "                                                  min_impurity_split=None, min_samples_leaf=1,\n",
              "                                                  min_samples_split=2, min_weight_fraction_leaf=0.0,\n",
              "                                                  n_estimators=99, n_jobs=4, oob_score=False,\n",
              "                                                  random_state=0, verbose=0, warm_start=False))]),\n",
              "              OrderedDict([('model',\n",
              "                            SVR(C=10, cache_size=200, coef0=0.0, degree=3, epsilon=0.1, gamma=0.0001,\n",
              "                                kernel='rbf', max_iter=-1, shrinking=True, tol=0.001, verbose=False))]),\n",
              "              OrderedDict([('model',\n",
              "                            RandomForestRegressor(bootstrap=True, ccp_alpha=0.0, criterion='mse',\n",
              "                                                  max_depth=23, max_features='auto', max_leaf_nodes=None,\n",
              "                                                  max_samples=None, min_impurity_decrease=0.0,\n",
              "                                                  min_impurity_split=None, min_samples_leaf=1,\n",
              "                                                  min_samples_split=2, min_weight_fraction_leaf=0.0,\n",
              "                                                  n_estimators=99, n_jobs=4, oob_score=False,\n",
              "                                                  random_state=0, verbose=0, warm_start=False))]),\n",
              "              OrderedDict([('model',\n",
              "                            SVR(C=10, cache_size=200, coef0=0.0, degree=3, epsilon=0.1, gamma=0.0001,\n",
              "                                kernel='rbf', max_iter=-1, shrinking=True, tol=0.001, verbose=False))]),\n",
              "              OrderedDict([('model',\n",
              "                            RandomForestRegressor(bootstrap=True, ccp_alpha=0.0, criterion='mse',\n",
              "                                                  max_depth=23, max_features='auto', max_leaf_nodes=None,\n",
              "                                                  max_samples=None, min_impurity_decrease=0.0,\n",
              "                                                  min_impurity_split=None, min_samples_leaf=1,\n",
              "                                                  min_samples_split=2, min_weight_fraction_leaf=0.0,\n",
              "                                                  n_estimators=99, n_jobs=4, oob_score=False,\n",
              "                                                  random_state=0, verbose=0, warm_start=False))]),\n",
              "              OrderedDict([('model',\n",
              "                            RandomForestRegressor(bootstrap=True, ccp_alpha=0.0, criterion='mse',\n",
              "                                                  max_depth=23, max_features='auto', max_leaf_nodes=None,\n",
              "                                                  max_samples=None, min_impurity_decrease=0.0,\n",
              "                                                  min_impurity_split=None, min_samples_leaf=1,\n",
              "                                                  min_samples_split=2, min_weight_fraction_leaf=0.0,\n",
              "                                                  n_estimators=99, n_jobs=4, oob_score=False,\n",
              "                                                  random_state=0, verbose=0, warm_start=False))]),\n",
              "              OrderedDict([('model',\n",
              "                            LinearRegression(copy_X=True, fit_intercept=True, n_jobs=None, normalize=False))]),\n",
              "              OrderedDict([('model',\n",
              "                            RandomForestRegressor(bootstrap=True, ccp_alpha=0.0, criterion='mse',\n",
              "                                                  max_depth=23, max_features='auto', max_leaf_nodes=None,\n",
              "                                                  max_samples=None, min_impurity_decrease=0.0,\n",
              "                                                  min_impurity_split=None, min_samples_leaf=1,\n",
              "                                                  min_samples_split=2, min_weight_fraction_leaf=0.0,\n",
              "                                                  n_estimators=99, n_jobs=4, oob_score=False,\n",
              "                                                  random_state=0, verbose=0, warm_start=False))])],\n",
              "             'rank_test_score': [7, 7, 1, 7, 2, 7, 2, 2, 6, 2],\n",
              "             'split0_test_score': [-46.05757716261189,\n",
              "              -46.05757716261189,\n",
              "              -29.119451378178134,\n",
              "              -46.05757716261189,\n",
              "              -29.119451378178134,\n",
              "              -46.05757716261189,\n",
              "              -29.11945137817813,\n",
              "              -29.11945137817813,\n",
              "              -40.74937524566449,\n",
              "              -29.11945137817813],\n",
              "             'split1_test_score': [-26.362751860368046,\n",
              "              -26.362751860368046,\n",
              "              -11.77297680045131,\n",
              "              -26.362751860368046,\n",
              "              -11.77297680045131,\n",
              "              -26.362751860368046,\n",
              "              -11.77297680045131,\n",
              "              -11.77297680045131,\n",
              "              -21.67734697428595,\n",
              "              -11.77297680045131],\n",
              "             'split2_test_score': [-33.35293859435534,\n",
              "              -33.35293859435534,\n",
              "              -18.31019185312823,\n",
              "              -33.35293859435534,\n",
              "              -18.31019185312823,\n",
              "              -33.35293859435534,\n",
              "              -18.310191853128234,\n",
              "              -18.310191853128234,\n",
              "              -25.969345220507698,\n",
              "              -18.31019185312823],\n",
              "             'split3_test_score': [-27.949471563976196,\n",
              "              -27.949471563976196,\n",
              "              -14.870104149306709,\n",
              "              -27.949471563976196,\n",
              "              -14.870104149306714,\n",
              "              -27.949471563976196,\n",
              "              -14.870104149306714,\n",
              "              -14.87010414930671,\n",
              "              -31.15017830165641,\n",
              "              -14.87010414930671],\n",
              "             'split4_test_score': [-38.69917860867493,\n",
              "              -38.69917860867493,\n",
              "              -15.22827640072261,\n",
              "              -38.69917860867493,\n",
              "              -15.22827640072261,\n",
              "              -38.69917860867493,\n",
              "              -15.228276400722612,\n",
              "              -15.22827640072261,\n",
              "              -35.04903731211398,\n",
              "              -15.228276400722612],\n",
              "             'std_fit_time': [4.2293793299007,\n",
              "              3.9218714242066604,\n",
              "              5.821292146286011,\n",
              "              3.880828048349386,\n",
              "              5.787114280386619,\n",
              "              3.8806981627391144,\n",
              "              5.778602244385237,\n",
              "              5.805706566468273,\n",
              "              0.0031184471761691803,\n",
              "              5.858832948929583],\n",
              "             'std_score_time': [0.6384535968566779,\n",
              "              0.6680950471578948,\n",
              "              0.06842630990899168,\n",
              "              0.7291703167008917,\n",
              "              0.0565423985585912,\n",
              "              0.6463191602002212,\n",
              "              0.05314032374958801,\n",
              "              0.06433481368834484,\n",
              "              0.0003923241289644365,\n",
              "              0.043455243502658954],\n",
              "             'std_test_score': [7.2339401633742675,\n",
              "              7.2339401633742675,\n",
              "              5.998253338677489,\n",
              "              7.2339401633742675,\n",
              "              5.998253338677489,\n",
              "              7.2339401633742675,\n",
              "              5.998253338677487,\n",
              "              5.998253338677487,\n",
              "              6.688111275165812,\n",
              "              5.998253338677487]})"
            ]
          },
          "metadata": {
            "tags": []
          },
          "execution_count": 38
        }
      ]
    },
    {
      "cell_type": "code",
      "metadata": {
        "id": "yiy6ZWrLbEVk",
        "colab_type": "code",
        "colab": {
          "base_uri": "https://localhost:8080/",
          "height": 166
        },
        "outputId": "d195454a-6ced-451c-b5f4-cbe44911826b"
      },
      "source": [
        "clf.best_params_"
      ],
      "execution_count": 39,
      "outputs": [
        {
          "output_type": "execute_result",
          "data": {
            "text/plain": [
              "OrderedDict([('model',\n",
              "              RandomForestRegressor(bootstrap=True, ccp_alpha=0.0, criterion='mse',\n",
              "                                    max_depth=23, max_features='auto', max_leaf_nodes=None,\n",
              "                                    max_samples=None, min_impurity_decrease=0.0,\n",
              "                                    min_impurity_split=None, min_samples_leaf=1,\n",
              "                                    min_samples_split=2, min_weight_fraction_leaf=0.0,\n",
              "                                    n_estimators=99, n_jobs=4, oob_score=False,\n",
              "                                    random_state=0, verbose=0, warm_start=False))])"
            ]
          },
          "metadata": {
            "tags": []
          },
          "execution_count": 39
        }
      ]
    },
    {
      "cell_type": "code",
      "metadata": {
        "id": "dMKLoJcfc404",
        "colab_type": "code",
        "colab": {}
      },
      "source": [
        ""
      ],
      "execution_count": 0,
      "outputs": []
    }
  ]
}