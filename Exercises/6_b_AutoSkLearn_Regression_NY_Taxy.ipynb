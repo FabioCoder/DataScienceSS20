{
  "nbformat": 4,
  "nbformat_minor": 0,
  "metadata": {
    "kernelspec": {
      "display_name": "Python 3",
      "language": "python",
      "name": "python3"
    },
    "language_info": {
      "codemirror_mode": {
        "name": "ipython",
        "version": 3
      },
      "file_extension": ".py",
      "mimetype": "text/x-python",
      "name": "python",
      "nbconvert_exporter": "python",
      "pygments_lexer": "ipython3",
      "version": "3.7.6"
    },
    "colab": {
      "name": "6_b_AutoSkLearn_Regression_NY_Taxy.ipynb",
      "provenance": []
    }
  },
  "cells": [
    {
      "cell_type": "markdown",
      "metadata": {
        "id": "V4YSA3cQrEQP",
        "colab_type": "text"
      },
      "source": [
        "# Block 6 Exercise 2: finding the best parameters for predicting the fare of taxi rides\n",
        "We return to our Random Forest Regression and want to automatically optimize all free parameters ..."
      ]
    },
    {
      "cell_type": "code",
      "metadata": {
        "id": "Z5QGU3VNrEQS",
        "colab_type": "code",
        "colab": {}
      },
      "source": [
        "import pandas as pd\n",
        "import numpy as np\n",
        "import folium\n"
      ],
      "execution_count": 0,
      "outputs": []
    },
    {
      "cell_type": "code",
      "metadata": {
        "id": "6LGL_VIhrEQi",
        "colab_type": "code",
        "colab": {
          "base_uri": "https://localhost:8080/",
          "height": 54
        },
        "outputId": "21912b21-b09b-4626-c482-6cace8bd7cb6"
      },
      "source": [
        "#check if notebook runs in colab\n",
        "import sys\n",
        "IN_COLAB = 'google.colab' in sys.modules\n",
        "print('running in Colab:',IN_COLAB)\n",
        "path='..'\n",
        "if IN_COLAB:\n",
        "  #in colab, we need to clone the data from the repo\n",
        "  !git clone https://github.com/keuperj/DataScienceSS20.git\n",
        "  path='DataScienceSS20'"
      ],
      "execution_count": 17,
      "outputs": [
        {
          "output_type": "stream",
          "text": [
            "running in Colab: True\n",
            "fatal: destination path 'DataScienceSS20' already exists and is not an empty directory.\n"
          ],
          "name": "stdout"
        }
      ]
    },
    {
      "cell_type": "code",
      "metadata": {
        "id": "JAf9oQHSrEQ0",
        "colab_type": "code",
        "colab": {}
      },
      "source": [
        "# we load the data we have saved after wrangling and pre-processing in block I\n",
        "X=pd.read_csv(path+'/DATA/train_cleaned.csv')\n",
        "drop_columns=['Unnamed: 0','Unnamed: 0.1','Unnamed: 0.1.1','key','pickup_datetime','pickup_date','pickup_latitude_round3','pickup_longitude_round3','dropoff_latitude_round3','dropoff_longitude_round3']\n",
        "X=X.drop(drop_columns,axis=1)\n",
        "X=pd.get_dummies(X)# one hot coding\n",
        "#generate labels\n",
        "y=X['fare_amount']\n",
        "X=X.drop(['fare_amount'],axis=1)"
      ],
      "execution_count": 0,
      "outputs": []
    },
    {
      "cell_type": "markdown",
      "metadata": {
        "id": "vw6Ew_-orERB",
        "colab_type": "text"
      },
      "source": [
        "### Scikit Optimize\n",
        "Scikit Optimize (https://scikit-optimize.github.io/stable/index.html) is a AutoML toolbox wrapped around Scikit-Learn. It allows us to use state-of-the-art automatic hyper-parameter optimization on top of our learning algorithms.   \n",
        "\n"
      ]
    },
    {
      "cell_type": "code",
      "metadata": {
        "id": "YFTbpIgDrERC",
        "colab_type": "code",
        "colab": {
          "base_uri": "https://localhost:8080/",
          "height": 147
        },
        "outputId": "c6889bb9-ce57-434f-9699-35fedcfb3bae"
      },
      "source": [
        "# install \n",
        "!pip install scikit-optimize"
      ],
      "execution_count": 19,
      "outputs": [
        {
          "output_type": "stream",
          "text": [
            "Requirement already satisfied: scikit-optimize in /usr/local/lib/python3.6/dist-packages (0.7.4)\n",
            "Requirement already satisfied: numpy>=1.11.0 in /usr/local/lib/python3.6/dist-packages (from scikit-optimize) (1.18.4)\n",
            "Requirement already satisfied: pyaml>=16.9 in /usr/local/lib/python3.6/dist-packages (from scikit-optimize) (20.4.0)\n",
            "Requirement already satisfied: scipy>=0.18.0 in /usr/local/lib/python3.6/dist-packages (from scikit-optimize) (1.4.1)\n",
            "Requirement already satisfied: joblib>=0.11 in /usr/local/lib/python3.6/dist-packages (from scikit-optimize) (0.14.1)\n",
            "Requirement already satisfied: scikit-learn>=0.19.1 in /usr/local/lib/python3.6/dist-packages (from scikit-optimize) (0.22.2.post1)\n",
            "Requirement already satisfied: PyYAML in /usr/local/lib/python3.6/dist-packages (from pyaml>=16.9->scikit-optimize) (3.13)\n"
          ],
          "name": "stdout"
        }
      ]
    },
    {
      "cell_type": "markdown",
      "metadata": {
        "id": "1Usj5zkrrERL",
        "colab_type": "text"
      },
      "source": [
        "### E 2.1 Bayesian Optimization of a Random Forest Regression Model\n",
        "use Bayesian Optimization with Cross-Validation (https://scikit-optimize.github.io/stable/modules/generated/skopt.BayesSearchCV.html#skopt.BayesSearchCV) to find the best regression model. Compare\n",
        "* linear regression (https://scikit-learn.org/stable/modules/generated/sklearn.linear_model.LinearRegression.html#sklearn.linear_model.LinearRegression) \n",
        "* Random Forest regression (https://scikit-learn.org/stable/modules/generated/sklearn.ensemble.RandomForestRegressor.html#sklearn.ensemble.RandomForestRegressor)\n",
        "* and SVM regression (https://scikit-learn.org/stable/modules/generated/sklearn.svm.SVR.html#sklearn.svm.SVR)\n",
        "\n",
        "NOTES: this can become quite compute intensive! Hence,\n",
        "* use a smaller subset of the training data to run the experiments \n",
        "* think about the range of your parameters (e.g. larger number of trees in RF or high C-values in SMV will make models expensive)\n",
        "* optimize only the following parameters per model type:\n",
        "    * linear: no parameters to optimize\n",
        "    * RF: #trees and depth\n",
        "    * SVM: C and gamma (use RBF kernel)\n",
        "* parallelize -> n_jobs\n",
        "* use CoLab to rum the job for up to 12h \n"
      ]
    },
    {
      "cell_type": "code",
      "metadata": {
        "id": "ln6a9zmArERN",
        "colab_type": "code",
        "colab": {}
      },
      "source": [
        "import sklearn.model_selection\n",
        "X_train, X_test, y_train, y_test = sklearn.model_selection.train_test_split(X, y, train_size=6/7)"
      ],
      "execution_count": 0,
      "outputs": []
    },
    {
      "cell_type": "code",
      "metadata": {
        "id": "H7CCqDlWsUmC",
        "colab_type": "code",
        "colab": {}
      },
      "source": [
        "#smaller subset of training data\n",
        "X_modelOpt, _, y_modelOpt, _ = sklearn.model_selection.train_test_split(X_train, y_train, train_size=0.2)"
      ],
      "execution_count": 0,
      "outputs": []
    },
    {
      "cell_type": "code",
      "metadata": {
        "id": "S7uDQZmNsy--",
        "colab_type": "code",
        "colab": {}
      },
      "source": [
        "#Linear Regression\n",
        "from sklearn.linear_model import LinearRegression\n",
        "linear_reg = LinearRegression().fit(X_modelOpt, y_modelOpt)"
      ],
      "execution_count": 0,
      "outputs": []
    },
    {
      "cell_type": "code",
      "metadata": {
        "id": "UafRcfoftv7L",
        "colab_type": "code",
        "colab": {}
      },
      "source": [
        "from skopt import BayesSearchCV\n",
        "import numpy as np"
      ],
      "execution_count": 0,
      "outputs": []
    },
    {
      "cell_type": "code",
      "metadata": {
        "id": "fASqFQDAtlL0",
        "colab_type": "code",
        "colab": {
          "base_uri": "https://localhost:8080/",
          "height": 1000
        },
        "outputId": "00bc76f6-9ad1-4c2d-d33d-0847ff2914a0"
      },
      "source": [
        "%%time\n",
        "#Random Forest regression\n",
        "from sklearn.ensemble import RandomForestRegressor\n",
        "\n",
        "rf_reg = RandomForestRegressor(random_state=0, n_jobs=4)\n",
        "\n",
        "rf_opt = BayesSearchCV(\n",
        "     rf_reg,\n",
        "     {\n",
        "         'n_estimators': np.arange(10,100),\n",
        "         'max_depth': np.arange(2,30)\n",
        "     },\n",
        "     n_iter=32,\n",
        "     n_jobs = 4,\n",
        "     random_state=0\n",
        " )\n",
        "\n",
        "rf_opt.fit(X_modelOpt, y_modelOpt)\n",
        "\n",
        "print(rf_opt.best_params_)\n",
        "print(rf_opt.cv_results_)"
      ],
      "execution_count": 16,
      "outputs": [
        {
          "output_type": "stream",
          "text": [
            "/usr/local/lib/python3.6/dist-packages/joblib/externals/loky/process_executor.py:706: UserWarning: A worker stopped while some jobs were given to the executor. This can be caused by a too short worker timeout or by a memory leak.\n",
            "  \"timeout or by a memory leak.\", UserWarning\n",
            "/usr/local/lib/python3.6/dist-packages/skopt/learning/gaussian_process/gpr.py:294: FutureWarning: Beginning in version 0.22, arrays of bytes/strings will be converted to decimal numbers if dtype='numeric'. It is recommended that you convert the array to a float dtype before using it in scikit-learn, for example by using your_array = your_array.astype(np.float64).\n",
            "  X = check_array(X)\n",
            "/usr/local/lib/python3.6/dist-packages/skopt/learning/gaussian_process/gpr.py:294: FutureWarning: Beginning in version 0.22, arrays of bytes/strings will be converted to decimal numbers if dtype='numeric'. It is recommended that you convert the array to a float dtype before using it in scikit-learn, for example by using your_array = your_array.astype(np.float64).\n",
            "  X = check_array(X)\n",
            "/usr/local/lib/python3.6/dist-packages/skopt/learning/gaussian_process/gpr.py:294: FutureWarning: Beginning in version 0.22, arrays of bytes/strings will be converted to decimal numbers if dtype='numeric'. It is recommended that you convert the array to a float dtype before using it in scikit-learn, for example by using your_array = your_array.astype(np.float64).\n",
            "  X = check_array(X)\n",
            "/usr/local/lib/python3.6/dist-packages/skopt/learning/gaussian_process/gpr.py:294: FutureWarning: Beginning in version 0.22, arrays of bytes/strings will be converted to decimal numbers if dtype='numeric'. It is recommended that you convert the array to a float dtype before using it in scikit-learn, for example by using your_array = your_array.astype(np.float64).\n",
            "  X = check_array(X)\n",
            "/usr/local/lib/python3.6/dist-packages/skopt/learning/gaussian_process/gpr.py:294: FutureWarning: Beginning in version 0.22, arrays of bytes/strings will be converted to decimal numbers if dtype='numeric'. It is recommended that you convert the array to a float dtype before using it in scikit-learn, for example by using your_array = your_array.astype(np.float64).\n",
            "  X = check_array(X)\n",
            "/usr/local/lib/python3.6/dist-packages/skopt/learning/gaussian_process/gpr.py:294: FutureWarning: Beginning in version 0.22, arrays of bytes/strings will be converted to decimal numbers if dtype='numeric'. It is recommended that you convert the array to a float dtype before using it in scikit-learn, for example by using your_array = your_array.astype(np.float64).\n",
            "  X = check_array(X)\n",
            "/usr/local/lib/python3.6/dist-packages/skopt/learning/gaussian_process/gpr.py:294: FutureWarning: Beginning in version 0.22, arrays of bytes/strings will be converted to decimal numbers if dtype='numeric'. It is recommended that you convert the array to a float dtype before using it in scikit-learn, for example by using your_array = your_array.astype(np.float64).\n",
            "  X = check_array(X)\n",
            "/usr/local/lib/python3.6/dist-packages/skopt/learning/gaussian_process/gpr.py:294: FutureWarning: Beginning in version 0.22, arrays of bytes/strings will be converted to decimal numbers if dtype='numeric'. It is recommended that you convert the array to a float dtype before using it in scikit-learn, for example by using your_array = your_array.astype(np.float64).\n",
            "  X = check_array(X)\n",
            "/usr/local/lib/python3.6/dist-packages/skopt/learning/gaussian_process/gpr.py:294: FutureWarning: Beginning in version 0.22, arrays of bytes/strings will be converted to decimal numbers if dtype='numeric'. It is recommended that you convert the array to a float dtype before using it in scikit-learn, for example by using your_array = your_array.astype(np.float64).\n",
            "  X = check_array(X)\n",
            "/usr/local/lib/python3.6/dist-packages/skopt/learning/gaussian_process/gpr.py:294: FutureWarning: Beginning in version 0.22, arrays of bytes/strings will be converted to decimal numbers if dtype='numeric'. It is recommended that you convert the array to a float dtype before using it in scikit-learn, for example by using your_array = your_array.astype(np.float64).\n",
            "  X = check_array(X)\n",
            "/usr/local/lib/python3.6/dist-packages/skopt/learning/gaussian_process/gpr.py:294: FutureWarning: Beginning in version 0.22, arrays of bytes/strings will be converted to decimal numbers if dtype='numeric'. It is recommended that you convert the array to a float dtype before using it in scikit-learn, for example by using your_array = your_array.astype(np.float64).\n",
            "  X = check_array(X)\n",
            "/usr/local/lib/python3.6/dist-packages/skopt/learning/gaussian_process/gpr.py:294: FutureWarning: Beginning in version 0.22, arrays of bytes/strings will be converted to decimal numbers if dtype='numeric'. It is recommended that you convert the array to a float dtype before using it in scikit-learn, for example by using your_array = your_array.astype(np.float64).\n",
            "  X = check_array(X)\n",
            "/usr/local/lib/python3.6/dist-packages/skopt/learning/gaussian_process/gpr.py:294: FutureWarning: Beginning in version 0.22, arrays of bytes/strings will be converted to decimal numbers if dtype='numeric'. It is recommended that you convert the array to a float dtype before using it in scikit-learn, for example by using your_array = your_array.astype(np.float64).\n",
            "  X = check_array(X)\n",
            "/usr/local/lib/python3.6/dist-packages/skopt/learning/gaussian_process/gpr.py:294: FutureWarning: Beginning in version 0.22, arrays of bytes/strings will be converted to decimal numbers if dtype='numeric'. It is recommended that you convert the array to a float dtype before using it in scikit-learn, for example by using your_array = your_array.astype(np.float64).\n",
            "  X = check_array(X)\n",
            "/usr/local/lib/python3.6/dist-packages/skopt/learning/gaussian_process/gpr.py:294: FutureWarning: Beginning in version 0.22, arrays of bytes/strings will be converted to decimal numbers if dtype='numeric'. It is recommended that you convert the array to a float dtype before using it in scikit-learn, for example by using your_array = your_array.astype(np.float64).\n",
            "  X = check_array(X)\n",
            "/usr/local/lib/python3.6/dist-packages/skopt/learning/gaussian_process/gpr.py:294: FutureWarning: Beginning in version 0.22, arrays of bytes/strings will be converted to decimal numbers if dtype='numeric'. It is recommended that you convert the array to a float dtype before using it in scikit-learn, for example by using your_array = your_array.astype(np.float64).\n",
            "  X = check_array(X)\n",
            "/usr/local/lib/python3.6/dist-packages/skopt/learning/gaussian_process/gpr.py:294: FutureWarning: Beginning in version 0.22, arrays of bytes/strings will be converted to decimal numbers if dtype='numeric'. It is recommended that you convert the array to a float dtype before using it in scikit-learn, for example by using your_array = your_array.astype(np.float64).\n",
            "  X = check_array(X)\n",
            "/usr/local/lib/python3.6/dist-packages/skopt/learning/gaussian_process/gpr.py:294: FutureWarning: Beginning in version 0.22, arrays of bytes/strings will be converted to decimal numbers if dtype='numeric'. It is recommended that you convert the array to a float dtype before using it in scikit-learn, for example by using your_array = your_array.astype(np.float64).\n",
            "  X = check_array(X)\n",
            "/usr/local/lib/python3.6/dist-packages/skopt/learning/gaussian_process/gpr.py:294: FutureWarning: Beginning in version 0.22, arrays of bytes/strings will be converted to decimal numbers if dtype='numeric'. It is recommended that you convert the array to a float dtype before using it in scikit-learn, for example by using your_array = your_array.astype(np.float64).\n",
            "  X = check_array(X)\n",
            "/usr/local/lib/python3.6/dist-packages/skopt/learning/gaussian_process/gpr.py:294: FutureWarning: Beginning in version 0.22, arrays of bytes/strings will be converted to decimal numbers if dtype='numeric'. It is recommended that you convert the array to a float dtype before using it in scikit-learn, for example by using your_array = your_array.astype(np.float64).\n",
            "  X = check_array(X)\n",
            "/usr/local/lib/python3.6/dist-packages/skopt/learning/gaussian_process/gpr.py:294: FutureWarning: Beginning in version 0.22, arrays of bytes/strings will be converted to decimal numbers if dtype='numeric'. It is recommended that you convert the array to a float dtype before using it in scikit-learn, for example by using your_array = your_array.astype(np.float64).\n",
            "  X = check_array(X)\n",
            "/usr/local/lib/python3.6/dist-packages/skopt/learning/gaussian_process/gpr.py:294: FutureWarning: Beginning in version 0.22, arrays of bytes/strings will be converted to decimal numbers if dtype='numeric'. It is recommended that you convert the array to a float dtype before using it in scikit-learn, for example by using your_array = your_array.astype(np.float64).\n",
            "  X = check_array(X)\n",
            "/usr/local/lib/python3.6/dist-packages/skopt/learning/gaussian_process/gpr.py:294: FutureWarning: Beginning in version 0.22, arrays of bytes/strings will be converted to decimal numbers if dtype='numeric'. It is recommended that you convert the array to a float dtype before using it in scikit-learn, for example by using your_array = your_array.astype(np.float64).\n",
            "  X = check_array(X)\n",
            "/usr/local/lib/python3.6/dist-packages/skopt/learning/gaussian_process/gpr.py:294: FutureWarning: Beginning in version 0.22, arrays of bytes/strings will be converted to decimal numbers if dtype='numeric'. It is recommended that you convert the array to a float dtype before using it in scikit-learn, for example by using your_array = your_array.astype(np.float64).\n",
            "  X = check_array(X)\n",
            "/usr/local/lib/python3.6/dist-packages/skopt/learning/gaussian_process/gpr.py:294: FutureWarning: Beginning in version 0.22, arrays of bytes/strings will be converted to decimal numbers if dtype='numeric'. It is recommended that you convert the array to a float dtype before using it in scikit-learn, for example by using your_array = your_array.astype(np.float64).\n",
            "  X = check_array(X)\n",
            "/usr/local/lib/python3.6/dist-packages/skopt/learning/gaussian_process/gpr.py:294: FutureWarning: Beginning in version 0.22, arrays of bytes/strings will be converted to decimal numbers if dtype='numeric'. It is recommended that you convert the array to a float dtype before using it in scikit-learn, for example by using your_array = your_array.astype(np.float64).\n",
            "  X = check_array(X)\n",
            "/usr/local/lib/python3.6/dist-packages/skopt/learning/gaussian_process/gpr.py:294: FutureWarning: Beginning in version 0.22, arrays of bytes/strings will be converted to decimal numbers if dtype='numeric'. It is recommended that you convert the array to a float dtype before using it in scikit-learn, for example by using your_array = your_array.astype(np.float64).\n",
            "  X = check_array(X)\n",
            "/usr/local/lib/python3.6/dist-packages/skopt/learning/gaussian_process/gpr.py:294: FutureWarning: Beginning in version 0.22, arrays of bytes/strings will be converted to decimal numbers if dtype='numeric'. It is recommended that you convert the array to a float dtype before using it in scikit-learn, for example by using your_array = your_array.astype(np.float64).\n",
            "  X = check_array(X)\n",
            "/usr/local/lib/python3.6/dist-packages/skopt/learning/gaussian_process/gpr.py:294: FutureWarning: Beginning in version 0.22, arrays of bytes/strings will be converted to decimal numbers if dtype='numeric'. It is recommended that you convert the array to a float dtype before using it in scikit-learn, for example by using your_array = your_array.astype(np.float64).\n",
            "  X = check_array(X)\n",
            "/usr/local/lib/python3.6/dist-packages/skopt/learning/gaussian_process/gpr.py:294: FutureWarning: Beginning in version 0.22, arrays of bytes/strings will be converted to decimal numbers if dtype='numeric'. It is recommended that you convert the array to a float dtype before using it in scikit-learn, for example by using your_array = your_array.astype(np.float64).\n",
            "  X = check_array(X)\n",
            "/usr/local/lib/python3.6/dist-packages/skopt/learning/gaussian_process/gpr.py:294: FutureWarning: Beginning in version 0.22, arrays of bytes/strings will be converted to decimal numbers if dtype='numeric'. It is recommended that you convert the array to a float dtype before using it in scikit-learn, for example by using your_array = your_array.astype(np.float64).\n",
            "  X = check_array(X)\n",
            "/usr/local/lib/python3.6/dist-packages/skopt/learning/gaussian_process/gpr.py:294: FutureWarning: Beginning in version 0.22, arrays of bytes/strings will be converted to decimal numbers if dtype='numeric'. It is recommended that you convert the array to a float dtype before using it in scikit-learn, for example by using your_array = your_array.astype(np.float64).\n",
            "  X = check_array(X)\n",
            "/usr/local/lib/python3.6/dist-packages/skopt/learning/gaussian_process/gpr.py:294: FutureWarning: Beginning in version 0.22, arrays of bytes/strings will be converted to decimal numbers if dtype='numeric'. It is recommended that you convert the array to a float dtype before using it in scikit-learn, for example by using your_array = your_array.astype(np.float64).\n",
            "  X = check_array(X)\n",
            "/usr/local/lib/python3.6/dist-packages/skopt/learning/gaussian_process/gpr.py:294: FutureWarning: Beginning in version 0.22, arrays of bytes/strings will be converted to decimal numbers if dtype='numeric'. It is recommended that you convert the array to a float dtype before using it in scikit-learn, for example by using your_array = your_array.astype(np.float64).\n",
            "  X = check_array(X)\n",
            "/usr/local/lib/python3.6/dist-packages/skopt/learning/gaussian_process/gpr.py:294: FutureWarning: Beginning in version 0.22, arrays of bytes/strings will be converted to decimal numbers if dtype='numeric'. It is recommended that you convert the array to a float dtype before using it in scikit-learn, for example by using your_array = your_array.astype(np.float64).\n",
            "  X = check_array(X)\n",
            "/usr/local/lib/python3.6/dist-packages/skopt/learning/gaussian_process/gpr.py:294: FutureWarning: Beginning in version 0.22, arrays of bytes/strings will be converted to decimal numbers if dtype='numeric'. It is recommended that you convert the array to a float dtype before using it in scikit-learn, for example by using your_array = your_array.astype(np.float64).\n",
            "  X = check_array(X)\n",
            "/usr/local/lib/python3.6/dist-packages/skopt/learning/gaussian_process/gpr.py:294: FutureWarning: Beginning in version 0.22, arrays of bytes/strings will be converted to decimal numbers if dtype='numeric'. It is recommended that you convert the array to a float dtype before using it in scikit-learn, for example by using your_array = your_array.astype(np.float64).\n",
            "  X = check_array(X)\n",
            "/usr/local/lib/python3.6/dist-packages/joblib/externals/loky/process_executor.py:706: UserWarning: A worker stopped while some jobs were given to the executor. This can be caused by a too short worker timeout or by a memory leak.\n",
            "  \"timeout or by a memory leak.\", UserWarning\n",
            "/usr/local/lib/python3.6/dist-packages/skopt/learning/gaussian_process/gpr.py:294: FutureWarning: Beginning in version 0.22, arrays of bytes/strings will be converted to decimal numbers if dtype='numeric'. It is recommended that you convert the array to a float dtype before using it in scikit-learn, for example by using your_array = your_array.astype(np.float64).\n",
            "  X = check_array(X)\n",
            "/usr/local/lib/python3.6/dist-packages/skopt/learning/gaussian_process/gpr.py:294: FutureWarning: Beginning in version 0.22, arrays of bytes/strings will be converted to decimal numbers if dtype='numeric'. It is recommended that you convert the array to a float dtype before using it in scikit-learn, for example by using your_array = your_array.astype(np.float64).\n",
            "  X = check_array(X)\n",
            "/usr/local/lib/python3.6/dist-packages/skopt/learning/gaussian_process/gpr.py:294: FutureWarning: Beginning in version 0.22, arrays of bytes/strings will be converted to decimal numbers if dtype='numeric'. It is recommended that you convert the array to a float dtype before using it in scikit-learn, for example by using your_array = your_array.astype(np.float64).\n",
            "  X = check_array(X)\n",
            "/usr/local/lib/python3.6/dist-packages/skopt/learning/gaussian_process/gpr.py:294: FutureWarning: Beginning in version 0.22, arrays of bytes/strings will be converted to decimal numbers if dtype='numeric'. It is recommended that you convert the array to a float dtype before using it in scikit-learn, for example by using your_array = your_array.astype(np.float64).\n",
            "  X = check_array(X)\n",
            "/usr/local/lib/python3.6/dist-packages/skopt/learning/gaussian_process/gpr.py:294: FutureWarning: Beginning in version 0.22, arrays of bytes/strings will be converted to decimal numbers if dtype='numeric'. It is recommended that you convert the array to a float dtype before using it in scikit-learn, for example by using your_array = your_array.astype(np.float64).\n",
            "  X = check_array(X)\n",
            "/usr/local/lib/python3.6/dist-packages/skopt/learning/gaussian_process/gpr.py:294: FutureWarning: Beginning in version 0.22, arrays of bytes/strings will be converted to decimal numbers if dtype='numeric'. It is recommended that you convert the array to a float dtype before using it in scikit-learn, for example by using your_array = your_array.astype(np.float64).\n",
            "  X = check_array(X)\n",
            "/usr/local/lib/python3.6/dist-packages/skopt/learning/gaussian_process/gpr.py:294: FutureWarning: Beginning in version 0.22, arrays of bytes/strings will be converted to decimal numbers if dtype='numeric'. It is recommended that you convert the array to a float dtype before using it in scikit-learn, for example by using your_array = your_array.astype(np.float64).\n",
            "  X = check_array(X)\n"
          ],
          "name": "stderr"
        },
        {
          "output_type": "stream",
          "text": [
            "OrderedDict([('max_depth', 23), ('n_estimators', 99)])\n",
            "defaultdict(<class 'list'>, {'split0_test_score': [0.7236731622442991, 0.7173673523639572, 0.7171033873676415, 0.6938801472482039, 0.712286207872342, 0.7248856287426347, 0.7254908280351918, 0.7215417360728925, 0.6523648306876426, 0.7218777945575932, 0.7066290223371969, 0.7234024532824154, 0.7244437546367442, 0.7257835249582426, 0.7242536560746058, 0.724819708037777, 0.7167788223652999, 0.7216097174187501, 0.7259228391880881, 0.7257681526832145, 0.7169324471981378, 0.7236579622092443, 0.6776419643923728, 0.72561880295193, 0.7253312388572346, 0.7244270454180002, 0.7244349580938316, 0.7247713722633939, 0.7249319892167639, 0.7255411578764696, 0.7259650594137472, 0.7236477458710475], 'split1_test_score': [0.80559883084211, 0.8126666715401827, 0.7916401404431915, 0.8048782055592217, 0.8069599053493561, 0.8103193026823645, 0.804931223986058, 0.8029138037600902, 0.7646490028035826, 0.8001126978942308, 0.812668179380404, 0.806888126182409, 0.8069669280730705, 0.8067626690169419, 0.8075453619454817, 0.8084082694915496, 0.7938989726952805, 0.798852053677749, 0.8085855892817613, 0.809111128490922, 0.7924794114571609, 0.808346963643869, 0.7877176637533048, 0.8065592464572113, 0.8069015770150442, 0.8080481117829211, 0.8061208722320802, 0.8082621335760468, 0.8079586007624779, 0.8075970874797387, 0.8105138288120292, 0.8075155289047659], 'split2_test_score': [0.8224882068522161, 0.8170554211650685, 0.8232388901361829, 0.8069048353795433, 0.812964904178898, 0.8217282012705511, 0.8225699153856911, 0.824120509858101, 0.7758280521148052, 0.8197880801218911, 0.812616976353516, 0.8203238587934089, 0.8230506722956324, 0.8238384543502806, 0.8228712285690772, 0.824262597018665, 0.817334234333335, 0.8205555217608939, 0.8203666834417975, 0.8234285569459717, 0.819796549723058, 0.8206850914425234, 0.7941530809565162, 0.8245642752779664, 0.8229182819407075, 0.8231960479996798, 0.8243103478082586, 0.8245069776207363, 0.8237507927795092, 0.824704862647941, 0.823850697568599, 0.8241488511270221], 'split3_test_score': [0.8269026515391765, 0.8193677538183941, 0.8126383930924861, 0.8059951502404897, 0.8177073325625764, 0.8277449766622532, 0.8253347461015146, 0.8264146279827574, 0.7602866280677688, 0.823728405584101, 0.8147353059504132, 0.8258371915437492, 0.8268544109525884, 0.8253738468380425, 0.8269204889443412, 0.8255169032688137, 0.8077527287090216, 0.825663618219694, 0.8253926891559461, 0.8257097595727249, 0.8062058227855342, 0.8264619027773961, 0.7885842776467721, 0.8255506770217224, 0.8254306481732676, 0.8253785852439174, 0.8258876298047003, 0.8268297665733537, 0.8277684198014706, 0.8243269139785706, 0.8285583712904795, 0.8268821665006246], 'split4_test_score': [0.8317647220413861, 0.8256400837148389, 0.8077627801243079, 0.8101789524790909, 0.8193570247779463, 0.8324062552504926, 0.8301342692251326, 0.8303141430295554, 0.7709774008781073, 0.8275291822106701, 0.8173639784788107, 0.8308562681498495, 0.8316702823810402, 0.8298735067181509, 0.8320208943124632, 0.8313230789042156, 0.797300442194607, 0.8278765153553338, 0.8305619135482355, 0.8310612730420013, 0.797833350849018, 0.8315860072558061, 0.7953859726392882, 0.8310386190929869, 0.8302895719597545, 0.8301470043371358, 0.8299901912696904, 0.8323604398867076, 0.8325705160830477, 0.8304061997324789, 0.8327018363651351, 0.8330436180822238], 'mean_test_score': [0.802085196807437, 0.7984191755341586, 0.7904764881201972, 0.7843671814518003, 0.7938547870477206, 0.8034165619019539, 0.8016918927187417, 0.8010606455997015, 0.7448209401165372, 0.7986069168210916, 0.7928024212847508, 0.8014612659292345, 0.8025968985735131, 0.8023261052404566, 0.8027220139038875, 0.8028658132146134, 0.7866128544008604, 0.7989111602686166, 0.802165641789647, 0.803015478165655, 0.7866493370844959, 0.8021472719070778, 0.7686963201771905, 0.8026660251622546, 0.8021739639199938, 0.8022390611819203, 0.8021484989560845, 0.8033458317450991, 0.8033957513712302, 0.802514954410094, 0.8043176517139482, 0.8030472680841378], 'std_test_score': [0.04018434128832927, 0.040742071679481885, 0.038074580583364666, 0.04527837096389071, 0.04101157011858087, 0.039955967933680975, 0.039040977616750426, 0.0408829887159314, 0.046532080443572134, 0.03951177585359489, 0.04312196189733303, 0.03984150705260309, 0.03994773523140399, 0.039067480043471506, 0.04007637927544421, 0.03975594842639178, 0.03587439270741252, 0.03999682167245746, 0.0388106974487318, 0.03930050682902655, 0.036057652568654765, 0.040001374726063264, 0.04562611403672118, 0.03939474110397081, 0.039214520526627925, 0.039603015500300945, 0.03971166286683248, 0.04009814368328918, 0.040092280433238786, 0.039234989063363215, 0.03988079180584323, 0.04058931626697044], 'rank_test_score': [18, 24, 27, 30, 25, 2, 19, 21, 32, 23, 26, 20, 10, 12, 8, 7, 29, 22, 15, 6, 28, 17, 31, 9, 14, 13, 16, 4, 3, 11, 1, 5], 'mean_fit_time': [269.8045732498169, 240.72227635383607, 57.872653293609616, 134.30872559547424, 66.86308426856995, 483.98322739601133, 398.91868195533755, 218.1029296875, 100.91686048507691, 152.90757579803466, 133.7424120903015, 281.4011691093445, 278.4002750873566, 347.4975841999054, 285.4020308971405, 263.7066977977753, 41.4611834526062, 180.91608095169067, 350.4574827671051, 379.5876479148865, 44.86204357147217, 333.7663213253021, 102.81143999099731, 316.1031367778778, 240.7991144657135, 297.534308052063, 369.91652102470397, 451.1579103946686, 509.65928926467893, 338.6543684959412, 481.1654911518097, 345.9216757297516], 'std_fit_time': [98.66564258244709, 88.65696164575412, 21.209281719839012, 50.23630851546757, 24.794566116488614, 177.75247980483246, 145.43287478419995, 79.7120359603484, 37.524836556810826, 56.584206503927966, 49.49125001115639, 102.70259291740501, 102.56181196735965, 124.13704585657075, 103.15125305728833, 98.01755452763157, 15.188670093240244, 66.16700008494217, 128.10039303753868, 137.07280979293634, 16.490572368564255, 122.31981761619372, 38.10186412893857, 116.16093796656713, 89.23919970633041, 108.11281617963813, 134.07551856470093, 166.04441106370336, 183.27218515312757, 123.8760839676779, 176.87209656549953, 124.785157619374], 'mean_score_time': [0.8776184558868408, 0.5002705574035644, 0.23026022911071778, 0.3629293441772461, 0.19355130195617676, 2.9276410579681396, 2.320986270904541, 0.5843107223510742, 0.2902243614196777, 0.36187005043029785, 0.26794991493225095, 1.4003679275512695, 1.0547290802001954, 1.9359387397766112, 0.9925775051116943, 0.8905739784240723, 0.2090085506439209, 0.6281256198883056, 2.4646815776824953, 2.563254165649414, 0.2565304279327393, 1.2725374698638916, 0.26852707862854003, 1.68119478225708, 0.6593185424804687, 1.2145877838134767, 3.393459415435791, 2.2041155338287353, 3.5732758045196533, 1.7829551219940185, 3.8914740085601807, 1.2300183296203613], 'std_score_time': [0.2519068146472352, 0.14662485329506014, 0.06567424235859474, 0.10869524824369937, 0.06365174592888583, 1.3673701511958174, 0.6611354145790629, 0.1483613917610321, 0.10875003171769436, 0.09585199100417721, 0.09607090814963178, 0.5571426088786954, 0.37039266098241164, 0.6730052024437875, 0.317992050059405, 0.40153053835464864, 0.08137751072053707, 0.1769259526713013, 1.0906932724860452, 1.05679033655124, 0.08736230740738966, 0.4619727685321202, 0.0916242881340333, 0.6185292316549633, 0.20214695947006991, 0.43394270271008295, 1.2458713790713114, 0.8270887853089424, 1.2655811081925805, 0.7074161424753039, 0.4586029217840775, 0.4109972176502671], 'param_max_depth': [16, 9, 16, 6, 8, 25, 29, 16, 4, 12, 7, 17, 16, 24, 16, 15, 16, 17, 25, 27, 16, 17, 5, 20, 13, 18, 28, 21, 29, 22, 23, 14], 'param_n_estimators': [70, 98, 15, 80, 31, 99, 78, 57, 90, 49, 70, 70, 72, 72, 76, 72, 11, 46, 72, 76, 12, 84, 76, 72, 72, 72, 72, 99, 99, 72, 99, 99], 'params': [OrderedDict([('max_depth', 16), ('n_estimators', 70)]), OrderedDict([('max_depth', 9), ('n_estimators', 98)]), OrderedDict([('max_depth', 16), ('n_estimators', 15)]), OrderedDict([('max_depth', 6), ('n_estimators', 80)]), OrderedDict([('max_depth', 8), ('n_estimators', 31)]), OrderedDict([('max_depth', 25), ('n_estimators', 99)]), OrderedDict([('max_depth', 29), ('n_estimators', 78)]), OrderedDict([('max_depth', 16), ('n_estimators', 57)]), OrderedDict([('max_depth', 4), ('n_estimators', 90)]), OrderedDict([('max_depth', 12), ('n_estimators', 49)]), OrderedDict([('max_depth', 7), ('n_estimators', 70)]), OrderedDict([('max_depth', 17), ('n_estimators', 70)]), OrderedDict([('max_depth', 16), ('n_estimators', 72)]), OrderedDict([('max_depth', 24), ('n_estimators', 72)]), OrderedDict([('max_depth', 16), ('n_estimators', 76)]), OrderedDict([('max_depth', 15), ('n_estimators', 72)]), OrderedDict([('max_depth', 16), ('n_estimators', 11)]), OrderedDict([('max_depth', 17), ('n_estimators', 46)]), OrderedDict([('max_depth', 25), ('n_estimators', 72)]), OrderedDict([('max_depth', 27), ('n_estimators', 76)]), OrderedDict([('max_depth', 16), ('n_estimators', 12)]), OrderedDict([('max_depth', 17), ('n_estimators', 84)]), OrderedDict([('max_depth', 5), ('n_estimators', 76)]), OrderedDict([('max_depth', 20), ('n_estimators', 72)]), OrderedDict([('max_depth', 13), ('n_estimators', 72)]), OrderedDict([('max_depth', 18), ('n_estimators', 72)]), OrderedDict([('max_depth', 28), ('n_estimators', 72)]), OrderedDict([('max_depth', 21), ('n_estimators', 99)]), OrderedDict([('max_depth', 29), ('n_estimators', 99)]), OrderedDict([('max_depth', 22), ('n_estimators', 72)]), OrderedDict([('max_depth', 23), ('n_estimators', 99)]), OrderedDict([('max_depth', 14), ('n_estimators', 99)])]})\n",
            "CPU times: user 5min 45s, sys: 16.2 s, total: 6min 1s\n",
            "Wall time: 3h 29min 47s\n"
          ],
          "name": "stdout"
        }
      ]
    },
    {
      "cell_type": "code",
      "metadata": {
        "id": "1NWuFemNwSlI",
        "colab_type": "code",
        "colab": {}
      },
      "source": [
        "%%time\n",
        "#SVM regression\n",
        "from sklearn.svm import SVR\n",
        "\n",
        "svm_reg = SVR(kernel='rbf')\n",
        "\n",
        "svm_opt = BayesSearchCV(\n",
        "     svm_reg,\n",
        "     {\n",
        "        'C': np.arange(1,10),\n",
        "        'gamma': np.arange(0.0001,1,0.0001)\n",
        "     },\n",
        "     n_iter=32,\n",
        "     n_jobs=-1,\n",
        "     random_state=0\n",
        " )\n",
        "\n",
        "svm_opt.fit(X_modelOpt, y_modelOpt)\n",
        "\n",
        "print(svm_opt.best_params_)\n",
        "print(svm_opt.cv_results_)"
      ],
      "execution_count": 0,
      "outputs": []
    },
    {
      "cell_type": "code",
      "metadata": {
        "id": "VJvWfaD3zpsG",
        "colab_type": "code",
        "colab": {}
      },
      "source": [
        "SMTPserver = 'mx.freenet.de'\n",
        "sender =     'fabio.kraemer@freenet.de'\n",
        "destination = ['fabio.kraemer@freenet.de']\n",
        "\n",
        "USERNAME = \"fabio.kraemer@freenet.de\"\n",
        "PASSWORD = \"fTKDDez5pOD5Ju9RQzGt\"\n",
        "\n",
        "# typical values for text_subtype are plain, html, xml\n",
        "text_subtype = 'plain'\n",
        "\n",
        "\n",
        "content=\"\"\"\\\n",
        "Test message\n",
        "\"\"\"\n",
        "\n",
        "subject=\"Job AutoSk_Learn_regression_NY_Taxy hat terminiert.\"\n",
        "\n",
        "import sys\n",
        "import os\n",
        "import re\n",
        "\n",
        "from smtplib import SMTP_SSL as SMTP       # this invokes the secure SMTP protocol (port 465, uses SSL)\n",
        "# from smtplib import SMTP                  # use this for standard SMTP protocol   (port 25, no encryption)\n",
        "\n",
        "# old version\n",
        "# from email.MIMEText import MIMEText\n",
        "from email.mime.text import MIMEText\n",
        "\n",
        "try:\n",
        "    msg = MIMEText(content, text_subtype)\n",
        "    msg['Subject']=       subject\n",
        "    msg['From']   = sender # some SMTP servers will do this automatically, not all\n",
        "\n",
        "    conn = SMTP(SMTPserver)\n",
        "    conn.set_debuglevel(True)\n",
        "    conn.login(USERNAME, PASSWORD)\n",
        "    try:\n",
        "        conn.sendmail(sender, destination, msg.as_string())\n",
        "    finally:\n",
        "        conn.quit()\n",
        "\n",
        "except:\n",
        "    sys.exit( \"mail failed; %s\" % \"CUSTOM_ERROR\" ) # give an error message"
      ],
      "execution_count": 0,
      "outputs": []
    },
    {
      "cell_type": "code",
      "metadata": {
        "id": "t7bb6YN959R_",
        "colab_type": "code",
        "colab": {}
      },
      "source": [
        ""
      ],
      "execution_count": 0,
      "outputs": []
    }
  ]
}