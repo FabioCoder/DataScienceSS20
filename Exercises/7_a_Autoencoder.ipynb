{
  "nbformat": 4,
  "nbformat_minor": 0,
  "metadata": {
    "colab": {
      "name": "Exercise 1.ipynb",
      "provenance": []
    },
    "kernelspec": {
      "name": "python3",
      "display_name": "Python 3"
    },
    "accelerator": "GPU"
  },
  "cells": [
    {
      "cell_type": "markdown",
      "metadata": {
        "id": "Nb5B49Gt2Tfr",
        "colab_type": "text"
      },
      "source": [
        "# Excercise 1: Autoencoder\n",
        "\n",
        "We have allready seen a simple MLP model for **MNIST** classification:"
      ]
    },
    {
      "cell_type": "code",
      "metadata": {
        "id": "R0ja22Zw2a08",
        "colab_type": "code",
        "outputId": "43caa5ce-5756-4648-95c4-a767204dbca3",
        "colab": {
          "base_uri": "https://localhost:8080/",
          "height": 465
        }
      },
      "source": [
        "import numpy as np\n",
        "import tensorflow as tf\n",
        "from tensorflow import keras\n",
        "from tensorflow.keras import layers\n",
        "\n",
        "# Get the data as Numpy arrays\n",
        "(x_train, y_train), (x_test, y_test) = keras.datasets.mnist.load_data()\n",
        "\n",
        "# Build a simple model\n",
        "inputs = keras.Input(shape=(28, 28))\n",
        "l1 = layers.experimental.preprocessing.Rescaling(1.0 / 255)(inputs)\n",
        "l2 = layers.Flatten()(l1)\n",
        "l3 = layers.Dense(128, activation=\"tanh\")(l2)\n",
        "l4 = layers.Dense(128, activation=\"tanh\")(l3)\n",
        "outputs = layers.Dense(10, activation=\"softmax\")(l4)\n",
        "model = keras.Model(inputs, outputs)\n",
        "model.summary()\n",
        "\n",
        "# Compile the model\n",
        "model.compile(optimizer=\"adam\", loss=\"sparse_categorical_crossentropy\")\n",
        "\n",
        "# Train the model for 1 epoch from Numpy data\n",
        "batch_size = 64\n",
        "print(\"Fit on NumPy data\")\n",
        "history = model.fit(x_train, y_train, batch_size=batch_size, epochs=1)\n",
        "\n",
        "# Train the model for 1 epoch using a dataset\n",
        "dataset = tf.data.Dataset.from_tensor_slices((x_train, y_train)).batch(batch_size)\n",
        "print(\"Fit on Dataset\")\n",
        "history = model.fit(dataset, epochs=1)\n"
      ],
      "execution_count": 34,
      "outputs": [
        {
          "output_type": "stream",
          "text": [
            "Model: \"model_5\"\n",
            "_________________________________________________________________\n",
            "Layer (type)                 Output Shape              Param #   \n",
            "=================================================================\n",
            "input_6 (InputLayer)         [(None, 28, 28)]          0         \n",
            "_________________________________________________________________\n",
            "rescaling_1 (Rescaling)      (None, 28, 28)            0         \n",
            "_________________________________________________________________\n",
            "flatten_1 (Flatten)          (None, 784)               0         \n",
            "_________________________________________________________________\n",
            "dense_27 (Dense)             (None, 128)               100480    \n",
            "_________________________________________________________________\n",
            "dense_28 (Dense)             (None, 128)               16512     \n",
            "_________________________________________________________________\n",
            "dense_29 (Dense)             (None, 10)                1290      \n",
            "=================================================================\n",
            "Total params: 118,282\n",
            "Trainable params: 118,282\n",
            "Non-trainable params: 0\n",
            "_________________________________________________________________\n",
            "Fit on NumPy data\n",
            "938/938 [==============================] - 2s 3ms/step - loss: 0.2815\n",
            "Fit on Dataset\n",
            "938/938 [==============================] - 3s 3ms/step - loss: 0.1377\n"
          ],
          "name": "stdout"
        }
      ]
    },
    {
      "cell_type": "markdown",
      "metadata": {
        "id": "9YA0j5lq2ZML",
        "colab_type": "text"
      },
      "source": [
        ""
      ]
    },
    {
      "cell_type": "markdown",
      "metadata": {
        "id": "1X8K2JP13RoC",
        "colab_type": "text"
      },
      "source": [
        "Now we want to change this model and build an **autoencoder** for **MNIST**:\n",
        "\n",
        "**1. change the network topology:** \n",
        "* use 5 dense layers to form \"bottleneck\" network (see lecture). \n",
        "* Layers 1+2 should be the encoder, 3 the lattent layer aner 4+5 the decoder\n",
        "* remove the softmax (we are not doing a classification anymore)\n",
        "\n",
        "**2. change the loss-function to compare input and output -> choose a suitable loss from https://keras.io/api/losses/**\n",
        "\n",
        "**3. train the model**\n",
        "\n",
        "**4. test the model**\n",
        "* visualize input and output images to inspect the reconstruction quallity (use MATPLOTLIB *imshow*)\n",
        "* implement a function to measure the reconstrunction error between in- and output\n",
        "* change network size (number of neurons per layer) and training paramters to optimize the ressults \n",
        "\n",
        "**5. Outlier detection**\n",
        "* plot a histogram over the the recostruction errors\n",
        "* find a cutoff value and visualize the outliers"
      ]
    },
    {
      "cell_type": "markdown",
      "metadata": {
        "id": "Chi2qlYX4dZV",
        "colab_type": "text"
      },
      "source": [
        "**change the network topology**"
      ]
    },
    {
      "cell_type": "code",
      "metadata": {
        "id": "2BRusC-Z2yjD",
        "colab_type": "code",
        "colab": {
          "base_uri": "https://localhost:8080/",
          "height": 428
        },
        "outputId": "0b69ab27-444e-4f63-dae0-2d65b8cc09a3"
      },
      "source": [
        "import numpy as np\n",
        "\n",
        "x_train = x_train.astype('float32') / 255.\n",
        "x_test = x_test.astype('float32') / 255.\n",
        "\n",
        "x_train = x_train.reshape((len(x_train), np.prod(x_train.shape[1:])))\n",
        "x_test = x_test.reshape((len(x_test), np.prod(x_test.shape[1:])))\n",
        "\n",
        "inputs = keras.Input(shape=(784,))\n",
        "l1 = layers.Dense(128, activation=\"relu\")(inputs)\n",
        "l2 = layers.Dense(64, activation=\"relu\")(l1)\n",
        "l3 = layers.Dense(32, activation=\"relu\")(l2)\n",
        "l4 = layers.Dense(64, activation=\"relu\")(l3)\n",
        "l5 = layers.Dense(128, activation=\"relu\")(l4)\n",
        "outputs = layers.Dense(784, activation='sigmoid')(l5)\n",
        "model = keras.Model(inputs, outputs)\n",
        "model.summary()"
      ],
      "execution_count": 35,
      "outputs": [
        {
          "output_type": "stream",
          "text": [
            "Model: \"model_6\"\n",
            "_________________________________________________________________\n",
            "Layer (type)                 Output Shape              Param #   \n",
            "=================================================================\n",
            "input_7 (InputLayer)         [(None, 784)]             0         \n",
            "_________________________________________________________________\n",
            "dense_30 (Dense)             (None, 128)               100480    \n",
            "_________________________________________________________________\n",
            "dense_31 (Dense)             (None, 64)                8256      \n",
            "_________________________________________________________________\n",
            "dense_32 (Dense)             (None, 32)                2080      \n",
            "_________________________________________________________________\n",
            "dense_33 (Dense)             (None, 64)                2112      \n",
            "_________________________________________________________________\n",
            "dense_34 (Dense)             (None, 128)               8320      \n",
            "_________________________________________________________________\n",
            "dense_35 (Dense)             (None, 784)               101136    \n",
            "=================================================================\n",
            "Total params: 222,384\n",
            "Trainable params: 222,384\n",
            "Non-trainable params: 0\n",
            "_________________________________________________________________\n"
          ],
          "name": "stdout"
        }
      ]
    },
    {
      "cell_type": "markdown",
      "metadata": {
        "id": "dQIPnRh8-4fE",
        "colab_type": "text"
      },
      "source": [
        "**change the loss-function to compare input and output bold text**"
      ]
    },
    {
      "cell_type": "code",
      "metadata": {
        "id": "jOQK2bV_-e_e",
        "colab_type": "code",
        "colab": {}
      },
      "source": [
        "model.compile(optimizer=\"adam\", loss=\"binary_crossentropy\")"
      ],
      "execution_count": 0,
      "outputs": []
    },
    {
      "cell_type": "code",
      "metadata": {
        "id": "sjoCUmwT_f9x",
        "colab_type": "code",
        "colab": {
          "base_uri": "https://localhost:8080/",
          "height": 1000
        },
        "outputId": "0ba0533e-25ef-4a6a-958e-513030f6a4fc"
      },
      "source": [
        "batch_size = 256\n",
        "history = model.fit(x_train, x_train, batch_size=batch_size, epochs=100, validation_data=(x_test, x_test))"
      ],
      "execution_count": 37,
      "outputs": [
        {
          "output_type": "stream",
          "text": [
            "Epoch 1/100\n",
            "235/235 [==============================] - 1s 6ms/step - loss: 0.2508 - val_loss: 0.1667\n",
            "Epoch 2/100\n",
            "235/235 [==============================] - 1s 5ms/step - loss: 0.1510 - val_loss: 0.1379\n",
            "Epoch 3/100\n",
            "235/235 [==============================] - 1s 6ms/step - loss: 0.1326 - val_loss: 0.1244\n",
            "Epoch 4/100\n",
            "235/235 [==============================] - 1s 6ms/step - loss: 0.1213 - val_loss: 0.1160\n",
            "Epoch 5/100\n",
            "235/235 [==============================] - 1s 5ms/step - loss: 0.1147 - val_loss: 0.1113\n",
            "Epoch 6/100\n",
            "235/235 [==============================] - 1s 5ms/step - loss: 0.1108 - val_loss: 0.1080\n",
            "Epoch 7/100\n",
            "235/235 [==============================] - 1s 6ms/step - loss: 0.1076 - val_loss: 0.1049\n",
            "Epoch 8/100\n",
            "235/235 [==============================] - 1s 6ms/step - loss: 0.1050 - val_loss: 0.1029\n",
            "Epoch 9/100\n",
            "235/235 [==============================] - 1s 5ms/step - loss: 0.1028 - val_loss: 0.1007\n",
            "Epoch 10/100\n",
            "235/235 [==============================] - 1s 5ms/step - loss: 0.1010 - val_loss: 0.0990\n",
            "Epoch 11/100\n",
            "235/235 [==============================] - 1s 5ms/step - loss: 0.0995 - val_loss: 0.0976\n",
            "Epoch 12/100\n",
            "235/235 [==============================] - 1s 5ms/step - loss: 0.0980 - val_loss: 0.0966\n",
            "Epoch 13/100\n",
            "235/235 [==============================] - 1s 5ms/step - loss: 0.0968 - val_loss: 0.0951\n",
            "Epoch 14/100\n",
            "235/235 [==============================] - 1s 5ms/step - loss: 0.0955 - val_loss: 0.0940\n",
            "Epoch 15/100\n",
            "235/235 [==============================] - 1s 5ms/step - loss: 0.0944 - val_loss: 0.0930\n",
            "Epoch 16/100\n",
            "235/235 [==============================] - 1s 5ms/step - loss: 0.0935 - val_loss: 0.0928\n",
            "Epoch 17/100\n",
            "235/235 [==============================] - 1s 5ms/step - loss: 0.0927 - val_loss: 0.0919\n",
            "Epoch 18/100\n",
            "235/235 [==============================] - 1s 5ms/step - loss: 0.0919 - val_loss: 0.0910\n",
            "Epoch 19/100\n",
            "235/235 [==============================] - 1s 5ms/step - loss: 0.0912 - val_loss: 0.0903\n",
            "Epoch 20/100\n",
            "235/235 [==============================] - 1s 5ms/step - loss: 0.0906 - val_loss: 0.0897\n",
            "Epoch 21/100\n",
            "235/235 [==============================] - 1s 5ms/step - loss: 0.0901 - val_loss: 0.0891\n",
            "Epoch 22/100\n",
            "235/235 [==============================] - 1s 5ms/step - loss: 0.0896 - val_loss: 0.0891\n",
            "Epoch 23/100\n",
            "235/235 [==============================] - 1s 5ms/step - loss: 0.0891 - val_loss: 0.0882\n",
            "Epoch 24/100\n",
            "235/235 [==============================] - 1s 5ms/step - loss: 0.0887 - val_loss: 0.0879\n",
            "Epoch 25/100\n",
            "235/235 [==============================] - 1s 5ms/step - loss: 0.0883 - val_loss: 0.0875\n",
            "Epoch 26/100\n",
            "235/235 [==============================] - 1s 6ms/step - loss: 0.0880 - val_loss: 0.0872\n",
            "Epoch 27/100\n",
            "235/235 [==============================] - 1s 6ms/step - loss: 0.0876 - val_loss: 0.0868\n",
            "Epoch 28/100\n",
            "235/235 [==============================] - 1s 5ms/step - loss: 0.0874 - val_loss: 0.0866\n",
            "Epoch 29/100\n",
            "235/235 [==============================] - 1s 5ms/step - loss: 0.0870 - val_loss: 0.0863\n",
            "Epoch 30/100\n",
            "235/235 [==============================] - 1s 5ms/step - loss: 0.0867 - val_loss: 0.0862\n",
            "Epoch 31/100\n",
            "235/235 [==============================] - 1s 6ms/step - loss: 0.0865 - val_loss: 0.0857\n",
            "Epoch 32/100\n",
            "235/235 [==============================] - 1s 6ms/step - loss: 0.0862 - val_loss: 0.0858\n",
            "Epoch 33/100\n",
            "235/235 [==============================] - 1s 6ms/step - loss: 0.0860 - val_loss: 0.0855\n",
            "Epoch 34/100\n",
            "235/235 [==============================] - 1s 6ms/step - loss: 0.0858 - val_loss: 0.0852\n",
            "Epoch 35/100\n",
            "235/235 [==============================] - 1s 6ms/step - loss: 0.0856 - val_loss: 0.0850\n",
            "Epoch 36/100\n",
            "235/235 [==============================] - 1s 6ms/step - loss: 0.0854 - val_loss: 0.0846\n",
            "Epoch 37/100\n",
            "235/235 [==============================] - 1s 6ms/step - loss: 0.0852 - val_loss: 0.0846\n",
            "Epoch 38/100\n",
            "235/235 [==============================] - 1s 5ms/step - loss: 0.0850 - val_loss: 0.0844\n",
            "Epoch 39/100\n",
            "235/235 [==============================] - 1s 6ms/step - loss: 0.0848 - val_loss: 0.0845\n",
            "Epoch 40/100\n",
            "235/235 [==============================] - 1s 5ms/step - loss: 0.0847 - val_loss: 0.0842\n",
            "Epoch 41/100\n",
            "235/235 [==============================] - 1s 5ms/step - loss: 0.0845 - val_loss: 0.0839\n",
            "Epoch 42/100\n",
            "235/235 [==============================] - 1s 5ms/step - loss: 0.0843 - val_loss: 0.0837\n",
            "Epoch 43/100\n",
            "235/235 [==============================] - 1s 5ms/step - loss: 0.0842 - val_loss: 0.0839\n",
            "Epoch 44/100\n",
            "235/235 [==============================] - 1s 6ms/step - loss: 0.0840 - val_loss: 0.0838\n",
            "Epoch 45/100\n",
            "235/235 [==============================] - 1s 5ms/step - loss: 0.0839 - val_loss: 0.0832\n",
            "Epoch 46/100\n",
            "235/235 [==============================] - 1s 5ms/step - loss: 0.0838 - val_loss: 0.0833\n",
            "Epoch 47/100\n",
            "235/235 [==============================] - 1s 5ms/step - loss: 0.0837 - val_loss: 0.0832\n",
            "Epoch 48/100\n",
            "235/235 [==============================] - 1s 5ms/step - loss: 0.0836 - val_loss: 0.0833\n",
            "Epoch 49/100\n",
            "235/235 [==============================] - 1s 5ms/step - loss: 0.0835 - val_loss: 0.0831\n",
            "Epoch 50/100\n",
            "235/235 [==============================] - 1s 5ms/step - loss: 0.0834 - val_loss: 0.0830\n",
            "Epoch 51/100\n",
            "235/235 [==============================] - 1s 6ms/step - loss: 0.0833 - val_loss: 0.0830\n",
            "Epoch 52/100\n",
            "235/235 [==============================] - 1s 5ms/step - loss: 0.0832 - val_loss: 0.0828\n",
            "Epoch 53/100\n",
            "235/235 [==============================] - 1s 5ms/step - loss: 0.0831 - val_loss: 0.0828\n",
            "Epoch 54/100\n",
            "235/235 [==============================] - 1s 5ms/step - loss: 0.0830 - val_loss: 0.0825\n",
            "Epoch 55/100\n",
            "235/235 [==============================] - 1s 5ms/step - loss: 0.0830 - val_loss: 0.0826\n",
            "Epoch 56/100\n",
            "235/235 [==============================] - 1s 5ms/step - loss: 0.0829 - val_loss: 0.0826\n",
            "Epoch 57/100\n",
            "235/235 [==============================] - 1s 5ms/step - loss: 0.0829 - val_loss: 0.0823\n",
            "Epoch 58/100\n",
            "235/235 [==============================] - 1s 6ms/step - loss: 0.0827 - val_loss: 0.0824\n",
            "Epoch 59/100\n",
            "235/235 [==============================] - 1s 5ms/step - loss: 0.0827 - val_loss: 0.0823\n",
            "Epoch 60/100\n",
            "235/235 [==============================] - 1s 5ms/step - loss: 0.0826 - val_loss: 0.0821\n",
            "Epoch 61/100\n",
            "235/235 [==============================] - 1s 5ms/step - loss: 0.0825 - val_loss: 0.0822\n",
            "Epoch 62/100\n",
            "235/235 [==============================] - 1s 5ms/step - loss: 0.0825 - val_loss: 0.0820\n",
            "Epoch 63/100\n",
            "235/235 [==============================] - 1s 5ms/step - loss: 0.0824 - val_loss: 0.0821\n",
            "Epoch 64/100\n",
            "235/235 [==============================] - 1s 5ms/step - loss: 0.0823 - val_loss: 0.0824\n",
            "Epoch 65/100\n",
            "235/235 [==============================] - 1s 5ms/step - loss: 0.0823 - val_loss: 0.0819\n",
            "Epoch 66/100\n",
            "235/235 [==============================] - 1s 5ms/step - loss: 0.0822 - val_loss: 0.0820\n",
            "Epoch 67/100\n",
            "235/235 [==============================] - 1s 5ms/step - loss: 0.0822 - val_loss: 0.0822\n",
            "Epoch 68/100\n",
            "235/235 [==============================] - 1s 5ms/step - loss: 0.0821 - val_loss: 0.0818\n",
            "Epoch 69/100\n",
            "235/235 [==============================] - 1s 6ms/step - loss: 0.0820 - val_loss: 0.0818\n",
            "Epoch 70/100\n",
            "235/235 [==============================] - 1s 6ms/step - loss: 0.0820 - val_loss: 0.0818\n",
            "Epoch 71/100\n",
            "235/235 [==============================] - 1s 5ms/step - loss: 0.0820 - val_loss: 0.0819\n",
            "Epoch 72/100\n",
            "235/235 [==============================] - 1s 5ms/step - loss: 0.0819 - val_loss: 0.0816\n",
            "Epoch 73/100\n",
            "235/235 [==============================] - 1s 5ms/step - loss: 0.0819 - val_loss: 0.0814\n",
            "Epoch 74/100\n",
            "235/235 [==============================] - 1s 5ms/step - loss: 0.0818 - val_loss: 0.0818\n",
            "Epoch 75/100\n",
            "235/235 [==============================] - 1s 5ms/step - loss: 0.0818 - val_loss: 0.0817\n",
            "Epoch 76/100\n",
            "235/235 [==============================] - 1s 5ms/step - loss: 0.0817 - val_loss: 0.0815\n",
            "Epoch 77/100\n",
            "235/235 [==============================] - 1s 5ms/step - loss: 0.0817 - val_loss: 0.0815\n",
            "Epoch 78/100\n",
            "235/235 [==============================] - 1s 5ms/step - loss: 0.0816 - val_loss: 0.0814\n",
            "Epoch 79/100\n",
            "235/235 [==============================] - 1s 5ms/step - loss: 0.0816 - val_loss: 0.0814\n",
            "Epoch 80/100\n",
            "235/235 [==============================] - 1s 5ms/step - loss: 0.0816 - val_loss: 0.0814\n",
            "Epoch 81/100\n",
            "235/235 [==============================] - 1s 5ms/step - loss: 0.0815 - val_loss: 0.0810\n",
            "Epoch 82/100\n",
            "235/235 [==============================] - 1s 5ms/step - loss: 0.0815 - val_loss: 0.0812\n",
            "Epoch 83/100\n",
            "235/235 [==============================] - 1s 5ms/step - loss: 0.0814 - val_loss: 0.0811\n",
            "Epoch 84/100\n",
            "235/235 [==============================] - 1s 5ms/step - loss: 0.0814 - val_loss: 0.0811\n",
            "Epoch 85/100\n",
            "235/235 [==============================] - 1s 5ms/step - loss: 0.0814 - val_loss: 0.0812\n",
            "Epoch 86/100\n",
            "235/235 [==============================] - 1s 6ms/step - loss: 0.0813 - val_loss: 0.0812\n",
            "Epoch 87/100\n",
            "235/235 [==============================] - 1s 5ms/step - loss: 0.0812 - val_loss: 0.0811\n",
            "Epoch 88/100\n",
            "235/235 [==============================] - 1s 5ms/step - loss: 0.0812 - val_loss: 0.0810\n",
            "Epoch 89/100\n",
            "235/235 [==============================] - 1s 5ms/step - loss: 0.0812 - val_loss: 0.0811\n",
            "Epoch 90/100\n",
            "235/235 [==============================] - 1s 5ms/step - loss: 0.0812 - val_loss: 0.0809\n",
            "Epoch 91/100\n",
            "235/235 [==============================] - 1s 5ms/step - loss: 0.0811 - val_loss: 0.0810\n",
            "Epoch 92/100\n",
            "235/235 [==============================] - 1s 5ms/step - loss: 0.0811 - val_loss: 0.0810\n",
            "Epoch 93/100\n",
            "235/235 [==============================] - 1s 5ms/step - loss: 0.0810 - val_loss: 0.0808\n",
            "Epoch 94/100\n",
            "235/235 [==============================] - 1s 5ms/step - loss: 0.0810 - val_loss: 0.0808\n",
            "Epoch 95/100\n",
            "235/235 [==============================] - 1s 5ms/step - loss: 0.0810 - val_loss: 0.0807\n",
            "Epoch 96/100\n",
            "235/235 [==============================] - 1s 5ms/step - loss: 0.0810 - val_loss: 0.0806\n",
            "Epoch 97/100\n",
            "235/235 [==============================] - 1s 5ms/step - loss: 0.0809 - val_loss: 0.0807\n",
            "Epoch 98/100\n",
            "235/235 [==============================] - 1s 5ms/step - loss: 0.0809 - val_loss: 0.0807\n",
            "Epoch 99/100\n",
            "235/235 [==============================] - 1s 5ms/step - loss: 0.0808 - val_loss: 0.0807\n",
            "Epoch 100/100\n",
            "235/235 [==============================] - 1s 5ms/step - loss: 0.0808 - val_loss: 0.0808\n"
          ],
          "name": "stdout"
        }
      ]
    },
    {
      "cell_type": "code",
      "metadata": {
        "id": "FFXqH1DlAEZP",
        "colab_type": "code",
        "colab": {}
      },
      "source": [
        "predicted = model.predict(x_test)"
      ],
      "execution_count": 0,
      "outputs": []
    },
    {
      "cell_type": "code",
      "metadata": {
        "id": "8EbbCrnxG8aP",
        "colab_type": "code",
        "colab": {
          "base_uri": "https://localhost:8080/",
          "height": 74
        },
        "outputId": "78377a96-55ee-4043-cc8b-bdcec75ec6b7"
      },
      "source": [
        "import matplotlib.pyplot as plt\n",
        "%matplotlib inline\n",
        "\n",
        "plt.figure(figsize=(40, 4))\n",
        "n = 10\n",
        "for i in range(n):\n",
        "    ax = plt.subplot(3, 20, 2*20 +i+ 1)\n",
        "    plt.imshow(predicted[i].reshape(28, 28))\n",
        "    plt.gray()\n",
        "    ax.get_xaxis().set_visible(False)\n",
        "    ax.get_yaxis().set_visible(False)\n",
        "\n",
        "    ax = plt.subplot(3, 20, 2*20 +i+ 1 + n)\n",
        "    plt.imshow(x_test[i].reshape(28, 28))\n",
        "    plt.gray()\n",
        "    ax.get_xaxis().set_visible(False)\n",
        "    ax.get_yaxis().set_visible(False)\n",
        "\n",
        "plt.show()"
      ],
      "execution_count": 41,
      "outputs": [
        {
          "output_type": "display_data",
          "data": {
            "image/png": "[encoded data removed]",
            "text/plain": [
              "<Figure size 2880x288 with 20 Axes>"
            ]
          },
          "metadata": {
            "tags": [],
            "needs_background": "light"
          }
        }
      ]
    },
    {
      "cell_type": "code",
      "metadata": {
        "id": "-AKjtcfxHMrv",
        "colab_type": "code",
        "colab": {
          "base_uri": "https://localhost:8080/",
          "height": 185
        },
        "outputId": "2adc01ea-d2e6-4152-9d09-9cc41c1db0e5"
      },
      "source": [
        "import pandas as pd\n",
        "mse = np.mean(np.power(x_test - predicted, 2), axis=1)\n",
        "error_df = pd.DataFrame({'reconstruction_error': mse,\n",
        "                        'true_class': y_test})\n",
        "error_df['reconstruction_error'].describe()"
      ],
      "execution_count": 68,
      "outputs": [
        {
          "output_type": "execute_result",
          "data": {
            "text/plain": [
              "count    10000.000000\n",
              "mean         0.006418\n",
              "std          0.004038\n",
              "min          0.000310\n",
              "25%          0.003630\n",
              "50%          0.005664\n",
              "75%          0.008361\n",
              "max          0.034395\n",
              "Name: reconstruction_error, dtype: float64"
            ]
          },
          "metadata": {
            "tags": []
          },
          "execution_count": 68
        }
      ]
    },
    {
      "cell_type": "code",
      "metadata": {
        "id": "0rzmgwK388SK",
        "colab_type": "code",
        "colab": {
          "base_uri": "https://localhost:8080/",
          "height": 265
        },
        "outputId": "3499dc55-f8df-4587-c80e-faadea9b5e8e"
      },
      "source": [
        "fig = plt.figure()\n",
        "ax = fig.add_subplot(111)\n",
        "_ = ax.hist(error_df.reconstruction_error.values, bins=100)"
      ],
      "execution_count": 71,
      "outputs": [
        {
          "output_type": "display_data",
          "data": {
            "image/png": "[encoded data removed]",
            "text/plain": [
              "<Figure size 432x288 with 1 Axes>"
            ]
          },
          "metadata": {
            "tags": [],
            "needs_background": "light"
          }
        }
      ]
    },
    {
      "cell_type": "code",
      "metadata": {
        "id": "JQSU8wacGeLD",
        "colab_type": "code",
        "colab": {}
      },
      "source": [
        "mask = (mse > 0.020)\n",
        "outliers = x_test[mask]\n"
      ],
      "execution_count": 0,
      "outputs": []
    },
    {
      "cell_type": "code",
      "metadata": {
        "id": "PWBy34G7CnqH",
        "colab_type": "code",
        "colab": {
          "base_uri": "https://localhost:8080/",
          "height": 36
        },
        "outputId": "a2503807-03a3-4f56-8ee5-d37f9dc43d9a"
      },
      "source": [
        "outliers.shape"
      ],
      "execution_count": 113,
      "outputs": [
        {
          "output_type": "execute_result",
          "data": {
            "text/plain": [
              "(90, 784)"
            ]
          },
          "metadata": {
            "tags": []
          },
          "execution_count": 113
        }
      ]
    },
    {
      "cell_type": "code",
      "metadata": {
        "id": "7cW5Q28kCx5t",
        "colab_type": "code",
        "colab": {
          "base_uri": "https://localhost:8080/",
          "height": 98
        },
        "outputId": "8e1ffe73-d28e-408a-8000-20e307027849"
      },
      "source": [
        "plt.figure(figsize=(40, 4))\n",
        "for i in range(10):\n",
        "    ax = plt.subplot(3, 20, 2*20 + i + 1 + 10)\n",
        "    plt.imshow(outliers[i].reshape(28, 28))\n",
        "    plt.gray()\n",
        "    ax.get_xaxis().set_visible(False)\n",
        "    ax.get_yaxis().set_visible(False)\n",
        "\n",
        "plt.show()"
      ],
      "execution_count": 114,
      "outputs": [
        {
          "output_type": "display_data",
          "data": {
            "image/png": "[encoded data removed]",
            "text/plain": [
              "<Figure size 2880x288 with 10 Axes>"
            ]
          },
          "metadata": {
            "tags": [],
            "needs_background": "light"
          }
        }
      ]
    },
    {
      "cell_type": "code",
      "metadata": {
        "id": "gVufO-PVHUxM",
        "colab_type": "code",
        "colab": {
          "base_uri": "https://localhost:8080/",
          "height": 265
        },
        "outputId": "665bca7c-b2ba-4399-f635-45d3885ae413"
      },
      "source": [
        "fig = plt.figure()\n",
        "ax = fig.add_subplot(111)\n",
        "_ = ax.hist(y_test[mask], bins=10)"
      ],
      "execution_count": 134,
      "outputs": [
        {
          "output_type": "display_data",
          "data": {
            "image/png": "[encoded data removed]",
            "text/plain": [
              "<Figure size 432x288 with 1 Axes>"
            ]
          },
          "metadata": {
            "tags": [],
            "needs_background": "light"
          }
        }
      ]
    },
    {
      "cell_type": "code",
      "metadata": {
        "id": "HhKtcyHOHarD",
        "colab_type": "code",
        "colab": {}
      },
      "source": [
        ""
      ],
      "execution_count": 0,
      "outputs": []
    }
  ]
}