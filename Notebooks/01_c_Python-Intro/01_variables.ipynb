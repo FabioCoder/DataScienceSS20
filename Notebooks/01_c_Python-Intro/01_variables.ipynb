{
  "nbformat": 4,
  "nbformat_minor": 0,
  "metadata": {
    "kernelspec": {
      "display_name": "Python 3",
      "language": "python",
      "name": "python3"
    },
    "language_info": {
      "codemirror_mode": {
        "name": "ipython",
        "version": 3
      },
      "file_extension": ".py",
      "mimetype": "text/x-python",
      "name": "python",
      "nbconvert_exporter": "python",
      "pygments_lexer": "ipython3",
      "version": "3.7.6"
    },
    "colab": {
      "name": "01_variables.ipynb",
      "provenance": [],
      "include_colab_link": true
    }
  },
  "cells": [
    {
      "cell_type": "markdown",
      "metadata": {
        "id": "view-in-github",
        "colab_type": "text"
      },
      "source": [
        "<a href=\"https://colab.research.google.com/github/FabioCoder/DataScienceSS20/blob/Block_2/Notebooks/01_c_Python-Intro/01_variables.ipynb\" target=\"_parent\"><img src=\"https://colab.research.google.com/assets/colab-badge.svg\" alt=\"Open In Colab\"/></a>"
      ]
    },
    {
      "cell_type": "markdown",
      "metadata": {
        "id": "e1Hn7UKA3rnJ",
        "colab_type": "text"
      },
      "source": [
        "# Introduction to Python I - Variables\n",
        "* Based on a lecture series by Rajath Kumart (https://github.com/rajathkumarmp/Python-Lectures)\n",
        "* Ported to Python3 and extessions added by Janis Keuper\n",
        "* Copyright: Creative Commons Attribution 3.0 Unported License. To view a copy of this license, visit http://creativecommons.org/licenses/by/3.0/"
      ]
    },
    {
      "cell_type": "code",
      "metadata": {
        "id": "3HOnsUP_3rnS",
        "colab_type": "code",
        "colab": {
          "base_uri": "https://localhost:8080/",
          "height": 128
        },
        "outputId": "541191f6-ec4a-451f-cd2d-733e2a9291cd"
      },
      "source": [
        "#check if notebook runs in colab\n",
        "import sys\n",
        "IN_COLAB = 'google.colab' in sys.modules\n",
        "print('running in Colab:',IN_COLAB)\n",
        "path='..'\n",
        "if IN_COLAB:\n",
        "  #in colab, we need to clone the data from the repo\n",
        "  !git clone https://github.com/keuperj/DataScienceSS20.git\n",
        "  path='DataScienceSS20'"
      ],
      "execution_count": 1,
      "outputs": [
        {
          "output_type": "stream",
          "text": [
            "running in Colab: True\n",
            "Cloning into 'DataScienceSS20'...\n",
            "remote: Enumerating objects: 248, done.\u001b[K\n",
            "remote: Total 248 (delta 0), reused 0 (delta 0), pack-reused 248\u001b[K\n",
            "Receiving objects: 100% (248/248), 45.43 MiB | 10.00 MiB/s, done.\n",
            "Resolving deltas: 100% (85/85), done.\n"
          ],
          "name": "stdout"
        }
      ]
    },
    {
      "cell_type": "markdown",
      "metadata": {
        "id": "jpFeKJir3rob",
        "colab_type": "text"
      },
      "source": [
        "## The Zen Of Python"
      ]
    },
    {
      "cell_type": "code",
      "metadata": {
        "id": "xRHriO_k3ron",
        "colab_type": "code",
        "colab": {
          "base_uri": "https://localhost:8080/",
          "height": 407
        },
        "outputId": "c44b6618-386a-4cb5-b5c8-ab636fdb2726"
      },
      "source": [
        "import this"
      ],
      "execution_count": 2,
      "outputs": [
        {
          "output_type": "stream",
          "text": [
            "The Zen of Python, by Tim Peters\n",
            "\n",
            "Beautiful is better than ugly.\n",
            "Explicit is better than implicit.\n",
            "Simple is better than complex.\n",
            "Complex is better than complicated.\n",
            "Flat is better than nested.\n",
            "Sparse is better than dense.\n",
            "Readability counts.\n",
            "Special cases aren't special enough to break the rules.\n",
            "Although practicality beats purity.\n",
            "Errors should never pass silently.\n",
            "Unless explicitly silenced.\n",
            "In the face of ambiguity, refuse the temptation to guess.\n",
            "There should be one-- and preferably only one --obvious way to do it.\n",
            "Although that way may not be obvious at first unless you're Dutch.\n",
            "Now is better than never.\n",
            "Although never is often better than *right* now.\n",
            "If the implementation is hard to explain, it's a bad idea.\n",
            "If the implementation is easy to explain, it may be a good idea.\n",
            "Namespaces are one honking great idea -- let's do more of those!\n"
          ],
          "name": "stdout"
        }
      ]
    },
    {
      "cell_type": "markdown",
      "metadata": {
        "id": "30wNOHE-3ro0",
        "colab_type": "text"
      },
      "source": [
        "## The Very Basics"
      ]
    },
    {
      "cell_type": "markdown",
      "metadata": {
        "id": "Rln1XYAr3rpO",
        "colab_type": "text"
      },
      "source": [
        "### Comments:"
      ]
    },
    {
      "cell_type": "code",
      "metadata": {
        "id": "AqFbQhoB3rpT",
        "colab_type": "code",
        "colab": {}
      },
      "source": [
        "# this is a comment"
      ],
      "execution_count": 0,
      "outputs": []
    },
    {
      "cell_type": "markdown",
      "metadata": {
        "id": "EPp21xmT3rph",
        "colab_type": "text"
      },
      "source": [
        "### Spaces\n",
        "***Python is indent sensitive!!!***\n"
      ]
    },
    {
      "cell_type": "code",
      "metadata": {
        "id": "wAsoVG9h3rpl",
        "colab_type": "code",
        "colab": {
          "base_uri": "https://localhost:8080/",
          "height": 136
        },
        "outputId": "cd44ca9a-7609-460a-a3f4-51700af5f8e2"
      },
      "source": [
        "print (\"hello\")\n",
        "  print (\"this does not work\")"
      ],
      "execution_count": 4,
      "outputs": [
        {
          "output_type": "error",
          "ename": "IndentationError",
          "evalue": "ignored",
          "traceback": [
            "\u001b[0;36m  File \u001b[0;32m\"<ipython-input-5-f080e30b2b8c>\"\u001b[0;36m, line \u001b[0;32m2\u001b[0m\n\u001b[0;31m    print (\"this does not work\")\u001b[0m\n\u001b[0m    ^\u001b[0m\n\u001b[0;31mIndentationError\u001b[0m\u001b[0;31m:\u001b[0m unexpected indent\n"
          ]
        }
      ]
    },
    {
      "cell_type": "code",
      "metadata": {
        "id": "h6Ngrhdc3rpw",
        "colab_type": "code",
        "colab": {
          "base_uri": "https://localhost:8080/",
          "height": 110
        },
        "outputId": "5df5b06f-757c-470e-d813-9a75e3c02bd7"
      },
      "source": [
        "for i in range(5):\n",
        "    print (\"this is a correct indent\")"
      ],
      "execution_count": 5,
      "outputs": [
        {
          "output_type": "stream",
          "text": [
            "this is a correct indent\n",
            "this is a correct indent\n",
            "this is a correct indent\n",
            "this is a correct indent\n",
            "this is a correct indent\n"
          ],
          "name": "stdout"
        }
      ]
    },
    {
      "cell_type": "code",
      "metadata": {
        "id": "Lu_jKNIL3rp_",
        "colab_type": "code",
        "colab": {}
      },
      "source": [
        ""
      ],
      "execution_count": 0,
      "outputs": []
    },
    {
      "cell_type": "code",
      "metadata": {
        "id": "zClqAVN23rqJ",
        "colab_type": "code",
        "colab": {
          "base_uri": "https://localhost:8080/",
          "height": 136
        },
        "outputId": "8208110f-3275-4de8-c6b3-b0fb19fc5286"
      },
      "source": [
        "for i in range(5):\n",
        "print (\"this is NOT a correct indent\")"
      ],
      "execution_count": 5,
      "outputs": [
        {
          "output_type": "error",
          "ename": "IndentationError",
          "evalue": "ignored",
          "traceback": [
            "\u001b[0;36m  File \u001b[0;32m\"<ipython-input-6-214533c11ede>\"\u001b[0;36m, line \u001b[0;32m2\u001b[0m\n\u001b[0;31m    print (\"this is NOT a correct indent\")\u001b[0m\n\u001b[0m        ^\u001b[0m\n\u001b[0;31mIndentationError\u001b[0m\u001b[0;31m:\u001b[0m expected an indented block\n"
          ]
        }
      ]
    },
    {
      "cell_type": "markdown",
      "metadata": {
        "id": "hISpym7h3rqW",
        "colab_type": "text"
      },
      "source": [
        "**NOTE: you should set your editor to convert <tab> into 4 Spaces**\n",
        "    \n",
        "Python Coding Conventions: https://www.python.org/dev/peps/pep-0008/"
      ]
    },
    {
      "cell_type": "markdown",
      "metadata": {
        "id": "Qmt-mSyG3rqY",
        "colab_type": "text"
      },
      "source": [
        "# Variables"
      ]
    },
    {
      "cell_type": "markdown",
      "metadata": {
        "id": "rksUzUM_3rqa",
        "colab_type": "text"
      },
      "source": [
        "A name that is used to denote something or a value is called a variable. **Important:** Python has no strong typing, e.g. variables can change their type within a script. In python, variables can be declared and values can be assigned to it as follows,"
      ]
    },
    {
      "cell_type": "code",
      "metadata": {
        "jupyter": {
          "outputs_hidden": true
        },
        "id": "sA0Iu1LO3rqc",
        "colab_type": "code",
        "colab": {}
      },
      "source": [
        "x = 2\n",
        "y = 5\n",
        "xy = 'Hey'"
      ],
      "execution_count": 0,
      "outputs": []
    },
    {
      "cell_type": "code",
      "metadata": {
        "id": "mdTIc2at3rqj",
        "colab_type": "code",
        "colab": {
          "base_uri": "https://localhost:8080/",
          "height": 36
        },
        "outputId": "7907eefa-91ad-4dcd-907c-e5e56937749f"
      },
      "source": [
        "print (x+y, xy)"
      ],
      "execution_count": 11,
      "outputs": [
        {
          "output_type": "stream",
          "text": [
            "7 Hey\n"
          ],
          "name": "stdout"
        }
      ]
    },
    {
      "cell_type": "markdown",
      "metadata": {
        "id": "AyxhtMpi3rqu",
        "colab_type": "text"
      },
      "source": [
        "Multiple variables can be assigned with the same value."
      ]
    },
    {
      "cell_type": "code",
      "metadata": {
        "jupyter": {
          "outputs_hidden": true
        },
        "id": "AFliqgVN3rqv",
        "colab_type": "code",
        "colab": {}
      },
      "source": [
        "x = y = 1"
      ],
      "execution_count": 0,
      "outputs": []
    },
    {
      "cell_type": "code",
      "metadata": {
        "id": "4yC9FCD33rq1",
        "colab_type": "code",
        "colab": {
          "base_uri": "https://localhost:8080/",
          "height": 36
        },
        "outputId": "a93a5e8a-6713-4136-e6ff-c7dd94d0d66a"
      },
      "source": [
        "print (x,y)"
      ],
      "execution_count": 14,
      "outputs": [
        {
          "output_type": "stream",
          "text": [
            "1 1\n"
          ],
          "name": "stdout"
        }
      ]
    },
    {
      "cell_type": "markdown",
      "metadata": {
        "id": "XndDyt2G3rrD",
        "colab_type": "text"
      },
      "source": [
        "Weak typing example:"
      ]
    },
    {
      "cell_type": "code",
      "metadata": {
        "id": "RntLRdKg3rrF",
        "colab_type": "code",
        "colab": {
          "base_uri": "https://localhost:8080/",
          "height": 54
        },
        "outputId": "15d22c03-113c-4b63-a61f-b3d4de4acbe1"
      },
      "source": [
        "a = 1\n",
        "a += 1\n",
        "print (a)\n",
        "a = \"hello\"\n",
        "print (a)"
      ],
      "execution_count": 15,
      "outputs": [
        {
          "output_type": "stream",
          "text": [
            "2\n",
            "hello\n"
          ],
          "name": "stdout"
        }
      ]
    },
    {
      "cell_type": "code",
      "metadata": {
        "id": "qoVX8kps3rrL",
        "colab_type": "code",
        "colab": {
          "base_uri": "https://localhost:8080/",
          "height": 173
        },
        "outputId": "a469c2d4-054a-4f74-aab9-a208491c6a0b"
      },
      "source": [
        "a+=1"
      ],
      "execution_count": 21,
      "outputs": [
        {
          "output_type": "error",
          "ename": "TypeError",
          "evalue": "ignored",
          "traceback": [
            "\u001b[0;31m---------------------------------------------------------------------------\u001b[0m",
            "\u001b[0;31mTypeError\u001b[0m                                 Traceback (most recent call last)",
            "\u001b[0;32m<ipython-input-21-b3f06b97a172>\u001b[0m in \u001b[0;36m<module>\u001b[0;34m()\u001b[0m\n\u001b[0;32m----> 1\u001b[0;31m \u001b[0ma\u001b[0m\u001b[0;34m+=\u001b[0m\u001b[0;36m1\u001b[0m\u001b[0;34m\u001b[0m\u001b[0;34m\u001b[0m\u001b[0m\n\u001b[0m",
            "\u001b[0;31mTypeError\u001b[0m: must be str, not int"
          ]
        }
      ]
    },
    {
      "cell_type": "markdown",
      "metadata": {
        "id": "-QhIFvRl3rrT",
        "colab_type": "text"
      },
      "source": [
        "### Checking variable types:\n"
      ]
    },
    {
      "cell_type": "code",
      "metadata": {
        "id": "7WdRCo5D3rrU",
        "colab_type": "code",
        "colab": {
          "base_uri": "https://localhost:8080/",
          "height": 36
        },
        "outputId": "a74745ef-0cfc-4b9e-dfb2-314c277c6633"
      },
      "source": [
        "type(a)"
      ],
      "execution_count": 22,
      "outputs": [
        {
          "output_type": "execute_result",
          "data": {
            "text/plain": [
              "str"
            ]
          },
          "metadata": {
            "tags": []
          },
          "execution_count": 22
        }
      ]
    },
    {
      "cell_type": "markdown",
      "metadata": {
        "id": "vwkUk-063rrc",
        "colab_type": "text"
      },
      "source": [
        "### Type casting:"
      ]
    },
    {
      "cell_type": "code",
      "metadata": {
        "id": "ytd_frJc3rrd",
        "colab_type": "code",
        "colab": {
          "base_uri": "https://localhost:8080/",
          "height": 36
        },
        "outputId": "073853ab-1b37-4a48-b4f6-87520b44ce02"
      },
      "source": [
        "str(1)"
      ],
      "execution_count": 23,
      "outputs": [
        {
          "output_type": "execute_result",
          "data": {
            "text/plain": [
              "'1'"
            ]
          },
          "metadata": {
            "tags": []
          },
          "execution_count": 23
        }
      ]
    },
    {
      "cell_type": "code",
      "metadata": {
        "id": "w_51WA8E3rrk",
        "colab_type": "code",
        "colab": {
          "base_uri": "https://localhost:8080/",
          "height": 36
        },
        "outputId": "44485918-8769-404b-b4a4-95ab2d99f11c"
      },
      "source": [
        "int('34')+5"
      ],
      "execution_count": 24,
      "outputs": [
        {
          "output_type": "execute_result",
          "data": {
            "text/plain": [
              "39"
            ]
          },
          "metadata": {
            "tags": []
          },
          "execution_count": 24
        }
      ]
    },
    {
      "cell_type": "markdown",
      "metadata": {
        "id": "xcbsZmlh3rrt",
        "colab_type": "text"
      },
      "source": [
        "# Operators"
      ]
    },
    {
      "cell_type": "markdown",
      "metadata": {
        "id": "z0X9pqDK3rrt",
        "colab_type": "text"
      },
      "source": [
        "## Arithmetic Operators"
      ]
    },
    {
      "cell_type": "markdown",
      "metadata": {
        "id": "FD0zyUv43rru",
        "colab_type": "text"
      },
      "source": [
        "| Symbol | Task Performed |\n",
        "|----|---|\n",
        "| +  | Addition |\n",
        "| -  | Subtraction |\n",
        "| /  | division |\n",
        "| %  | mod |\n",
        "| *  | multiplication |\n",
        "| //  | floor division |\n",
        "| **  | to the power of |"
      ]
    },
    {
      "cell_type": "code",
      "metadata": {
        "id": "8JgQGfWA3rrw",
        "colab_type": "code",
        "colab": {
          "base_uri": "https://localhost:8080/",
          "height": 36
        },
        "outputId": "6ed07492-3c99-4b7f-ae88-75dc4d39f9d3"
      },
      "source": [
        "1+2"
      ],
      "execution_count": 25,
      "outputs": [
        {
          "output_type": "execute_result",
          "data": {
            "text/plain": [
              "3"
            ]
          },
          "metadata": {
            "tags": []
          },
          "execution_count": 25
        }
      ]
    },
    {
      "cell_type": "code",
      "metadata": {
        "id": "FJdpimty3rr1",
        "colab_type": "code",
        "colab": {
          "base_uri": "https://localhost:8080/",
          "height": 36
        },
        "outputId": "377add24-2232-4587-a74f-b34c71ee5b3d"
      },
      "source": [
        "2-1"
      ],
      "execution_count": 26,
      "outputs": [
        {
          "output_type": "execute_result",
          "data": {
            "text/plain": [
              "1"
            ]
          },
          "metadata": {
            "tags": []
          },
          "execution_count": 26
        }
      ]
    },
    {
      "cell_type": "code",
      "metadata": {
        "id": "vn8f7q0M3rr9",
        "colab_type": "code",
        "colab": {
          "base_uri": "https://localhost:8080/",
          "height": 36
        },
        "outputId": "a9b17d3e-7906-4e27-b7a2-86d972286316"
      },
      "source": [
        "1*2"
      ],
      "execution_count": 27,
      "outputs": [
        {
          "output_type": "execute_result",
          "data": {
            "text/plain": [
              "2"
            ]
          },
          "metadata": {
            "tags": []
          },
          "execution_count": 27
        }
      ]
    },
    {
      "cell_type": "code",
      "metadata": {
        "id": "rw4OujjU3rsC",
        "colab_type": "code",
        "colab": {
          "base_uri": "https://localhost:8080/",
          "height": 36
        },
        "outputId": "9e4bf6f1-fd57-4030-bd96-e70a98737239"
      },
      "source": [
        "1/2"
      ],
      "execution_count": 31,
      "outputs": [
        {
          "output_type": "execute_result",
          "data": {
            "text/plain": [
              "0.5"
            ]
          },
          "metadata": {
            "tags": []
          },
          "execution_count": 31
        }
      ]
    },
    {
      "cell_type": "markdown",
      "metadata": {
        "id": "Rdp2NMVX3rsM",
        "colab_type": "text"
      },
      "source": [
        "0? This is because both the numerator and denominator are integers but the result is a float value hence an integer value is returned. By changing either the numerator or the denominator to float, correct answer can be obtained."
      ]
    },
    {
      "cell_type": "code",
      "metadata": {
        "id": "dj1EWTRQ3rsN",
        "colab_type": "code",
        "colab": {
          "base_uri": "https://localhost:8080/",
          "height": 36
        },
        "outputId": "af452b87-1485-4b20-96eb-adea0a507bcb"
      },
      "source": [
        "1/2.0"
      ],
      "execution_count": 32,
      "outputs": [
        {
          "output_type": "execute_result",
          "data": {
            "text/plain": [
              "0.5"
            ]
          },
          "metadata": {
            "tags": []
          },
          "execution_count": 32
        }
      ]
    },
    {
      "cell_type": "code",
      "metadata": {
        "id": "veWugkoz3rsX",
        "colab_type": "code",
        "colab": {
          "base_uri": "https://localhost:8080/",
          "height": 36
        },
        "outputId": "d0724296-9d99-4a50-d692-fe217a50f225"
      },
      "source": [
        "15%10"
      ],
      "execution_count": 33,
      "outputs": [
        {
          "output_type": "execute_result",
          "data": {
            "text/plain": [
              "5"
            ]
          },
          "metadata": {
            "tags": []
          },
          "execution_count": 33
        }
      ]
    },
    {
      "cell_type": "markdown",
      "metadata": {
        "id": "eoin-2jf3rsi",
        "colab_type": "text"
      },
      "source": [
        "Floor division is nothing but converting the result so obtained to the nearest integer."
      ]
    },
    {
      "cell_type": "code",
      "metadata": {
        "id": "hlS0kH8p3rsk",
        "colab_type": "code",
        "colab": {
          "base_uri": "https://localhost:8080/",
          "height": 36
        },
        "outputId": "9bd2a9dd-8354-4c18-8f0c-207a79f3cac7"
      },
      "source": [
        "2.8//2.0"
      ],
      "execution_count": 34,
      "outputs": [
        {
          "output_type": "execute_result",
          "data": {
            "text/plain": [
              "1.0"
            ]
          },
          "metadata": {
            "tags": []
          },
          "execution_count": 34
        }
      ]
    },
    {
      "cell_type": "markdown",
      "metadata": {
        "id": "fqY0dYOJ3rst",
        "colab_type": "text"
      },
      "source": [
        "## Relational Operators"
      ]
    },
    {
      "cell_type": "markdown",
      "metadata": {
        "id": "1RlNjsbz3rsy",
        "colab_type": "text"
      },
      "source": [
        "| Symbol | Task Performed |\n",
        "|----|---|\n",
        "| == | True, if it is equal |\n",
        "| !=  | True, if not equal to |\n",
        "| < | less than |\n",
        "| > | greater than |\n",
        "| <=  | less than or equal to |\n",
        "| >=  | greater than or equal to |"
      ]
    },
    {
      "cell_type": "code",
      "metadata": {
        "jupyter": {
          "outputs_hidden": true
        },
        "id": "xBRZQhoe3rs0",
        "colab_type": "code",
        "colab": {}
      },
      "source": [
        "z = 1"
      ],
      "execution_count": 0,
      "outputs": []
    },
    {
      "cell_type": "code",
      "metadata": {
        "id": "rkMrDe0k3rs9",
        "colab_type": "code",
        "colab": {
          "base_uri": "https://localhost:8080/",
          "height": 36
        },
        "outputId": "2f8c0ae9-0e06-4aea-8d89-c196420acba9"
      },
      "source": [
        "z == 1"
      ],
      "execution_count": 36,
      "outputs": [
        {
          "output_type": "execute_result",
          "data": {
            "text/plain": [
              "True"
            ]
          },
          "metadata": {
            "tags": []
          },
          "execution_count": 36
        }
      ]
    },
    {
      "cell_type": "code",
      "metadata": {
        "id": "MszxrWwv3rtB",
        "colab_type": "code",
        "colab": {
          "base_uri": "https://localhost:8080/",
          "height": 36
        },
        "outputId": "e8ad8644-2eec-468b-8102-0d3997f734de"
      },
      "source": [
        "z > 1"
      ],
      "execution_count": 37,
      "outputs": [
        {
          "output_type": "execute_result",
          "data": {
            "text/plain": [
              "False"
            ]
          },
          "metadata": {
            "tags": []
          },
          "execution_count": 37
        }
      ]
    },
    {
      "cell_type": "markdown",
      "metadata": {
        "id": "u9me-iKa3rtH",
        "colab_type": "text"
      },
      "source": [
        "## Bitwise Operators"
      ]
    },
    {
      "cell_type": "markdown",
      "metadata": {
        "id": "UBnCcYcS3rtJ",
        "colab_type": "text"
      },
      "source": [
        "| Symbol | Task Performed |\n",
        "|----|---|\n",
        "| &  | Logical And |\n",
        "| l  | Logical OR |\n",
        "| ^  | XOR |\n",
        "| ~  | Negate |\n",
        "| >>  | Right shift |\n",
        "| <<  | Left shift |"
      ]
    },
    {
      "cell_type": "code",
      "metadata": {
        "jupyter": {
          "outputs_hidden": true
        },
        "id": "3e3thjXf3rtJ",
        "colab_type": "code",
        "colab": {}
      },
      "source": [
        "a = 2 #10\n",
        "b = 3 #11"
      ],
      "execution_count": 0,
      "outputs": []
    },
    {
      "cell_type": "code",
      "metadata": {
        "id": "_AG0pvRP3rtW",
        "colab_type": "code",
        "colab": {
          "base_uri": "https://localhost:8080/",
          "height": 91
        },
        "outputId": "29ea44f6-9c0b-49d9-c240-9ebbd21ad127"
      },
      "source": [
        "#bin converts and returns the binary equivalent string of a given integer\n",
        "print(bin(a))\n",
        "print(bin(b))\n",
        "\n",
        "print (a & b)\n",
        "print (bin(a&b))"
      ],
      "execution_count": 44,
      "outputs": [
        {
          "output_type": "stream",
          "text": [
            "0b10\n",
            "0b11\n",
            "2\n",
            "0b10\n"
          ],
          "name": "stdout"
        }
      ]
    },
    {
      "cell_type": "code",
      "metadata": {
        "id": "fZxk0xrt3rtZ",
        "colab_type": "code",
        "colab": {
          "base_uri": "https://localhost:8080/",
          "height": 36
        },
        "outputId": "102aae83-5db2-4e98-864e-3b31cc485376"
      },
      "source": [
        "#Returns x with the bits shifted to the right by y places. This is the same as //'ing x by 2**y. \n",
        "5 >> 1"
      ],
      "execution_count": 45,
      "outputs": [
        {
          "output_type": "execute_result",
          "data": {
            "text/plain": [
              "2"
            ]
          },
          "metadata": {
            "tags": []
          },
          "execution_count": 45
        }
      ]
    },
    {
      "cell_type": "markdown",
      "metadata": {
        "id": "FJHc40JT3rtf",
        "colab_type": "text"
      },
      "source": [
        "0000 0101 -> 5 \n",
        "\n",
        "Shifting the digits by 1 to the right and zero padding\n",
        "\n",
        "0000 0010 -> 2"
      ]
    },
    {
      "cell_type": "code",
      "metadata": {
        "id": "gix9dkz83rtg",
        "colab_type": "code",
        "colab": {
          "base_uri": "https://localhost:8080/",
          "height": 36
        },
        "outputId": "efc42113-51fc-49d3-f1e1-7543c438624a"
      },
      "source": [
        "#Returns x with the bits shifted to the left by y places (and new bits on the right-hand-side are zeros). This is the same as multiplying x by 2**y. \n",
        "5 << 1"
      ],
      "execution_count": 52,
      "outputs": [
        {
          "output_type": "execute_result",
          "data": {
            "text/plain": [
              "10"
            ]
          },
          "metadata": {
            "tags": []
          },
          "execution_count": 52
        }
      ]
    },
    {
      "cell_type": "markdown",
      "metadata": {
        "id": "2BVlOonL3rtl",
        "colab_type": "text"
      },
      "source": [
        "0000 0101 -> 5 \n",
        "\n",
        "Shifting the digits by 1 to the left and zero padding\n",
        "\n",
        "0000 1010 -> 10"
      ]
    },
    {
      "cell_type": "markdown",
      "metadata": {
        "id": "sJcQCepQ3rtm",
        "colab_type": "text"
      },
      "source": [
        "# Built-in Functions"
      ]
    },
    {
      "cell_type": "markdown",
      "metadata": {
        "id": "ksK9-FYM3rtm",
        "colab_type": "text"
      },
      "source": [
        "Python comes loaded with pre-built functions"
      ]
    },
    {
      "cell_type": "markdown",
      "metadata": {
        "id": "aReV0uDf3rto",
        "colab_type": "text"
      },
      "source": [
        "## Conversion from one system to another"
      ]
    },
    {
      "cell_type": "markdown",
      "metadata": {
        "id": "y2xEd4zm3rtp",
        "colab_type": "text"
      },
      "source": [
        "Conversion from hexadecimal to decimal is done by adding prefix **0x** to the hexadecimal value or vice versa by using built in **hex( )**, Octal to decimal by adding prefix **0** to the octal value or vice versa by using built in function **oct( )**."
      ]
    },
    {
      "cell_type": "code",
      "metadata": {
        "id": "HNIhW44H3rtq",
        "colab_type": "code",
        "colab": {
          "base_uri": "https://localhost:8080/",
          "height": 36
        },
        "outputId": "c0348c61-fd16-4abf-dc7d-eb2b808d4813"
      },
      "source": [
        "hex(170)"
      ],
      "execution_count": 53,
      "outputs": [
        {
          "output_type": "execute_result",
          "data": {
            "text/plain": [
              "'0xaa'"
            ]
          },
          "metadata": {
            "tags": []
          },
          "execution_count": 53
        }
      ]
    },
    {
      "cell_type": "code",
      "metadata": {
        "id": "G3ajYsRw3rtv",
        "colab_type": "code",
        "colab": {
          "base_uri": "https://localhost:8080/",
          "height": 36
        },
        "outputId": "215bc129-21f0-494c-d085-50aa3aa7f880"
      },
      "source": [
        "0xAA"
      ],
      "execution_count": 54,
      "outputs": [
        {
          "output_type": "execute_result",
          "data": {
            "text/plain": [
              "170"
            ]
          },
          "metadata": {
            "tags": []
          },
          "execution_count": 54
        }
      ]
    },
    {
      "cell_type": "code",
      "metadata": {
        "id": "LBryryti3rt0",
        "colab_type": "code",
        "colab": {
          "base_uri": "https://localhost:8080/",
          "height": 36
        },
        "outputId": "816206ad-3eaa-4755-879b-5f00ee098021"
      },
      "source": [
        "oct(8)"
      ],
      "execution_count": 55,
      "outputs": [
        {
          "output_type": "execute_result",
          "data": {
            "text/plain": [
              "'0o10'"
            ]
          },
          "metadata": {
            "tags": []
          },
          "execution_count": 55
        }
      ]
    },
    {
      "cell_type": "markdown",
      "metadata": {
        "id": "lSRdR4BG3rt3",
        "colab_type": "text"
      },
      "source": [
        "**int( )** accepts two values when used for conversion, one is the value in a different number system and the other is its base. Note that input number in the different number system should be of string type."
      ]
    },
    {
      "cell_type": "code",
      "metadata": {
        "id": "CtTtkJ0G3rt3",
        "colab_type": "code",
        "colab": {
          "base_uri": "https://localhost:8080/",
          "height": 73
        },
        "outputId": "00796f0d-8dbd-44ea-b31a-1c0b49352b42"
      },
      "source": [
        "print (int('010',8))\n",
        "print (int('0xaa',16))\n",
        "print (int('1010',2))"
      ],
      "execution_count": 56,
      "outputs": [
        {
          "output_type": "stream",
          "text": [
            "8\n",
            "170\n",
            "10\n"
          ],
          "name": "stdout"
        }
      ]
    },
    {
      "cell_type": "markdown",
      "metadata": {
        "id": "i9AOE_8L3rt6",
        "colab_type": "text"
      },
      "source": [
        "**int( )** can also be used to get only the integer value of a float number or can be used to convert a number which is of type string to integer format. Similarly, the function **str( )** can be used to convert the integer back to string format"
      ]
    },
    {
      "cell_type": "code",
      "metadata": {
        "id": "MRK4kXoQ3rt7",
        "colab_type": "code",
        "colab": {
          "base_uri": "https://localhost:8080/",
          "height": 73
        },
        "outputId": "55acb039-6449-43bd-b4fd-b070c5ff46a4"
      },
      "source": [
        "print (int(7.7))\n",
        "print (int('7'))\n",
        "str(7)"
      ],
      "execution_count": 58,
      "outputs": [
        {
          "output_type": "stream",
          "text": [
            "7\n",
            "7\n"
          ],
          "name": "stdout"
        },
        {
          "output_type": "execute_result",
          "data": {
            "text/plain": [
              "'7'"
            ]
          },
          "metadata": {
            "tags": []
          },
          "execution_count": 58
        }
      ]
    },
    {
      "cell_type": "markdown",
      "metadata": {
        "id": "p75KgxMt3rt_",
        "colab_type": "text"
      },
      "source": [
        "Also note that function **bin( )** is used for binary and **float( )** for decimal/float values. **chr( )** is used for converting ASCII to its alphabet equivalent, **ord( )** is used for the other way round."
      ]
    },
    {
      "cell_type": "code",
      "metadata": {
        "id": "pll_D_fg3ruA",
        "colab_type": "code",
        "colab": {
          "base_uri": "https://localhost:8080/",
          "height": 36
        },
        "outputId": "3cafd314-2e0d-4b61-e689-b487a44d2bab"
      },
      "source": [
        "#89 ASCII for b\n",
        "chr(98)"
      ],
      "execution_count": 61,
      "outputs": [
        {
          "output_type": "execute_result",
          "data": {
            "text/plain": [
              "'b'"
            ]
          },
          "metadata": {
            "tags": []
          },
          "execution_count": 61
        }
      ]
    },
    {
      "cell_type": "code",
      "metadata": {
        "id": "hxUK4UEC3ruE",
        "colab_type": "code",
        "colab": {
          "base_uri": "https://localhost:8080/",
          "height": 36
        },
        "outputId": "a82b7278-dee0-4814-a388-1cd8a5b1b597"
      },
      "source": [
        "ord('b')"
      ],
      "execution_count": 60,
      "outputs": [
        {
          "output_type": "execute_result",
          "data": {
            "text/plain": [
              "98"
            ]
          },
          "metadata": {
            "tags": []
          },
          "execution_count": 60
        }
      ]
    },
    {
      "cell_type": "markdown",
      "metadata": {
        "id": "VRdTfyCB3ruH",
        "colab_type": "text"
      },
      "source": [
        "##Simplifying Arithmetic Operations"
      ]
    },
    {
      "cell_type": "markdown",
      "metadata": {
        "id": "2qUrBFx83ruI",
        "colab_type": "text"
      },
      "source": [
        "**round( )** function rounds the input value to a specified number of places or to the nearest integer. "
      ]
    },
    {
      "cell_type": "code",
      "metadata": {
        "id": "4UukIGxd3ruJ",
        "colab_type": "code",
        "colab": {
          "base_uri": "https://localhost:8080/",
          "height": 54
        },
        "outputId": "10272941-5cec-4312-d92d-78a372d9d02c"
      },
      "source": [
        "print (round(5.6231) )\n",
        "print (round(4.55892, 2))"
      ],
      "execution_count": 62,
      "outputs": [
        {
          "output_type": "stream",
          "text": [
            "6\n",
            "4.56\n"
          ],
          "name": "stdout"
        }
      ]
    },
    {
      "cell_type": "markdown",
      "metadata": {
        "id": "qe8KfGfl3ruU",
        "colab_type": "text"
      },
      "source": [
        "**complex( )** is used to define a complex number and **abs( )** outputs the absolute value of the same."
      ]
    },
    {
      "cell_type": "code",
      "metadata": {
        "id": "zPPaeJmv3ruW",
        "colab_type": "code",
        "colab": {
          "base_uri": "https://localhost:8080/",
          "height": 36
        },
        "outputId": "16d4ef6e-858d-4bef-8c98-3283cd7d4298"
      },
      "source": [
        "c =complex('5+2j')\n",
        "print (abs(c))"
      ],
      "execution_count": 63,
      "outputs": [
        {
          "output_type": "stream",
          "text": [
            "5.385164807134504\n"
          ],
          "name": "stdout"
        }
      ]
    },
    {
      "cell_type": "markdown",
      "metadata": {
        "id": "l5Yu0fSl3rub",
        "colab_type": "text"
      },
      "source": [
        "**divmod(x,y)** outputs the quotient and the remainder in a tuple(you will be learning about it in the further chapters) in the format (quotient, remainder). "
      ]
    },
    {
      "cell_type": "code",
      "metadata": {
        "id": "_UEgqw4z3rub",
        "colab_type": "code",
        "colab": {
          "base_uri": "https://localhost:8080/",
          "height": 36
        },
        "outputId": "0ae297f6-09dd-481c-dd93-7202b907819a"
      },
      "source": [
        "divmod(9,2)"
      ],
      "execution_count": 67,
      "outputs": [
        {
          "output_type": "execute_result",
          "data": {
            "text/plain": [
              "(4, 1)"
            ]
          },
          "metadata": {
            "tags": []
          },
          "execution_count": 67
        }
      ]
    },
    {
      "cell_type": "markdown",
      "metadata": {
        "id": "gLCNXn4_3ruh",
        "colab_type": "text"
      },
      "source": [
        "**isinstance( )** returns True, if the first argument is an instance of that class. Multiple classes can also be checked at once."
      ]
    },
    {
      "cell_type": "code",
      "metadata": {
        "id": "wYxBLmu33ruh",
        "colab_type": "code",
        "colab": {
          "base_uri": "https://localhost:8080/",
          "height": 73
        },
        "outputId": "146ae013-b598-4771-e438-d8f1465f894b"
      },
      "source": [
        "print (isinstance(1, int))\n",
        "print (isinstance(1.0,int))\n",
        "print (isinstance(1.0,(int,float)))"
      ],
      "execution_count": 68,
      "outputs": [
        {
          "output_type": "stream",
          "text": [
            "True\n",
            "False\n",
            "True\n"
          ],
          "name": "stdout"
        }
      ]
    },
    {
      "cell_type": "markdown",
      "metadata": {
        "id": "v6Ib_xSh3ruj",
        "colab_type": "text"
      },
      "source": [
        "**pow(x,y,z)** can be used to find the power $x^y$ also the mod of the resulting value with the third specified number can be found i.e. : ($x^y$ % z)."
      ]
    },
    {
      "cell_type": "code",
      "metadata": {
        "id": "5rHFtOsJ3ruk",
        "colab_type": "code",
        "colab": {
          "base_uri": "https://localhost:8080/",
          "height": 54
        },
        "outputId": "57d264d7-a2b8-4304-de5f-54330ada00f1"
      },
      "source": [
        "print (pow(3,3))\n",
        "print (pow(3,3,5))"
      ],
      "execution_count": 69,
      "outputs": [
        {
          "output_type": "stream",
          "text": [
            "27\n",
            "2\n"
          ],
          "name": "stdout"
        }
      ]
    },
    {
      "cell_type": "markdown",
      "metadata": {
        "id": "r5knYN6L3rup",
        "colab_type": "text"
      },
      "source": [
        "**range( )** function outputs the integers of the specified range. It can also be used to generate a series by specifying the difference between the two numbers within a particular range. The elements are returned in a list (will be discussing in detail later.)"
      ]
    },
    {
      "cell_type": "code",
      "metadata": {
        "id": "JvPm1_bG3ruq",
        "colab_type": "code",
        "colab": {
          "base_uri": "https://localhost:8080/",
          "height": 73
        },
        "outputId": "bc9476ed-4ae8-4d41-9672-a2f99d164590"
      },
      "source": [
        "print (range(3))\n",
        "print (range(2,9))\n",
        "print (range(2,27,8))"
      ],
      "execution_count": 70,
      "outputs": [
        {
          "output_type": "stream",
          "text": [
            "range(0, 3)\n",
            "range(2, 9)\n",
            "range(2, 27, 8)\n"
          ],
          "name": "stdout"
        }
      ]
    },
    {
      "cell_type": "code",
      "metadata": {
        "id": "wrRalvDt3ruu",
        "colab_type": "code",
        "colab": {}
      },
      "source": [
        ""
      ],
      "execution_count": 0,
      "outputs": []
    },
    {
      "cell_type": "code",
      "metadata": {
        "id": "Pq0CHX9A3ru0",
        "colab_type": "code",
        "colab": {}
      },
      "source": [
        ""
      ],
      "execution_count": 0,
      "outputs": []
    }
  ]
}