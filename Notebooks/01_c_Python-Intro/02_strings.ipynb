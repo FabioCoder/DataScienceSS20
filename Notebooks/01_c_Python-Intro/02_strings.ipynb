{
  "nbformat": 4,
  "nbformat_minor": 0,
  "metadata": {
    "kernelspec": {
      "display_name": "Python 3",
      "language": "python",
      "name": "python3"
    },
    "language_info": {
      "codemirror_mode": {
        "name": "ipython",
        "version": 3
      },
      "file_extension": ".py",
      "mimetype": "text/x-python",
      "name": "python",
      "nbconvert_exporter": "python",
      "pygments_lexer": "ipython3",
      "version": "3.7.1"
    },
    "colab": {
      "name": "02_strings.ipynb",
      "provenance": [],
      "include_colab_link": true
    }
  },
  "cells": [
    {
      "cell_type": "markdown",
      "metadata": {
        "id": "view-in-github",
        "colab_type": "text"
      },
      "source": [
        "<a href=\"https://colab.research.google.com/github/FabioCoder/DataScienceSS20/blob/Block_2/Notebooks/01_c_Python-Intro/02_strings.ipynb\" target=\"_parent\"><img src=\"https://colab.research.google.com/assets/colab-badge.svg\" alt=\"Open In Colab\"/></a>"
      ]
    },
    {
      "cell_type": "markdown",
      "metadata": {
        "id": "-n_mhuKm-fml",
        "colab_type": "text"
      },
      "source": [
        "# Introduction to Python II - Strings\n",
        "* Based on a lecture series by Rajath Kumart (https://github.com/rajathkumarmp/Python-Lectures)\n",
        "* Ported to Python3 and extessions added by Janis Keuper\n",
        "* Copyright: Creative Commons Attribution 3.0 Unported License. To view a copy of this license, visit http://creativecommons.org/licenses/by/3.0/"
      ]
    },
    {
      "cell_type": "code",
      "metadata": {
        "id": "X5qQzZc4-fmo",
        "colab_type": "code",
        "colab": {
          "base_uri": "https://localhost:8080/",
          "height": 128
        },
        "outputId": "3bf70b03-2f39-46dd-f830-4d3d458dc83f"
      },
      "source": [
        "#check if notebook runs in colab\n",
        "import sys\n",
        "IN_COLAB = 'google.colab' in sys.modules\n",
        "print('running in Colab:',IN_COLAB)\n",
        "path='..'\n",
        "if IN_COLAB:\n",
        "  #in colab, we need to clone the data from the repo\n",
        "  !git clone https://github.com/keuperj/DataScienceSS20.git\n",
        "  path='DataScienceSS20'"
      ],
      "execution_count": 1,
      "outputs": [
        {
          "output_type": "stream",
          "text": [
            "running in Colab: True\n",
            "Cloning into 'DataScienceSS20'...\n",
            "remote: Enumerating objects: 248, done.\u001b[K\n",
            "remote: Total 248 (delta 0), reused 0 (delta 0), pack-reused 248\u001b[K\n",
            "Receiving objects: 100% (248/248), 45.43 MiB | 25.59 MiB/s, done.\n",
            "Resolving deltas: 100% (85/85), done.\n"
          ],
          "name": "stdout"
        }
      ]
    },
    {
      "cell_type": "markdown",
      "metadata": {
        "id": "0dyThrgw-fm1",
        "colab_type": "text"
      },
      "source": [
        "# Print Statement"
      ]
    },
    {
      "cell_type": "markdown",
      "metadata": {
        "id": "jHE4aVjf-fm8",
        "colab_type": "text"
      },
      "source": [
        "The **print** statement can be used in the following different ways :\n",
        "\n",
        "    - print (\"Hello World\")\n",
        "    - print (\"Hello\", <Variable Containing the String>)\n",
        "    - print (\"Hello\" + <Variable Containing the String>)\n",
        "    - print (\"Hello %s\" % <variable containing the string>)"
      ]
    },
    {
      "cell_type": "code",
      "metadata": {
        "id": "_my-xfOd-fm_",
        "colab_type": "code",
        "colab": {
          "base_uri": "https://localhost:8080/",
          "height": 36
        },
        "outputId": "0c0d641a-7d73-4544-f3c9-09d5f42a168e"
      },
      "source": [
        "print (\"Hello World\")"
      ],
      "execution_count": 2,
      "outputs": [
        {
          "output_type": "stream",
          "text": [
            "Hello World\n"
          ],
          "name": "stdout"
        }
      ]
    },
    {
      "cell_type": "markdown",
      "metadata": {
        "id": "AVkxuQmp-fnO",
        "colab_type": "text"
      },
      "source": [
        "In Python, single, double and triple quotes are used to denote a string.\n",
        "Most use single quotes when declaring a single character. \n",
        "Double quotes when declaring a line and triple quotes when declaring a paragraph/multiple lines."
      ]
    },
    {
      "cell_type": "code",
      "metadata": {
        "id": "Lw-m1Uqz-fnQ",
        "colab_type": "code",
        "colab": {
          "base_uri": "https://localhost:8080/",
          "height": 36
        },
        "outputId": "238c18f1-eaea-4f32-a914-3fa05598adad"
      },
      "source": [
        "print ('Hey')"
      ],
      "execution_count": 3,
      "outputs": [
        {
          "output_type": "stream",
          "text": [
            "Hey\n"
          ],
          "name": "stdout"
        }
      ]
    },
    {
      "cell_type": "code",
      "metadata": {
        "id": "T5nT5qHz-fnX",
        "colab_type": "code",
        "colab": {
          "base_uri": "https://localhost:8080/",
          "height": 73
        },
        "outputId": "5c0a2f7f-3fe3-4fcb-e3e6-f5251ac465ff"
      },
      "source": [
        "print (\"\"\"My name is Rajath Kumar M.P.\n",
        "\n",
        "I love Python.\"\"\")"
      ],
      "execution_count": 5,
      "outputs": [
        {
          "output_type": "stream",
          "text": [
            "My name is Rajath Kumar M.P.\n",
            "\n",
            "I love Python.\n"
          ],
          "name": "stdout"
        }
      ]
    },
    {
      "cell_type": "markdown",
      "metadata": {
        "id": "4Athhhbc-fnf",
        "colab_type": "text"
      },
      "source": [
        "Strings can be assigned to variable say _string1_ and _string2_ which can called when using the print statement."
      ]
    },
    {
      "cell_type": "code",
      "metadata": {
        "scrolled": true,
        "id": "tvB-ly5q-fng",
        "colab_type": "code",
        "colab": {
          "base_uri": "https://localhost:8080/",
          "height": 54
        },
        "outputId": "a34bf8c3-cb93-41f1-9e81-05e2b06c4a9d"
      },
      "source": [
        "string1 = 'World'\n",
        "print ('Hello', string1)\n",
        "\n",
        "string2 = '!'\n",
        "print ('Hello', string1, string2)"
      ],
      "execution_count": 6,
      "outputs": [
        {
          "output_type": "stream",
          "text": [
            "Hello World\n",
            "Hello World !\n"
          ],
          "name": "stdout"
        }
      ]
    },
    {
      "cell_type": "markdown",
      "metadata": {
        "id": "gT2ifPYQ-fnr",
        "colab_type": "text"
      },
      "source": [
        "String concatenation is the \"addition\" of two strings. Observe that while concatenating there will be no space between the strings."
      ]
    },
    {
      "cell_type": "code",
      "metadata": {
        "id": "YVgUlgqz-fnt",
        "colab_type": "code",
        "colab": {
          "base_uri": "https://localhost:8080/",
          "height": 36
        },
        "outputId": "848dcae6-7674-4411-95e1-b0ab2cd81ee9"
      },
      "source": [
        "print ('Hello' + string1 + string2)"
      ],
      "execution_count": 7,
      "outputs": [
        {
          "output_type": "stream",
          "text": [
            "HelloWorld!\n"
          ],
          "name": "stdout"
        }
      ]
    },
    {
      "cell_type": "markdown",
      "metadata": {
        "id": "en_mbCZJ-fny",
        "colab_type": "text"
      },
      "source": [
        "**%s** is used to refer to a variable which contains a string."
      ]
    },
    {
      "cell_type": "code",
      "metadata": {
        "id": "SXx2x1Ic-fn0",
        "colab_type": "code",
        "colab": {
          "base_uri": "https://localhost:8080/",
          "height": 36
        },
        "outputId": "80f70200-8db7-4f1e-a2fd-427d9081fbfc"
      },
      "source": [
        "print (\"Hello %s\" % string1)"
      ],
      "execution_count": 8,
      "outputs": [
        {
          "output_type": "stream",
          "text": [
            "Hello World\n"
          ],
          "name": "stdout"
        }
      ]
    },
    {
      "cell_type": "markdown",
      "metadata": {
        "id": "-v3HkVth-fn7",
        "colab_type": "text"
      },
      "source": [
        "Similarly, when using other data types\n",
        "\n",
        "    - %s -> string\n",
        "    - %d -> Integer\n",
        "    - %f -> Float\n",
        "    - %o -> Octal\n",
        "    - %x -> Hexadecimal\n",
        "    - %e -> exponential\n",
        "    \n",
        "This can be used for conversions inside the print statement itself."
      ]
    },
    {
      "cell_type": "code",
      "metadata": {
        "id": "tJcsemaA-fn9",
        "colab_type": "code",
        "colab": {
          "base_uri": "https://localhost:8080/",
          "height": 110
        },
        "outputId": "1f961f13-8a8e-456e-ed2e-4af0e1eed886"
      },
      "source": [
        "print (\"Actual Number = %d\" %18)\n",
        "print (\"Float of the number = %f\" %18)\n",
        "print (\"Octal equivalent of the number = %o\" %18)\n",
        "print (\"Hexadecimal equivalent of the number = %x\" %18)\n",
        "print (\"Exponential equivalent of the number = %e\" %18)"
      ],
      "execution_count": 9,
      "outputs": [
        {
          "output_type": "stream",
          "text": [
            "Actual Number = 18\n",
            "Float of the number = 18.000000\n",
            "Octal equivalent of the number = 22\n",
            "Hexadecimal equivalent of the number = 12\n",
            "Exponential equivalent of the number = 1.800000e+01\n"
          ],
          "name": "stdout"
        }
      ]
    },
    {
      "cell_type": "markdown",
      "metadata": {
        "id": "kq0dRt2y-foD",
        "colab_type": "text"
      },
      "source": [
        "When referring to multiple variables parenthesis is used."
      ]
    },
    {
      "cell_type": "code",
      "metadata": {
        "id": "1v3klp7L-foE",
        "colab_type": "code",
        "colab": {
          "base_uri": "https://localhost:8080/",
          "height": 36
        },
        "outputId": "06f2940d-1a51-48bd-cebc-24a689de390f"
      },
      "source": [
        "print (\"Hello %s %s\" %(string1,string2))"
      ],
      "execution_count": 10,
      "outputs": [
        {
          "output_type": "stream",
          "text": [
            "Hello World !\n"
          ],
          "name": "stdout"
        }
      ]
    },
    {
      "cell_type": "markdown",
      "metadata": {
        "id": "QGoCS3Oz-foN",
        "colab_type": "text"
      },
      "source": [
        "## Other Examples"
      ]
    },
    {
      "cell_type": "markdown",
      "metadata": {
        "id": "RfBX48pW-foO",
        "colab_type": "text"
      },
      "source": [
        "The following are other different ways the print statement can be put to use."
      ]
    },
    {
      "cell_type": "code",
      "metadata": {
        "id": "6_LNqNvW-foP",
        "colab_type": "code",
        "colab": {
          "base_uri": "https://localhost:8080/",
          "height": 36
        },
        "outputId": "9a178a92-4b84-4871-a619-d8383a46a2f0"
      },
      "source": [
        "print (\"I want %%d to be printed %s\" % 'here')"
      ],
      "execution_count": 14,
      "outputs": [
        {
          "output_type": "stream",
          "text": [
            "I want %d to be printed here\n"
          ],
          "name": "stdout"
        }
      ]
    },
    {
      "cell_type": "code",
      "metadata": {
        "id": "C5jfBfMS-foW",
        "colab_type": "code",
        "colab": {
          "base_uri": "https://localhost:8080/",
          "height": 36
        },
        "outputId": "0e753f69-a527-4ff3-c3c9-8dc4546b2d07"
      },
      "source": [
        "print ('_A'*10)"
      ],
      "execution_count": 15,
      "outputs": [
        {
          "output_type": "stream",
          "text": [
            "_A_A_A_A_A_A_A_A_A_A\n"
          ],
          "name": "stdout"
        }
      ]
    },
    {
      "cell_type": "code",
      "metadata": {
        "id": "ILdiUH-q-fof",
        "colab_type": "code",
        "colab": {
          "base_uri": "https://localhost:8080/",
          "height": 166
        },
        "outputId": "984b0fe8-a5ca-4a23-d3a5-ec5ff73ff6fe"
      },
      "source": [
        "print (\"Jan\\nFeb\\nMar\\nApr\\nMay\\nJun\\nJul\\nAug\")"
      ],
      "execution_count": 16,
      "outputs": [
        {
          "output_type": "stream",
          "text": [
            "Jan\n",
            "Feb\n",
            "Mar\n",
            "Apr\n",
            "May\n",
            "Jun\n",
            "Jul\n",
            "Aug\n"
          ],
          "name": "stdout"
        }
      ]
    },
    {
      "cell_type": "code",
      "metadata": {
        "id": "URVrA5of-fok",
        "colab_type": "code",
        "colab": {
          "base_uri": "https://localhost:8080/",
          "height": 36
        },
        "outputId": "25505750-7c3d-4d9d-fd29-d9fd29a03281"
      },
      "source": [
        "print (\"I want \\\\n to be printed.\")"
      ],
      "execution_count": 17,
      "outputs": [
        {
          "output_type": "stream",
          "text": [
            "I want \\n to be printed.\n"
          ],
          "name": "stdout"
        }
      ]
    },
    {
      "cell_type": "code",
      "metadata": {
        "id": "N1ZXMJFg-fos",
        "colab_type": "code",
        "colab": {
          "base_uri": "https://localhost:8080/",
          "height": 128
        },
        "outputId": "29560641-5ad2-48dd-8b28-9af590f28409"
      },
      "source": [
        "print (\"\"\"\n",
        "Routine:\n",
        "\\t- Eat\n",
        "\\t- Sleep\\n\\t- Repeat\n",
        "\"\"\")"
      ],
      "execution_count": 18,
      "outputs": [
        {
          "output_type": "stream",
          "text": [
            "\n",
            "Routine:\n",
            "\t- Eat\n",
            "\t- Sleep\n",
            "\t- Repeat\n",
            "\n"
          ],
          "name": "stdout"
        }
      ]
    },
    {
      "cell_type": "markdown",
      "metadata": {
        "id": "08UIZQEn-fox",
        "colab_type": "text"
      },
      "source": [
        "# PrecisionWidth and FieldWidth"
      ]
    },
    {
      "cell_type": "markdown",
      "metadata": {
        "id": "rfrhga-W-foy",
        "colab_type": "text"
      },
      "source": [
        "Fieldwidth is the width of the entire number and precision is the width towards the right. One can alter these widths based on the requirements.\n",
        "\n",
        "The default Precision Width is set to 6."
      ]
    },
    {
      "cell_type": "code",
      "metadata": {
        "id": "NMBUZTGj-foz",
        "colab_type": "code",
        "colab": {
          "base_uri": "https://localhost:8080/",
          "height": 36
        },
        "outputId": "823578dd-906d-48f7-890a-4a65a7dafba0"
      },
      "source": [
        "\"%f\" % 3.121312312312"
      ],
      "execution_count": 19,
      "outputs": [
        {
          "output_type": "execute_result",
          "data": {
            "text/plain": [
              "'3.121312'"
            ]
          },
          "metadata": {
            "tags": []
          },
          "execution_count": 19
        }
      ]
    },
    {
      "cell_type": "markdown",
      "metadata": {
        "id": "KnQpDLgu-fo4",
        "colab_type": "text"
      },
      "source": [
        "Notice upto 6 decimal points are returned. To specify the number of decimal points, '%(fieldwidth).(precisionwidth)f' is used."
      ]
    },
    {
      "cell_type": "code",
      "metadata": {
        "id": "ttBa2ZYc-fo5",
        "colab_type": "code",
        "colab": {
          "base_uri": "https://localhost:8080/",
          "height": 36
        },
        "outputId": "1fc32cd5-4a58-4ab5-d33c-73233177d8c2"
      },
      "source": [
        "\"%.5f\" % 3.121312312312"
      ],
      "execution_count": 26,
      "outputs": [
        {
          "output_type": "execute_result",
          "data": {
            "text/plain": [
              "'3.12131'"
            ]
          },
          "metadata": {
            "tags": []
          },
          "execution_count": 26
        }
      ]
    },
    {
      "cell_type": "markdown",
      "metadata": {
        "id": "ooEbKNva-fo_",
        "colab_type": "text"
      },
      "source": [
        "If the field width is set more than the necessary than the data right aligns itself to adjust to the specified values."
      ]
    },
    {
      "cell_type": "code",
      "metadata": {
        "id": "XlEktymM-fpA",
        "colab_type": "code",
        "colab": {
          "base_uri": "https://localhost:8080/",
          "height": 36
        },
        "outputId": "202cf54b-3ace-46ec-e5f1-47fa3d9c6b8b"
      },
      "source": [
        "\"%9.5f\" % 3.121312312312 "
      ],
      "execution_count": 27,
      "outputs": [
        {
          "output_type": "execute_result",
          "data": {
            "text/plain": [
              "'  3.12131'"
            ]
          },
          "metadata": {
            "tags": []
          },
          "execution_count": 27
        }
      ]
    },
    {
      "cell_type": "markdown",
      "metadata": {
        "id": "TYvXPWQk-fpE",
        "colab_type": "text"
      },
      "source": [
        "Zero padding is done by adding a 0 at the start of fieldwidth."
      ]
    },
    {
      "cell_type": "code",
      "metadata": {
        "id": "XHcSTqXo-fpG",
        "colab_type": "code",
        "colab": {
          "base_uri": "https://localhost:8080/",
          "height": 36
        },
        "outputId": "d2883817-0fec-4e15-d62b-de09902b6cc3"
      },
      "source": [
        "\"%020.5f\" % 3.121312312312"
      ],
      "execution_count": 34,
      "outputs": [
        {
          "output_type": "execute_result",
          "data": {
            "text/plain": [
              "'00000000000003.12131'"
            ]
          },
          "metadata": {
            "tags": []
          },
          "execution_count": 34
        }
      ]
    },
    {
      "cell_type": "markdown",
      "metadata": {
        "id": "FsuHZD0u-fpL",
        "colab_type": "text"
      },
      "source": [
        "For proper alignment, a space can be left blank in the field width so that when a negative number is used, proper alignment is maintained."
      ]
    },
    {
      "cell_type": "code",
      "metadata": {
        "id": "WpNO_mlu-fpM",
        "colab_type": "code",
        "colab": {
          "base_uri": "https://localhost:8080/",
          "height": 54
        },
        "outputId": "4f9cd2ce-e889-4668-eb53-4429b415f096"
      },
      "source": [
        "print (\"% 9f\" % 3.121312312312)\n",
        "print (\"% 9f\" % -3.121312312312)"
      ],
      "execution_count": 31,
      "outputs": [
        {
          "output_type": "stream",
          "text": [
            " 3.121312\n",
            "-3.121312\n"
          ],
          "name": "stdout"
        }
      ]
    },
    {
      "cell_type": "markdown",
      "metadata": {
        "id": "BCCMe920-fpT",
        "colab_type": "text"
      },
      "source": [
        "'+' sign can be returned at the beginning of a positive number by adding a + sign at the beginning of the field width."
      ]
    },
    {
      "cell_type": "code",
      "metadata": {
        "id": "bR1bvs_G-fpU",
        "colab_type": "code",
        "colab": {
          "base_uri": "https://localhost:8080/",
          "height": 54
        },
        "outputId": "d203a415-0f62-408a-a3ad-1734fa3483f9"
      },
      "source": [
        "print (\"%+9f\" % 3.121312312312)\n",
        "print (\"% 9f\" % -3.121312312312)"
      ],
      "execution_count": 35,
      "outputs": [
        {
          "output_type": "stream",
          "text": [
            "+3.121312\n",
            "-3.121312\n"
          ],
          "name": "stdout"
        }
      ]
    },
    {
      "cell_type": "markdown",
      "metadata": {
        "id": "72p_caNY-fpY",
        "colab_type": "text"
      },
      "source": [
        "As mentioned above, the data right aligns itself when the field width mentioned is larger than the actualy field width. But left alignment can be done by specifying a negative symbol in the field width."
      ]
    },
    {
      "cell_type": "code",
      "metadata": {
        "id": "oz1-PuIF-fpZ",
        "colab_type": "code",
        "colab": {
          "base_uri": "https://localhost:8080/",
          "height": 36
        },
        "outputId": "454c0014-fb52-41d4-bc92-643a5008b711"
      },
      "source": [
        "\"%-9.3f\" % 3.121312312312"
      ],
      "execution_count": 38,
      "outputs": [
        {
          "output_type": "execute_result",
          "data": {
            "text/plain": [
              "'3.121    '"
            ]
          },
          "metadata": {
            "tags": []
          },
          "execution_count": 38
        }
      ]
    },
    {
      "cell_type": "markdown",
      "metadata": {
        "id": "klfy6wct-fph",
        "colab_type": "text"
      },
      "source": [
        "## Strings"
      ]
    },
    {
      "cell_type": "markdown",
      "metadata": {
        "id": "a_WK3flo-fpj",
        "colab_type": "text"
      },
      "source": [
        "Strings are ordered text based data which are represented by enclosing the same in single/double/triple quotes."
      ]
    },
    {
      "cell_type": "code",
      "metadata": {
        "id": "O6a9ID3I-fpl",
        "colab_type": "code",
        "colab": {}
      },
      "source": [
        "String0 = 'Taj Mahal is beautiful'\n",
        "String1 = \"Taj Mahal is beautiful\"\n",
        "String2 = '''Taj Mahal\n",
        "is\n",
        "beautiful'''"
      ],
      "execution_count": 0,
      "outputs": []
    },
    {
      "cell_type": "code",
      "metadata": {
        "id": "05mic-dQ-fpr",
        "colab_type": "code",
        "colab": {
          "base_uri": "https://localhost:8080/",
          "height": 110
        },
        "outputId": "21525e3b-4572-4ec6-d583-8c24a68c99d0"
      },
      "source": [
        "print (String0 , type(String0))\n",
        "print (String1, type(String1))\n",
        "print (String2, type(String2))"
      ],
      "execution_count": 40,
      "outputs": [
        {
          "output_type": "stream",
          "text": [
            "Taj Mahal is beautiful <class 'str'>\n",
            "Taj Mahal is beautiful <class 'str'>\n",
            "Taj Mahal\n",
            "is\n",
            "beautiful <class 'str'>\n"
          ],
          "name": "stdout"
        }
      ]
    },
    {
      "cell_type": "markdown",
      "metadata": {
        "id": "IziUbJKq-fpw",
        "colab_type": "text"
      },
      "source": [
        "String Indexing and Slicing are similar to Lists which was explained in detail earlier."
      ]
    },
    {
      "cell_type": "code",
      "metadata": {
        "id": "gOEoNml0-fpy",
        "colab_type": "code",
        "colab": {
          "base_uri": "https://localhost:8080/",
          "height": 54
        },
        "outputId": "82154cef-fdba-4615-9c50-0bfe30f7fe87"
      },
      "source": [
        "print (String0[4])\n",
        "print (String0[4:])"
      ],
      "execution_count": 41,
      "outputs": [
        {
          "output_type": "stream",
          "text": [
            "M\n",
            "Mahal is beautiful\n"
          ],
          "name": "stdout"
        }
      ]
    },
    {
      "cell_type": "markdown",
      "metadata": {
        "id": "owtC14hk-fp2",
        "colab_type": "text"
      },
      "source": [
        "### Built-in Functions"
      ]
    },
    {
      "cell_type": "markdown",
      "metadata": {
        "id": "06LhJEBJ-fp4",
        "colab_type": "text"
      },
      "source": [
        "**find( )** function returns the index value of the given data that is to found in the string. If it is not found it returns **-1**. Remember to not confuse the returned -1 for reverse indexing value."
      ]
    },
    {
      "cell_type": "code",
      "metadata": {
        "id": "LiezBKKu-fp4",
        "colab_type": "code",
        "colab": {
          "base_uri": "https://localhost:8080/",
          "height": 54
        },
        "outputId": "d5395d69-0cf0-4de7-bd92-ad67f81b6428"
      },
      "source": [
        "print (String0.find('al'))\n",
        "print (String0.find('am'))"
      ],
      "execution_count": 42,
      "outputs": [
        {
          "output_type": "stream",
          "text": [
            "7\n",
            "-1\n"
          ],
          "name": "stdout"
        }
      ]
    },
    {
      "cell_type": "markdown",
      "metadata": {
        "id": "1RVdpCbj-fp-",
        "colab_type": "text"
      },
      "source": [
        "The index value returned is the index of the first element in the input data."
      ]
    },
    {
      "cell_type": "code",
      "metadata": {
        "id": "WAZFwLR8-fp_",
        "colab_type": "code",
        "colab": {
          "base_uri": "https://localhost:8080/",
          "height": 36
        },
        "outputId": "9033f247-2567-4fc6-fb1b-8674b579980f"
      },
      "source": [
        "print (String0[7])"
      ],
      "execution_count": 43,
      "outputs": [
        {
          "output_type": "stream",
          "text": [
            "a\n"
          ],
          "name": "stdout"
        }
      ]
    },
    {
      "cell_type": "markdown",
      "metadata": {
        "id": "NxvI0re3-fqF",
        "colab_type": "text"
      },
      "source": [
        "One can also input **find( )** function between which index values it has to search."
      ]
    },
    {
      "cell_type": "code",
      "metadata": {
        "id": "VJAHS3s8-fqF",
        "colab_type": "code",
        "colab": {
          "base_uri": "https://localhost:8080/",
          "height": 73
        },
        "outputId": "64685962-44f1-4edf-b7e3-6053310853e7"
      },
      "source": [
        "print (String0.find('j',1))\n",
        "print (String0.find('j',1,3))\n",
        "print (String0.find('j',0,2))"
      ],
      "execution_count": 48,
      "outputs": [
        {
          "output_type": "stream",
          "text": [
            "2\n",
            "2\n",
            "-1\n"
          ],
          "name": "stdout"
        }
      ]
    },
    {
      "cell_type": "markdown",
      "metadata": {
        "id": "7rjcoqsQ-fqP",
        "colab_type": "text"
      },
      "source": [
        "**capitalize( )** is used to capitalize the first element in the string."
      ]
    },
    {
      "cell_type": "code",
      "metadata": {
        "id": "DQLtZQvl-fqR",
        "colab_type": "code",
        "colab": {
          "base_uri": "https://localhost:8080/",
          "height": 36
        },
        "outputId": "b8f69224-1c23-4245-d0a8-73ed27ec50b3"
      },
      "source": [
        "String3 = 'observe the first letter in this sentence.'\n",
        "print (String3.capitalize())"
      ],
      "execution_count": 49,
      "outputs": [
        {
          "output_type": "stream",
          "text": [
            "Observe the first letter in this sentence.\n"
          ],
          "name": "stdout"
        }
      ]
    },
    {
      "cell_type": "markdown",
      "metadata": {
        "id": "BIkOA1ec-fqU",
        "colab_type": "text"
      },
      "source": [
        "**center( )** is used to center align the string by specifying the field width."
      ]
    },
    {
      "cell_type": "code",
      "metadata": {
        "id": "TZGWu7jC-fqV",
        "colab_type": "code",
        "colab": {
          "base_uri": "https://localhost:8080/",
          "height": 36
        },
        "outputId": "2981ccc4-6580-4288-f468-13b998a2515e"
      },
      "source": [
        "String0.center(70)"
      ],
      "execution_count": 50,
      "outputs": [
        {
          "output_type": "execute_result",
          "data": {
            "text/plain": [
              "'                        Taj Mahal is beautiful                        '"
            ]
          },
          "metadata": {
            "tags": []
          },
          "execution_count": 50
        }
      ]
    },
    {
      "cell_type": "markdown",
      "metadata": {
        "id": "9aJ5Fd2q-fqb",
        "colab_type": "text"
      },
      "source": [
        "One can also fill the left out spaces with any other character."
      ]
    },
    {
      "cell_type": "code",
      "metadata": {
        "id": "MU3fqpxx-fqb",
        "colab_type": "code",
        "colab": {
          "base_uri": "https://localhost:8080/",
          "height": 36
        },
        "outputId": "23ec68f5-1fa5-42e4-c4d6-7a425973171c"
      },
      "source": [
        "String0.center(70,'-')"
      ],
      "execution_count": 54,
      "outputs": [
        {
          "output_type": "execute_result",
          "data": {
            "text/plain": [
              "'------------------------Taj Mahal is beautiful------------------------'"
            ]
          },
          "metadata": {
            "tags": []
          },
          "execution_count": 54
        }
      ]
    },
    {
      "cell_type": "markdown",
      "metadata": {
        "id": "qtgr5DxA-fqg",
        "colab_type": "text"
      },
      "source": [
        "**zfill( )** is used for zero padding by specifying the field width."
      ]
    },
    {
      "cell_type": "code",
      "metadata": {
        "id": "2sbYFujD-fqi",
        "colab_type": "code",
        "colab": {
          "base_uri": "https://localhost:8080/",
          "height": 36
        },
        "outputId": "d6f47909-4790-4463-bda3-9d215f1a1ed7"
      },
      "source": [
        "#Fill the string with zeros until it is 30 characters long:\n",
        "String0.zfill(30)"
      ],
      "execution_count": 56,
      "outputs": [
        {
          "output_type": "execute_result",
          "data": {
            "text/plain": [
              "'00000000Taj Mahal is beautiful'"
            ]
          },
          "metadata": {
            "tags": []
          },
          "execution_count": 56
        }
      ]
    },
    {
      "cell_type": "markdown",
      "metadata": {
        "id": "P-zjCwKZ-fqk",
        "colab_type": "text"
      },
      "source": [
        "**expandtabs( )** allows you to change the spacing of the tab character. '\\t' which is by default set to 8 spaces."
      ]
    },
    {
      "cell_type": "code",
      "metadata": {
        "id": "UiWxE1b4-fql",
        "colab_type": "code",
        "colab": {
          "base_uri": "https://localhost:8080/",
          "height": 73
        },
        "outputId": "bcdb9b27-31f2-41c1-c495-e07a70f25eb3"
      },
      "source": [
        "s = 'h\\te\\tl\\tl\\to'\n",
        "print (s)\n",
        "print (s.expandtabs(1))\n",
        "print (s.expandtabs())"
      ],
      "execution_count": 57,
      "outputs": [
        {
          "output_type": "stream",
          "text": [
            "h\te\tl\tl\to\n",
            "h e l l o\n",
            "h       e       l       l       o\n"
          ],
          "name": "stdout"
        }
      ]
    },
    {
      "cell_type": "markdown",
      "metadata": {
        "id": "2-Ie2Jkn-fqn",
        "colab_type": "text"
      },
      "source": [
        "**endswith( )** function is used to check if the given string ends with the particular char which is given as input."
      ]
    },
    {
      "cell_type": "code",
      "metadata": {
        "id": "VjyNBEqV-fqo",
        "colab_type": "code",
        "colab": {
          "base_uri": "https://localhost:8080/",
          "height": 36
        },
        "outputId": "dfca1fac-8558-4c4e-9c7a-93c7add15bcb"
      },
      "source": [
        "print (String0.endswith('y'))"
      ],
      "execution_count": 58,
      "outputs": [
        {
          "output_type": "stream",
          "text": [
            "False\n"
          ],
          "name": "stdout"
        }
      ]
    },
    {
      "cell_type": "markdown",
      "metadata": {
        "id": "UuIsp6Fd-fqr",
        "colab_type": "text"
      },
      "source": [
        "The start and stop index values can also be specified."
      ]
    },
    {
      "cell_type": "code",
      "metadata": {
        "id": "bka5v4Sx-fqr",
        "colab_type": "code",
        "colab": {
          "base_uri": "https://localhost:8080/",
          "height": 91
        },
        "outputId": "f2f0d1bf-e66a-49a0-cc1c-18448dd191db"
      },
      "source": [
        "print (String0)\n",
        "print (String0.endswith('l',0))\n",
        "print (String0.endswith('M',0,5))\n",
        "print (String0.endswith('M',0,4))"
      ],
      "execution_count": 61,
      "outputs": [
        {
          "output_type": "stream",
          "text": [
            "Taj Mahal is beautiful\n",
            "True\n",
            "True\n",
            "False\n"
          ],
          "name": "stdout"
        }
      ]
    },
    {
      "cell_type": "markdown",
      "metadata": {
        "id": "_4G9JfxH-fqu",
        "colab_type": "text"
      },
      "source": [
        "**count( )** function counts the number of char in the given string. The start and the stop index can also be specified or left blank. (These are Implicit arguments which will be dealt in functions)"
      ]
    },
    {
      "cell_type": "code",
      "metadata": {
        "id": "tV2Uiuc3-fqv",
        "colab_type": "code",
        "colab": {
          "base_uri": "https://localhost:8080/",
          "height": 54
        },
        "outputId": "72f8897e-99c0-4a67-b215-fa994e982e0f"
      },
      "source": [
        "print (String0.count('a',0))\n",
        "print (String0.count('a',5,10))"
      ],
      "execution_count": 62,
      "outputs": [
        {
          "output_type": "stream",
          "text": [
            "4\n",
            "2\n"
          ],
          "name": "stdout"
        }
      ]
    },
    {
      "cell_type": "markdown",
      "metadata": {
        "id": "thL4QRrE-fq1",
        "colab_type": "text"
      },
      "source": [
        "**join( )** function is used add a char in between the elements of the input string."
      ]
    },
    {
      "cell_type": "code",
      "metadata": {
        "id": "j6owGYRm-fq2",
        "colab_type": "code",
        "colab": {
          "base_uri": "https://localhost:8080/",
          "height": 36
        },
        "outputId": "3571480f-627b-4a38-ea70-3ef9c39b3e6d"
      },
      "source": [
        "'a'.join('*_-')"
      ],
      "execution_count": 65,
      "outputs": [
        {
          "output_type": "execute_result",
          "data": {
            "text/plain": [
              "'*a_a-'"
            ]
          },
          "metadata": {
            "tags": []
          },
          "execution_count": 65
        }
      ]
    },
    {
      "cell_type": "markdown",
      "metadata": {
        "id": "hXQMCYhc-fq6",
        "colab_type": "text"
      },
      "source": [
        "'*_-' is the input string and char 'a' is added in between each element"
      ]
    },
    {
      "cell_type": "markdown",
      "metadata": {
        "id": "66B9E3gR-fq6",
        "colab_type": "text"
      },
      "source": [
        "**join( )** function can also be used to convert a list into a string."
      ]
    },
    {
      "cell_type": "code",
      "metadata": {
        "id": "uWt2_PxI-fq8",
        "colab_type": "code",
        "colab": {
          "base_uri": "https://localhost:8080/",
          "height": 54
        },
        "outputId": "3e2eae0d-f26a-4c37-96c9-313cb355d7c7"
      },
      "source": [
        "a = list(String0)\n",
        "print (a)\n",
        "b = ''.join(a)\n",
        "print (b)"
      ],
      "execution_count": 66,
      "outputs": [
        {
          "output_type": "stream",
          "text": [
            "['T', 'a', 'j', ' ', 'M', 'a', 'h', 'a', 'l', ' ', 'i', 's', ' ', 'b', 'e', 'a', 'u', 't', 'i', 'f', 'u', 'l']\n",
            "Taj Mahal is beautiful\n"
          ],
          "name": "stdout"
        }
      ]
    },
    {
      "cell_type": "markdown",
      "metadata": {
        "id": "gNIOk63x-fq-",
        "colab_type": "text"
      },
      "source": [
        "Before converting it into a string **join( )** function can be used to insert any char in between the list elements."
      ]
    },
    {
      "cell_type": "code",
      "metadata": {
        "id": "xNCNaDYm-frA",
        "colab_type": "code",
        "colab": {
          "base_uri": "https://localhost:8080/",
          "height": 36
        },
        "outputId": "74d258b6-859c-4f4c-9e81-0cec2d90b92f"
      },
      "source": [
        "c = '/'.join(a)[18:]\n",
        "print (c)"
      ],
      "execution_count": 67,
      "outputs": [
        {
          "output_type": "stream",
          "text": [
            " /i/s/ /b/e/a/u/t/i/f/u/l\n"
          ],
          "name": "stdout"
        }
      ]
    },
    {
      "cell_type": "markdown",
      "metadata": {
        "id": "36PL09Ny-frE",
        "colab_type": "text"
      },
      "source": [
        "**split( )** function is used to convert a string back to a list. Think of it as the opposite of the **join()** function."
      ]
    },
    {
      "cell_type": "code",
      "metadata": {
        "id": "OqrvSuCN-frG",
        "colab_type": "code",
        "colab": {
          "base_uri": "https://localhost:8080/",
          "height": 36
        },
        "outputId": "a9b61da1-1d2d-47ca-837c-dbf04a1b880d"
      },
      "source": [
        "d = c.split('/')\n",
        "print (d)"
      ],
      "execution_count": 68,
      "outputs": [
        {
          "output_type": "stream",
          "text": [
            "[' ', 'i', 's', ' ', 'b', 'e', 'a', 'u', 't', 'i', 'f', 'u', 'l']\n"
          ],
          "name": "stdout"
        }
      ]
    },
    {
      "cell_type": "markdown",
      "metadata": {
        "id": "M-toOz4w-frI",
        "colab_type": "text"
      },
      "source": [
        "In **split( )** function one can also specify the number of times you want to split the string or the number of elements the new returned list should conatin. The number of elements is always one more than the specified number this is because it is split the number of times specified."
      ]
    },
    {
      "cell_type": "code",
      "metadata": {
        "id": "lG3OdA0P-frJ",
        "colab_type": "code",
        "colab": {
          "base_uri": "https://localhost:8080/",
          "height": 54
        },
        "outputId": "d2c8029a-8c24-4ee8-c4e4-43154ff5bea8"
      },
      "source": [
        "e = c.split('/',3)\n",
        "print (e)\n",
        "print (len(e))"
      ],
      "execution_count": 69,
      "outputs": [
        {
          "output_type": "stream",
          "text": [
            "[' ', 'i', 's', ' /b/e/a/u/t/i/f/u/l']\n",
            "4\n"
          ],
          "name": "stdout"
        }
      ]
    },
    {
      "cell_type": "markdown",
      "metadata": {
        "id": "jVi030yY-frM",
        "colab_type": "text"
      },
      "source": [
        "**lower( )** converts any capital letter to small letter."
      ]
    },
    {
      "cell_type": "code",
      "metadata": {
        "id": "bpdrbn60-frN",
        "colab_type": "code",
        "colab": {
          "base_uri": "https://localhost:8080/",
          "height": 54
        },
        "outputId": "73db6a62-5fa5-4b78-9f7a-3c8285f9c13d"
      },
      "source": [
        "print (String0)\n",
        "print (String0.lower())"
      ],
      "execution_count": 70,
      "outputs": [
        {
          "output_type": "stream",
          "text": [
            "Taj Mahal is beautiful\n",
            "taj mahal is beautiful\n"
          ],
          "name": "stdout"
        }
      ]
    },
    {
      "cell_type": "markdown",
      "metadata": {
        "id": "1yqkWEJt-frP",
        "colab_type": "text"
      },
      "source": [
        "**upper( )** converts any small letter to capital letter."
      ]
    },
    {
      "cell_type": "code",
      "metadata": {
        "id": "K8FbOBxW-frT",
        "colab_type": "code",
        "colab": {
          "base_uri": "https://localhost:8080/",
          "height": 36
        },
        "outputId": "09843726-87e8-4b3e-84cc-01f9312ffa00"
      },
      "source": [
        "String0.upper()"
      ],
      "execution_count": 71,
      "outputs": [
        {
          "output_type": "execute_result",
          "data": {
            "text/plain": [
              "'TAJ MAHAL IS BEAUTIFUL'"
            ]
          },
          "metadata": {
            "tags": []
          },
          "execution_count": 71
        }
      ]
    },
    {
      "cell_type": "markdown",
      "metadata": {
        "id": "tY_tSNaa-frY",
        "colab_type": "text"
      },
      "source": [
        "**replace( )** function replaces the element with another element."
      ]
    },
    {
      "cell_type": "code",
      "metadata": {
        "id": "uTjaLx9F-frY",
        "colab_type": "code",
        "colab": {
          "base_uri": "https://localhost:8080/",
          "height": 36
        },
        "outputId": "2ad9538c-8190-4571-d3e3-d7f498cb788b"
      },
      "source": [
        "String0.replace('Taj Mahal','Bengaluru')"
      ],
      "execution_count": 72,
      "outputs": [
        {
          "output_type": "execute_result",
          "data": {
            "text/plain": [
              "'Bengaluru is beautiful'"
            ]
          },
          "metadata": {
            "tags": []
          },
          "execution_count": 72
        }
      ]
    },
    {
      "cell_type": "markdown",
      "metadata": {
        "id": "ti70IKnB-fre",
        "colab_type": "text"
      },
      "source": [
        "**strip( )** function is used to delete elements from the right end and the left end which is not required."
      ]
    },
    {
      "cell_type": "code",
      "metadata": {
        "id": "7au4_7ti-frf",
        "colab_type": "code",
        "colab": {}
      },
      "source": [
        "f = '    hello      '"
      ],
      "execution_count": 0,
      "outputs": []
    },
    {
      "cell_type": "markdown",
      "metadata": {
        "id": "p4ba4xR0-frk",
        "colab_type": "text"
      },
      "source": [
        "If no char is specified then it will delete all the spaces that is present in the right and left hand side of the data."
      ]
    },
    {
      "cell_type": "code",
      "metadata": {
        "id": "oS9vxQKZ-frl",
        "colab_type": "code",
        "colab": {
          "base_uri": "https://localhost:8080/",
          "height": 36
        },
        "outputId": "22d267f3-08a8-4091-f6a8-6e04d887cf6d"
      },
      "source": [
        "f.strip()"
      ],
      "execution_count": 74,
      "outputs": [
        {
          "output_type": "execute_result",
          "data": {
            "text/plain": [
              "'hello'"
            ]
          },
          "metadata": {
            "tags": []
          },
          "execution_count": 74
        }
      ]
    },
    {
      "cell_type": "markdown",
      "metadata": {
        "id": "FUImighj-frp",
        "colab_type": "text"
      },
      "source": [
        "**strip( )** function, when a char is specified then it deletes that char if it is present in the two ends of the specified string."
      ]
    },
    {
      "cell_type": "code",
      "metadata": {
        "id": "UHRUaw04-frp",
        "colab_type": "code",
        "colab": {}
      },
      "source": [
        "f = '   ***----hello---*******     '"
      ],
      "execution_count": 0,
      "outputs": []
    },
    {
      "cell_type": "code",
      "metadata": {
        "id": "aNUvG65--frt",
        "colab_type": "code",
        "colab": {
          "base_uri": "https://localhost:8080/",
          "height": 36
        },
        "outputId": "8327d7c5-e9af-4d87-b266-65afb5ab182a"
      },
      "source": [
        "f.strip('*')"
      ],
      "execution_count": 76,
      "outputs": [
        {
          "output_type": "execute_result",
          "data": {
            "text/plain": [
              "'   ***----hello---*******     '"
            ]
          },
          "metadata": {
            "tags": []
          },
          "execution_count": 76
        }
      ]
    },
    {
      "cell_type": "markdown",
      "metadata": {
        "id": "ZPKTJb6q-frw",
        "colab_type": "text"
      },
      "source": [
        "The asterisk had to be deleted but is not. This is because there is a space in both the right and left hand side. So in strip function. The characters need to be inputted in the specific order in which they are present."
      ]
    },
    {
      "cell_type": "code",
      "metadata": {
        "id": "Q26SmJbN-frx",
        "colab_type": "code",
        "colab": {
          "base_uri": "https://localhost:8080/",
          "height": 54
        },
        "outputId": "f6bbe048-0b79-42bc-b424-0c52a8b945e0"
      },
      "source": [
        "print (f.strip(' *'))\n",
        "print (f.strip(' *-'))"
      ],
      "execution_count": 77,
      "outputs": [
        {
          "output_type": "stream",
          "text": [
            "----hello---\n",
            "hello\n"
          ],
          "name": "stdout"
        }
      ]
    },
    {
      "cell_type": "markdown",
      "metadata": {
        "id": "jAhVb0v4-fr2",
        "colab_type": "text"
      },
      "source": [
        "**lstrip( )** and **rstrip( )** function have the same functionality as strip function but the only difference is **lstrip( )** deletes only towards the left side and **rstrip( )** towards the right."
      ]
    },
    {
      "cell_type": "code",
      "metadata": {
        "id": "DscEsPDv-fr3",
        "colab_type": "code",
        "colab": {
          "base_uri": "https://localhost:8080/",
          "height": 54
        },
        "outputId": "01e0d2c3-75b2-417e-9202-1b61f039c4ce"
      },
      "source": [
        "print (f.lstrip(' *'))\n",
        "print (f.rstrip(' *'))"
      ],
      "execution_count": 78,
      "outputs": [
        {
          "output_type": "stream",
          "text": [
            "----hello---*******     \n",
            "   ***----hello---\n"
          ],
          "name": "stdout"
        }
      ]
    },
    {
      "cell_type": "markdown",
      "metadata": {
        "id": "kYytjij0-fr5",
        "colab_type": "text"
      },
      "source": [
        "## Dictionaries"
      ]
    },
    {
      "cell_type": "markdown",
      "metadata": {
        "id": "CF2ie4fD-fr6",
        "colab_type": "text"
      },
      "source": [
        "Dictionaries are more used like a database because here you can index a particular sequence with your user defined string."
      ]
    },
    {
      "cell_type": "markdown",
      "metadata": {
        "id": "IBxXqD90-fr6",
        "colab_type": "text"
      },
      "source": [
        "To define a dictionary, equate a variable to { } or dict()"
      ]
    },
    {
      "cell_type": "code",
      "metadata": {
        "id": "oOLRNFzC-fr8",
        "colab_type": "code",
        "colab": {
          "base_uri": "https://localhost:8080/",
          "height": 36
        },
        "outputId": "851ce154-7ba1-4ce5-d5e1-11f8e8e32c9d"
      },
      "source": [
        "d0 = {}\n",
        "d1 = dict()\n",
        "print (type(d0), type(d1))"
      ],
      "execution_count": 79,
      "outputs": [
        {
          "output_type": "stream",
          "text": [
            "<class 'dict'> <class 'dict'>\n"
          ],
          "name": "stdout"
        }
      ]
    },
    {
      "cell_type": "markdown",
      "metadata": {
        "id": "QYF7TW41-fr_",
        "colab_type": "text"
      },
      "source": [
        "Dictionary works somewhat like a list but with an added capability of assigning it's own index style."
      ]
    },
    {
      "cell_type": "code",
      "metadata": {
        "id": "EG2xwEBx-fsA",
        "colab_type": "code",
        "colab": {
          "base_uri": "https://localhost:8080/",
          "height": 36
        },
        "outputId": "3b38bf90-a653-488b-c6db-8af9318b371d"
      },
      "source": [
        "d0['One'] = 1\n",
        "d0['OneTwo'] = \"12\" \n",
        "print (d0)"
      ],
      "execution_count": 80,
      "outputs": [
        {
          "output_type": "stream",
          "text": [
            "{'One': 1, 'OneTwo': '12'}\n"
          ],
          "name": "stdout"
        }
      ]
    },
    {
      "cell_type": "markdown",
      "metadata": {
        "id": "4xFvHOKm-fsC",
        "colab_type": "text"
      },
      "source": [
        "That is how a dictionary looks like. Now you are able to access '1' by the index value set at 'One'"
      ]
    },
    {
      "cell_type": "code",
      "metadata": {
        "id": "9hHVOMd1-fsD",
        "colab_type": "code",
        "colab": {
          "base_uri": "https://localhost:8080/",
          "height": 36
        },
        "outputId": "ec655b1d-4685-4e86-bcc8-1c51feb01370"
      },
      "source": [
        "print (d0['One'])"
      ],
      "execution_count": 81,
      "outputs": [
        {
          "output_type": "stream",
          "text": [
            "1\n"
          ],
          "name": "stdout"
        }
      ]
    },
    {
      "cell_type": "markdown",
      "metadata": {
        "id": "HqixlZ84-fsH",
        "colab_type": "text"
      },
      "source": [
        "Two lists which are related can be merged to form a dictionary."
      ]
    },
    {
      "cell_type": "code",
      "metadata": {
        "id": "t-ksBjx8-fsH",
        "colab_type": "code",
        "colab": {}
      },
      "source": [
        "names = ['One', 'Two', 'Three', 'Four', 'Five']\n",
        "numbers = [1, 2, 3, 4, 5,8]"
      ],
      "execution_count": 0,
      "outputs": []
    },
    {
      "cell_type": "markdown",
      "metadata": {
        "id": "fFEK4p1b-fsK",
        "colab_type": "text"
      },
      "source": [
        "**zip( )** function is used to combine two lists"
      ]
    },
    {
      "cell_type": "code",
      "metadata": {
        "id": "Gqqyw_ww-fsK",
        "colab_type": "code",
        "colab": {
          "base_uri": "https://localhost:8080/",
          "height": 36
        },
        "outputId": "5ed76cb1-4350-4b5f-f22b-be607f4ec224"
      },
      "source": [
        "d2 = zip(names,numbers)\n",
        "print (d2)"
      ],
      "execution_count": 83,
      "outputs": [
        {
          "output_type": "stream",
          "text": [
            "<zip object at 0x7fb5685fcc08>\n"
          ],
          "name": "stdout"
        }
      ]
    },
    {
      "cell_type": "markdown",
      "metadata": {
        "id": "TDV_f53j-fsN",
        "colab_type": "text"
      },
      "source": [
        "The two lists are combined to form a single list and each elements are clubbed with their respective elements from the other list inside a tuple. Tuples because that is what is assigned and the value should not change.\n",
        "\n",
        "Further, To convert the above into a dictionary. **dict( )** function is used."
      ]
    },
    {
      "cell_type": "code",
      "metadata": {
        "id": "CxgeQcdn-fsN",
        "colab_type": "code",
        "colab": {
          "base_uri": "https://localhost:8080/",
          "height": 36
        },
        "outputId": "e0511082-7946-407f-c1a9-4aec7a9018ab"
      },
      "source": [
        "a1 = dict(d2)\n",
        "print (a1)"
      ],
      "execution_count": 84,
      "outputs": [
        {
          "output_type": "stream",
          "text": [
            "{'One': 1, 'Two': 2, 'Three': 3, 'Four': 4, 'Five': 5}\n"
          ],
          "name": "stdout"
        }
      ]
    },
    {
      "cell_type": "markdown",
      "metadata": {
        "id": "klcfJI4w-fsR",
        "colab_type": "text"
      },
      "source": [
        "### Built-in Functions"
      ]
    },
    {
      "cell_type": "markdown",
      "metadata": {
        "id": "mUihpZk9-fsR",
        "colab_type": "text"
      },
      "source": [
        "**clear( )** function is used to erase the entire database that was created."
      ]
    },
    {
      "cell_type": "code",
      "metadata": {
        "id": "3XBte7IK-fsS",
        "colab_type": "code",
        "colab": {
          "base_uri": "https://localhost:8080/",
          "height": 36
        },
        "outputId": "e3cc263d-ad31-4578-db7d-4fb1455af6e2"
      },
      "source": [
        "a1.clear()\n",
        "print (a1)"
      ],
      "execution_count": 85,
      "outputs": [
        {
          "output_type": "stream",
          "text": [
            "{}\n"
          ],
          "name": "stdout"
        }
      ]
    },
    {
      "cell_type": "markdown",
      "metadata": {
        "id": "AWHWaAZK-fsV",
        "colab_type": "text"
      },
      "source": [
        "Dictionary can also be built using loops."
      ]
    },
    {
      "cell_type": "code",
      "metadata": {
        "id": "XOYITTUU-fsW",
        "colab_type": "code",
        "colab": {
          "base_uri": "https://localhost:8080/",
          "height": 36
        },
        "outputId": "622cb9a2-078d-402a-9000-00727a70a90a"
      },
      "source": [
        "for i in range(len(names)):\n",
        "    a1[names[i]] = numbers[i]\n",
        "print (a1)"
      ],
      "execution_count": 86,
      "outputs": [
        {
          "output_type": "stream",
          "text": [
            "{'One': 1, 'Two': 2, 'Three': 3, 'Four': 4, 'Five': 5}\n"
          ],
          "name": "stdout"
        }
      ]
    },
    {
      "cell_type": "markdown",
      "metadata": {
        "id": "uU2iGFf1-fsa",
        "colab_type": "text"
      },
      "source": [
        "**values( )** function returns a list with all the assigned values in the dictionary."
      ]
    },
    {
      "cell_type": "code",
      "metadata": {
        "id": "Bbs_poCk-fsa",
        "colab_type": "code",
        "colab": {
          "base_uri": "https://localhost:8080/",
          "height": 36
        },
        "outputId": "9fa4edfd-71a1-4bbc-97ef-b1fa3f82be18"
      },
      "source": [
        "a1.values()"
      ],
      "execution_count": 87,
      "outputs": [
        {
          "output_type": "execute_result",
          "data": {
            "text/plain": [
              "dict_values([1, 2, 3, 4, 5])"
            ]
          },
          "metadata": {
            "tags": []
          },
          "execution_count": 87
        }
      ]
    },
    {
      "cell_type": "markdown",
      "metadata": {
        "id": "yGlmzltg-fsi",
        "colab_type": "text"
      },
      "source": [
        "**keys( )** function returns all the index or the keys to which contains the values that it was assigned to."
      ]
    },
    {
      "cell_type": "code",
      "metadata": {
        "id": "3EHH4gVM-fsi",
        "colab_type": "code",
        "colab": {
          "base_uri": "https://localhost:8080/",
          "height": 36
        },
        "outputId": "4cbdb1a2-5a87-432e-cd5d-fcbd0aa6da56"
      },
      "source": [
        "a1.keys()"
      ],
      "execution_count": 88,
      "outputs": [
        {
          "output_type": "execute_result",
          "data": {
            "text/plain": [
              "dict_keys(['One', 'Two', 'Three', 'Four', 'Five'])"
            ]
          },
          "metadata": {
            "tags": []
          },
          "execution_count": 88
        }
      ]
    },
    {
      "cell_type": "markdown",
      "metadata": {
        "id": "gu2u3QV9-fsn",
        "colab_type": "text"
      },
      "source": [
        "**items( )** is returns a list containing both the list but each element in the dictionary is inside a tuple. This is same as the result that was obtained when zip function was used."
      ]
    },
    {
      "cell_type": "code",
      "metadata": {
        "id": "LhGDflmq-fsn",
        "colab_type": "code",
        "colab": {
          "base_uri": "https://localhost:8080/",
          "height": 36
        },
        "outputId": "71314177-682c-49d0-a13f-aed9d83f2e4b"
      },
      "source": [
        "a1.items()"
      ],
      "execution_count": 89,
      "outputs": [
        {
          "output_type": "execute_result",
          "data": {
            "text/plain": [
              "dict_items([('One', 1), ('Two', 2), ('Three', 3), ('Four', 4), ('Five', 5)])"
            ]
          },
          "metadata": {
            "tags": []
          },
          "execution_count": 89
        }
      ]
    },
    {
      "cell_type": "markdown",
      "metadata": {
        "id": "3QkZRWAg-fsr",
        "colab_type": "text"
      },
      "source": [
        "**pop( )** function is used to get the remove that particular element and this removed element can be assigned to a new variable. But remember only the value is stored and not the key. Because the is just a index value."
      ]
    },
    {
      "cell_type": "code",
      "metadata": {
        "id": "AnxcZxRX-fsr",
        "colab_type": "code",
        "colab": {
          "base_uri": "https://localhost:8080/",
          "height": 54
        },
        "outputId": "73a98e38-b90a-4cf6-f4f8-df3af3cc072c"
      },
      "source": [
        "a2 = a1.pop('Three')\n",
        "print (a1)\n",
        "print (a2)"
      ],
      "execution_count": 93,
      "outputs": [
        {
          "output_type": "stream",
          "text": [
            "{'One': 1, 'Two': 2}\n",
            "3\n"
          ],
          "name": "stdout"
        }
      ]
    },
    {
      "cell_type": "code",
      "metadata": {
        "id": "YVBTlrvE-fsu",
        "colab_type": "code",
        "colab": {}
      },
      "source": [
        ""
      ],
      "execution_count": 0,
      "outputs": []
    }
  ]
}