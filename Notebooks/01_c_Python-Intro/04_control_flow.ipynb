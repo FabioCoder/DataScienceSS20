{
  "nbformat": 4,
  "nbformat_minor": 0,
  "metadata": {
    "kernelspec": {
      "display_name": "Python 3",
      "language": "python",
      "name": "python3"
    },
    "language_info": {
      "codemirror_mode": {
        "name": "ipython",
        "version": 3
      },
      "file_extension": ".py",
      "mimetype": "text/x-python",
      "name": "python",
      "nbconvert_exporter": "python",
      "pygments_lexer": "ipython3",
      "version": "3.7.1"
    },
    "colab": {
      "name": "04_control_flow.ipynb",
      "provenance": [],
      "include_colab_link": true
    }
  },
  "cells": [
    {
      "cell_type": "markdown",
      "metadata": {
        "id": "view-in-github",
        "colab_type": "text"
      },
      "source": [
        "<a href=\"https://colab.research.google.com/github/FabioCoder/DataScienceSS20/blob/Block_2/Notebooks/01_c_Python-Intro/04_control_flow.ipynb\" target=\"_parent\"><img src=\"https://colab.research.google.com/assets/colab-badge.svg\" alt=\"Open In Colab\"/></a>"
      ]
    },
    {
      "cell_type": "markdown",
      "metadata": {
        "id": "g1vzOIWkMRBh",
        "colab_type": "text"
      },
      "source": [
        "# Introduction to Python IV - Control Flow\n",
        "* Based on a lecture series by Rajath Kumart (https://github.com/rajathkumarmp/Python-Lectures)\n",
        "* Ported to Python3 and extessions added by Janis Keuper\n",
        "* Copyright: Creative Commons Attribution 3.0 Unported License. To view a copy of this license, visit http://creativecommons.org/licenses/by/3.0/"
      ]
    },
    {
      "cell_type": "code",
      "metadata": {
        "id": "WQ3rVsdlMRBl",
        "colab_type": "code",
        "colab": {
          "base_uri": "https://localhost:8080/",
          "height": 128
        },
        "outputId": "0b6d7ca1-1d67-4368-ded7-3c34c8610c4d"
      },
      "source": [
        "#check if notebook runs in colab\n",
        "import sys\n",
        "IN_COLAB = 'google.colab' in sys.modules\n",
        "print('running in Colab:',IN_COLAB)\n",
        "path='..'\n",
        "if IN_COLAB:\n",
        "  #in colab, we need to clone the data from the repo\n",
        "  !git clone https://github.com/keuperj/DataScienceSS20.git\n",
        "  path='DataScienceSS20'"
      ],
      "execution_count": 1,
      "outputs": [
        {
          "output_type": "stream",
          "text": [
            "running in Colab: True\n",
            "Cloning into 'DataScienceSS20'...\n",
            "remote: Enumerating objects: 248, done.\u001b[K\n",
            "remote: Total 248 (delta 0), reused 0 (delta 0), pack-reused 248\u001b[K\n",
            "Receiving objects: 100% (248/248), 45.43 MiB | 21.19 MiB/s, done.\n",
            "Resolving deltas: 100% (85/85), done.\n"
          ],
          "name": "stdout"
        }
      ]
    },
    {
      "cell_type": "markdown",
      "metadata": {
        "id": "Jv8-mVhdMRB3",
        "colab_type": "text"
      },
      "source": [
        "# Control Flow Statements"
      ]
    },
    {
      "cell_type": "markdown",
      "metadata": {
        "id": "Dog-DR4PMRB9",
        "colab_type": "text"
      },
      "source": [
        "## If"
      ]
    },
    {
      "cell_type": "markdown",
      "metadata": {
        "id": "YPM3xeGaMRB-",
        "colab_type": "text"
      },
      "source": [
        "if some_condition:\n",
        "    \n",
        "    algorithm"
      ]
    },
    {
      "cell_type": "code",
      "metadata": {
        "id": "16Ad70E5MRCB",
        "colab_type": "code",
        "colab": {
          "base_uri": "https://localhost:8080/",
          "height": 36
        },
        "outputId": "9078eaf1-8af8-4be8-f657-01e4a3ee7395"
      },
      "source": [
        "x = 12\n",
        "if x >10:\n",
        "    print (\"Hello\")"
      ],
      "execution_count": 2,
      "outputs": [
        {
          "output_type": "stream",
          "text": [
            "Hello\n"
          ],
          "name": "stdout"
        }
      ]
    },
    {
      "cell_type": "markdown",
      "metadata": {
        "id": "Dwu7GJPDMRCK",
        "colab_type": "text"
      },
      "source": [
        "## If-else"
      ]
    },
    {
      "cell_type": "markdown",
      "metadata": {
        "id": "7vQQV613MRCN",
        "colab_type": "text"
      },
      "source": [
        "if some_condition:\n",
        "    \n",
        "    algorithm\n",
        "    \n",
        "else:\n",
        "    \n",
        "    algorithm"
      ]
    },
    {
      "cell_type": "code",
      "metadata": {
        "id": "5tVvS9XaMRCO",
        "colab_type": "code",
        "colab": {
          "base_uri": "https://localhost:8080/",
          "height": 36
        },
        "outputId": "93c7ffe6-bba5-4f96-c3f2-5c3080c735cf"
      },
      "source": [
        "x = 12\n",
        "if x > 10:\n",
        "    print (\"hello\")\n",
        "else:\n",
        "    print (\"world\")"
      ],
      "execution_count": 3,
      "outputs": [
        {
          "output_type": "stream",
          "text": [
            "hello\n"
          ],
          "name": "stdout"
        }
      ]
    },
    {
      "cell_type": "markdown",
      "metadata": {
        "id": "Y3IFcc6RMRCW",
        "colab_type": "text"
      },
      "source": [
        "## if-elif"
      ]
    },
    {
      "cell_type": "markdown",
      "metadata": {
        "id": "4f4UOGikMRCY",
        "colab_type": "text"
      },
      "source": [
        "if some_condition:\n",
        "    \n",
        "    algorithm\n",
        "\n",
        "elif some_condition:\n",
        "    \n",
        "    algorithm\n",
        "\n",
        "else:\n",
        "    \n",
        "    algorithm"
      ]
    },
    {
      "cell_type": "code",
      "metadata": {
        "id": "GG9tOhxtMRCZ",
        "colab_type": "code",
        "colab": {
          "base_uri": "https://localhost:8080/",
          "height": 36
        },
        "outputId": "6019701a-6027-460b-b26d-4d14900ae81a"
      },
      "source": [
        "x = 10\n",
        "y = 12\n",
        "if x > y:\n",
        "    print (\"x>y\")\n",
        "elif x < y:\n",
        "    print (\"x<y\")\n",
        "else:\n",
        "    print (\"x=y\")"
      ],
      "execution_count": 4,
      "outputs": [
        {
          "output_type": "stream",
          "text": [
            "x<y\n"
          ],
          "name": "stdout"
        }
      ]
    },
    {
      "cell_type": "markdown",
      "metadata": {
        "id": "gey7c5f1MRCh",
        "colab_type": "text"
      },
      "source": [
        "if statement inside a if statement or if-elif or if-else are called as nested if statements."
      ]
    },
    {
      "cell_type": "code",
      "metadata": {
        "id": "fWYxiX6oMRCi",
        "colab_type": "code",
        "colab": {
          "base_uri": "https://localhost:8080/",
          "height": 54
        },
        "outputId": "c089c652-ed37-4448-ca54-f13671c9acbb"
      },
      "source": [
        "x = 10\n",
        "y = 12\n",
        "if x > y:\n",
        "    print (\"x>y\")\n",
        "elif x < y:\n",
        "    print (\"x<y\")\n",
        "    if x==10:\n",
        "        print (\"x=10\")\n",
        "    else:\n",
        "        print (\"invalid\")\n",
        "else:\n",
        "    print (\"x=y\")"
      ],
      "execution_count": 5,
      "outputs": [
        {
          "output_type": "stream",
          "text": [
            "x<y\n",
            "x=10\n"
          ],
          "name": "stdout"
        }
      ]
    },
    {
      "cell_type": "markdown",
      "metadata": {
        "id": "Fbb15wNMMRCs",
        "colab_type": "text"
      },
      "source": [
        "## Loops"
      ]
    },
    {
      "cell_type": "markdown",
      "metadata": {
        "id": "JoJ7tDwkMRCt",
        "colab_type": "text"
      },
      "source": [
        "### For"
      ]
    },
    {
      "cell_type": "markdown",
      "metadata": {
        "id": "mFSQMR46MRCv",
        "colab_type": "text"
      },
      "source": [
        "for variable in something:\n",
        "    \n",
        "    algorithm"
      ]
    },
    {
      "cell_type": "code",
      "metadata": {
        "id": "_fIXwCQLMRCw",
        "colab_type": "code",
        "colab": {
          "base_uri": "https://localhost:8080/",
          "height": 110
        },
        "outputId": "26f0c234-65d4-4110-c4d7-4dea57cb0392"
      },
      "source": [
        "for i in range(0,5):\n",
        "    print (i)"
      ],
      "execution_count": 8,
      "outputs": [
        {
          "output_type": "stream",
          "text": [
            "0\n",
            "1\n",
            "2\n",
            "3\n",
            "4\n"
          ],
          "name": "stdout"
        }
      ]
    },
    {
      "cell_type": "markdown",
      "metadata": {
        "id": "Bx9Ruzj5MRC3",
        "colab_type": "text"
      },
      "source": [
        "In the above example, i iterates over the 0,1,2,3,4. Every time it takes each value and executes the algorithm inside the loop. It is also possible to iterate over a nested list illustrated below."
      ]
    },
    {
      "cell_type": "code",
      "metadata": {
        "id": "3m2AwfD7MRC4",
        "colab_type": "code",
        "colab": {
          "base_uri": "https://localhost:8080/",
          "height": 73
        },
        "outputId": "0de93029-f7d8-488e-c476-123917d9e477"
      },
      "source": [
        "list_of_lists = [[1, 2, 3], [4, 5, 6], [7, 8, 9]]\n",
        "for list1 in list_of_lists:\n",
        "        print (list1)"
      ],
      "execution_count": 9,
      "outputs": [
        {
          "output_type": "stream",
          "text": [
            "[1, 2, 3]\n",
            "[4, 5, 6]\n",
            "[7, 8, 9]\n"
          ],
          "name": "stdout"
        }
      ]
    },
    {
      "cell_type": "markdown",
      "metadata": {
        "id": "K2ya4jwGMRC_",
        "colab_type": "text"
      },
      "source": [
        "A use case of a nested for loop in this case would be,"
      ]
    },
    {
      "cell_type": "code",
      "metadata": {
        "id": "iSTvpN0EMRDB",
        "colab_type": "code",
        "colab": {
          "base_uri": "https://localhost:8080/",
          "height": 184
        },
        "outputId": "0ecd02a1-1b67-48a4-9cff-c66c2bf29fd1"
      },
      "source": [
        "list_of_lists = [[1, 2, 3], [4, 5, 6], [7, 8, 9]]\n",
        "for list1 in list_of_lists:\n",
        "    for x in list1:\n",
        "        print (x)"
      ],
      "execution_count": 10,
      "outputs": [
        {
          "output_type": "stream",
          "text": [
            "1\n",
            "2\n",
            "3\n",
            "4\n",
            "5\n",
            "6\n",
            "7\n",
            "8\n",
            "9\n"
          ],
          "name": "stdout"
        }
      ]
    },
    {
      "cell_type": "markdown",
      "metadata": {
        "id": "NlwCkrBcMRDI",
        "colab_type": "text"
      },
      "source": [
        "### While"
      ]
    },
    {
      "cell_type": "markdown",
      "metadata": {
        "id": "luUfVGJvMRDK",
        "colab_type": "text"
      },
      "source": [
        "while some_condition:\n",
        "    \n",
        "    algorithm"
      ]
    },
    {
      "cell_type": "code",
      "metadata": {
        "id": "dXuiZbUTMRDL",
        "colab_type": "code",
        "colab": {
          "base_uri": "https://localhost:8080/",
          "height": 73
        },
        "outputId": "b18aa3a1-d0af-4163-cd36-3d9811dd7a5d"
      },
      "source": [
        "i = 1\n",
        "while i < 3:\n",
        "    print(i ** 2)\n",
        "    i = i+1\n",
        "print('Bye')"
      ],
      "execution_count": 15,
      "outputs": [
        {
          "output_type": "stream",
          "text": [
            "1\n",
            "4\n",
            "Bye\n"
          ],
          "name": "stdout"
        }
      ]
    },
    {
      "cell_type": "markdown",
      "metadata": {
        "id": "ctzM8fCmMRDS",
        "colab_type": "text"
      },
      "source": [
        "## Break"
      ]
    },
    {
      "cell_type": "markdown",
      "metadata": {
        "id": "mFQ52hCiMRDT",
        "colab_type": "text"
      },
      "source": [
        "As the name says. It is used to break out of a loop when a condition becomes true when executing the loop."
      ]
    },
    {
      "cell_type": "code",
      "metadata": {
        "id": "geZl2_Z5MRDW",
        "colab_type": "code",
        "colab": {
          "base_uri": "https://localhost:8080/",
          "height": 166
        },
        "outputId": "8c75ec54-93e0-43ad-d3d0-ce058ba9d027"
      },
      "source": [
        "for i in range(100):\n",
        "    print (i)\n",
        "    if i>=7:\n",
        "        break"
      ],
      "execution_count": 16,
      "outputs": [
        {
          "output_type": "stream",
          "text": [
            "0\n",
            "1\n",
            "2\n",
            "3\n",
            "4\n",
            "5\n",
            "6\n",
            "7\n"
          ],
          "name": "stdout"
        }
      ]
    },
    {
      "cell_type": "markdown",
      "metadata": {
        "id": "Hqrd4Gt4MRDd",
        "colab_type": "text"
      },
      "source": [
        "## Continue"
      ]
    },
    {
      "cell_type": "markdown",
      "metadata": {
        "id": "wSKRnIGsMRDe",
        "colab_type": "text"
      },
      "source": [
        "This continues the rest of the loop. Sometimes when a condition is satisfied there are chances of the loop getting terminated. This can be avoided using continue statement. "
      ]
    },
    {
      "cell_type": "code",
      "metadata": {
        "id": "2SNAVUL2MRDe",
        "colab_type": "code",
        "colab": {
          "base_uri": "https://localhost:8080/",
          "height": 203
        },
        "outputId": "51638c54-ea17-49f4-b9dc-f9dcf7053c4d"
      },
      "source": [
        "for i in range(10):\n",
        "    if i>4:\n",
        "        print (\"The end.\")\n",
        "        continue\n",
        "    elif i<7:\n",
        "        print (i)"
      ],
      "execution_count": 17,
      "outputs": [
        {
          "output_type": "stream",
          "text": [
            "0\n",
            "1\n",
            "2\n",
            "3\n",
            "4\n",
            "The end.\n",
            "The end.\n",
            "The end.\n",
            "The end.\n",
            "The end.\n"
          ],
          "name": "stdout"
        }
      ]
    },
    {
      "cell_type": "markdown",
      "metadata": {
        "id": "bUTCQLvGMRDl",
        "colab_type": "text"
      },
      "source": [
        "## List Comprehensions"
      ]
    },
    {
      "cell_type": "markdown",
      "metadata": {
        "id": "1XrN4T1wMRDq",
        "colab_type": "text"
      },
      "source": [
        "Python makes it simple to generate a required list with a single line of code using list comprehensions. For example If i need to generate multiples of say 27 I write the code using for loop as,"
      ]
    },
    {
      "cell_type": "code",
      "metadata": {
        "id": "wDKNL8gfMRDs",
        "colab_type": "code",
        "colab": {
          "base_uri": "https://localhost:8080/",
          "height": 36
        },
        "outputId": "d6baa1a1-48f3-4cb3-c667-d668c4a0cc87"
      },
      "source": [
        "res = []\n",
        "for i in range(1,11):\n",
        "    x = 27*i\n",
        "    res.append(x)\n",
        "print (res)"
      ],
      "execution_count": 18,
      "outputs": [
        {
          "output_type": "stream",
          "text": [
            "[27, 54, 81, 108, 135, 162, 189, 216, 243, 270]\n"
          ],
          "name": "stdout"
        }
      ]
    },
    {
      "cell_type": "markdown",
      "metadata": {
        "id": "WOiSo1_VMRD1",
        "colab_type": "text"
      },
      "source": [
        "Since you are generating another list altogether and that is what is required, List comprehensions is a more efficient way to solve this problem."
      ]
    },
    {
      "cell_type": "code",
      "metadata": {
        "id": "c7U49lKoMRD1",
        "colab_type": "code",
        "colab": {
          "base_uri": "https://localhost:8080/",
          "height": 36
        },
        "outputId": "2d11bd6f-17c9-477f-c493-4fbacd006516"
      },
      "source": [
        "[27*x for x in range(1,11)]"
      ],
      "execution_count": 19,
      "outputs": [
        {
          "output_type": "execute_result",
          "data": {
            "text/plain": [
              "[27, 54, 81, 108, 135, 162, 189, 216, 243, 270]"
            ]
          },
          "metadata": {
            "tags": []
          },
          "execution_count": 19
        }
      ]
    },
    {
      "cell_type": "markdown",
      "metadata": {
        "id": "VyvqNc6fMRD9",
        "colab_type": "text"
      },
      "source": [
        "That's it!. Only remember to enclose it in square brackets"
      ]
    }
  ]
}