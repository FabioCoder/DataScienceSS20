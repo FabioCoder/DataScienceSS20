{
  "nbformat": 4,
  "nbformat_minor": 0,
  "metadata": {
    "kernelspec": {
      "display_name": "Python 3",
      "language": "python",
      "name": "python3"
    },
    "language_info": {
      "codemirror_mode": {
        "name": "ipython",
        "version": 3
      },
      "file_extension": ".py",
      "mimetype": "text/x-python",
      "name": "python",
      "nbconvert_exporter": "python",
      "pygments_lexer": "ipython3",
      "version": "3.7.1"
    },
    "colab": {
      "name": "05_functions.ipynb",
      "provenance": [],
      "include_colab_link": true
    }
  },
  "cells": [
    {
      "cell_type": "markdown",
      "metadata": {
        "id": "view-in-github",
        "colab_type": "text"
      },
      "source": [
        "<a href=\"https://colab.research.google.com/github/FabioCoder/DataScienceSS20/blob/Block_2/Notebooks/01_c_Python-Intro/05_functions.ipynb\" target=\"_parent\"><img src=\"https://colab.research.google.com/assets/colab-badge.svg\" alt=\"Open In Colab\"/></a>"
      ]
    },
    {
      "cell_type": "markdown",
      "metadata": {
        "id": "7VnVKW73OEy4",
        "colab_type": "text"
      },
      "source": [
        "# Introduction to Python V - Functions\n",
        "* Based on a lecture series by Rajath Kumart (https://github.com/rajathkumarmp/Python-Lectures)\n",
        "* Ported to Python3 and extessions added by Janis Keuper\n",
        "* Copyright: Creative Commons Attribution 3.0 Unported License. To view a copy of this license, visit http://creativecommons.org/licenses/by/3.0/"
      ]
    },
    {
      "cell_type": "code",
      "metadata": {
        "id": "L9AKE7T4OEy6",
        "colab_type": "code",
        "colab": {
          "base_uri": "https://localhost:8080/",
          "height": 128
        },
        "outputId": "2e4a2982-5299-430e-bbf3-68dceb9fa50a"
      },
      "source": [
        "#check if notebook runs in colab\n",
        "import sys\n",
        "IN_COLAB = 'google.colab' in sys.modules\n",
        "print('running in Colab:',IN_COLAB)\n",
        "path='..'\n",
        "if IN_COLAB:\n",
        "  #in colab, we need to clone the data from the repo\n",
        "  !git clone https://github.com/keuperj/DataScienceSS20.git\n",
        "  path='DataScienceSS20'"
      ],
      "execution_count": 1,
      "outputs": [
        {
          "output_type": "stream",
          "text": [
            "running in Colab: True\n",
            "Cloning into 'DataScienceSS20'...\n",
            "remote: Enumerating objects: 248, done.\u001b[K\n",
            "remote: Total 248 (delta 0), reused 0 (delta 0), pack-reused 248\u001b[K\n",
            "Receiving objects: 100% (248/248), 45.43 MiB | 9.26 MiB/s, done.\n",
            "Resolving deltas: 100% (85/85), done.\n"
          ],
          "name": "stdout"
        }
      ]
    },
    {
      "cell_type": "markdown",
      "metadata": {
        "id": "n8pdN1wUOEzM",
        "colab_type": "text"
      },
      "source": [
        "# Functions"
      ]
    },
    {
      "cell_type": "markdown",
      "metadata": {
        "id": "SDyxhmGNOEzT",
        "colab_type": "text"
      },
      "source": [
        "Most of the times, In a algorithm the statements keep repeating and it will be a tedious job to execute the same statements again and again and will consume a lot of memory and is not efficient. Enter Functions."
      ]
    },
    {
      "cell_type": "markdown",
      "metadata": {
        "id": "cJABHEJyOEzW",
        "colab_type": "text"
      },
      "source": [
        "This is the basic syntax of a function"
      ]
    },
    {
      "cell_type": "markdown",
      "metadata": {
        "id": "_hg8ZUUGOEzY",
        "colab_type": "text"
      },
      "source": [
        "*def* funcname(arg1, arg2,... argN):\n",
        "    \n",
        "    ''' Document String'''\n",
        "\n",
        "    statements\n",
        "\n",
        "\n",
        "    return <value>"
      ]
    },
    {
      "cell_type": "markdown",
      "metadata": {
        "id": "ucHx_dX6OEza",
        "colab_type": "text"
      },
      "source": [
        "Read the above syntax as, A function by name \"funcname\" is defined, which accepts arguements \"arg1,arg2,....argN\". The function is documented and it is '''Document String'''. The function after executing the statements returns a \"value\"."
      ]
    },
    {
      "cell_type": "code",
      "metadata": {
        "id": "i74GfucwOEzc",
        "colab_type": "code",
        "colab": {
          "base_uri": "https://localhost:8080/",
          "height": 54
        },
        "outputId": "d2d09a86-743b-4883-9f9d-564c24b5ae18"
      },
      "source": [
        "print (\"Hello!\")\n",
        "print (\"How do you do?\")"
      ],
      "execution_count": 2,
      "outputs": [
        {
          "output_type": "stream",
          "text": [
            "Hello!\n",
            "How do you do?\n"
          ],
          "name": "stdout"
        }
      ]
    },
    {
      "cell_type": "markdown",
      "metadata": {
        "id": "ixo7G5OUOEzn",
        "colab_type": "text"
      },
      "source": [
        "Instead of writing the above two statements every single time it can be replaced by defining a function which would do the job in just one line. \n",
        "\n",
        "Defining a function firstfunc()."
      ]
    },
    {
      "cell_type": "code",
      "metadata": {
        "id": "HF6AeJwGOEzp",
        "colab_type": "code",
        "colab": {}
      },
      "source": [
        "def firstfunc():\n",
        "    print (\"Hello\")\n",
        "    print (\"How do you do?\")   "
      ],
      "execution_count": 0,
      "outputs": []
    },
    {
      "cell_type": "code",
      "metadata": {
        "id": "uKHMsSndOEzz",
        "colab_type": "code",
        "colab": {
          "base_uri": "https://localhost:8080/",
          "height": 54
        },
        "outputId": "affcede9-5c0f-47f4-e24a-ce359cbeb191"
      },
      "source": [
        "firstfunc()"
      ],
      "execution_count": 4,
      "outputs": [
        {
          "output_type": "stream",
          "text": [
            "Hello\n",
            "How do you do?\n"
          ],
          "name": "stdout"
        }
      ]
    },
    {
      "cell_type": "markdown",
      "metadata": {
        "id": "cd7Qz5K9OE0A",
        "colab_type": "text"
      },
      "source": [
        "**firstfunc()** every time just prints the message to a single person. We can make our function **firstfunc()** to accept arguements which will store the name and then prints respective to that accepted name. To do so, add a argument within the function as shown."
      ]
    },
    {
      "cell_type": "code",
      "metadata": {
        "id": "yynSjRHJOE0C",
        "colab_type": "code",
        "colab": {}
      },
      "source": [
        "def firstfunc(username):\n",
        "    print (\"Hey\", username + '!')\n",
        "    print (username + ',' ,\"How do you do?\")"
      ],
      "execution_count": 0,
      "outputs": []
    },
    {
      "cell_type": "code",
      "metadata": {
        "id": "3IGdbtKkOE0S",
        "colab_type": "code",
        "colab": {
          "base_uri": "https://localhost:8080/",
          "height": 54
        },
        "outputId": "586077ca-9702-4099-86eb-475938813acb"
      },
      "source": [
        "firstfunc(\"Hans\")"
      ],
      "execution_count": 13,
      "outputs": [
        {
          "output_type": "stream",
          "text": [
            "Hey Hans!\n",
            "Hans, How do you do?\n"
          ],
          "name": "stdout"
        }
      ]
    },
    {
      "cell_type": "markdown",
      "metadata": {
        "id": "4qKcIOrlOE0a",
        "colab_type": "text"
      },
      "source": [
        "Let us simplify this even further by defining another function **secondfunc()** which accepts the name and stores it inside a variable and then calls the **firstfunc()** from inside the function itself."
      ]
    },
    {
      "cell_type": "code",
      "metadata": {
        "id": "p6JRmUFCOE0b",
        "colab_type": "code",
        "colab": {}
      },
      "source": [
        "def firstfunc(username):\n",
        "    print (\"Hey\", username + '!')\n",
        "    print (username + ',' ,\"How do you do?\")\n",
        "def secondfunc():\n",
        "    name = input(\"Please enter your name : \")\n",
        "    firstfunc(name)"
      ],
      "execution_count": 0,
      "outputs": []
    },
    {
      "cell_type": "code",
      "metadata": {
        "id": "oO_Ct_EzOE0h",
        "colab_type": "code",
        "colab": {
          "base_uri": "https://localhost:8080/",
          "height": 73
        },
        "outputId": "5535526f-07e6-4063-a775-ef03983dc5a5"
      },
      "source": [
        "secondfunc()"
      ],
      "execution_count": 16,
      "outputs": [
        {
          "output_type": "stream",
          "text": [
            "Please enter your name : Fabio\n",
            "Hey Fabio!\n",
            "Fabio, How do you do?\n"
          ],
          "name": "stdout"
        }
      ]
    },
    {
      "cell_type": "markdown",
      "metadata": {
        "id": "LDsdAI2iOE0q",
        "colab_type": "text"
      },
      "source": [
        "## Return Statement"
      ]
    },
    {
      "cell_type": "markdown",
      "metadata": {
        "id": "XyZFW9TwOE0s",
        "colab_type": "text"
      },
      "source": [
        "When the function results in some value and that value has to be stored in a variable or needs to be sent back or returned for further operation to the main algorithm, return statement is used."
      ]
    },
    {
      "cell_type": "code",
      "metadata": {
        "id": "RcKHgc_YOE0t",
        "colab_type": "code",
        "colab": {}
      },
      "source": [
        "def times(x,y):\n",
        "    z = x*y\n",
        "    return z"
      ],
      "execution_count": 0,
      "outputs": []
    },
    {
      "cell_type": "markdown",
      "metadata": {
        "id": "CAJ0UQpnOE01",
        "colab_type": "text"
      },
      "source": [
        "The above defined **times( )** function accepts two arguements and return the variable z which contains the result of the product of the two arguements"
      ]
    },
    {
      "cell_type": "code",
      "metadata": {
        "id": "WrnNnaceOE04",
        "colab_type": "code",
        "colab": {
          "base_uri": "https://localhost:8080/",
          "height": 36
        },
        "outputId": "24ae19a5-ea13-4621-ce59-8103dc77f966"
      },
      "source": [
        "c = times(4,5)\n",
        "print (c)"
      ],
      "execution_count": 18,
      "outputs": [
        {
          "output_type": "stream",
          "text": [
            "20\n"
          ],
          "name": "stdout"
        }
      ]
    },
    {
      "cell_type": "markdown",
      "metadata": {
        "id": "WO5O65kUOE0_",
        "colab_type": "text"
      },
      "source": [
        "The z value is stored in variable c and can be used for further operations."
      ]
    },
    {
      "cell_type": "markdown",
      "metadata": {
        "id": "61lnwYVYOE1B",
        "colab_type": "text"
      },
      "source": [
        "Instead of declaring another variable the entire statement itself can be used in the return statement as shown."
      ]
    },
    {
      "cell_type": "code",
      "metadata": {
        "id": "2HtSoVPbOE1C",
        "colab_type": "code",
        "colab": {}
      },
      "source": [
        "def times(x,y):\n",
        "    '''This multiplies the two input arguments'''\n",
        "    return x*y"
      ],
      "execution_count": 0,
      "outputs": []
    },
    {
      "cell_type": "code",
      "metadata": {
        "id": "Wdd44W25OE1K",
        "colab_type": "code",
        "colab": {
          "base_uri": "https://localhost:8080/",
          "height": 36
        },
        "outputId": "d20e78c2-46c2-43f0-e535-f6fe3c29e6e2"
      },
      "source": [
        "c = times(4,5)\n",
        "print (c)"
      ],
      "execution_count": 20,
      "outputs": [
        {
          "output_type": "stream",
          "text": [
            "20\n"
          ],
          "name": "stdout"
        }
      ]
    },
    {
      "cell_type": "markdown",
      "metadata": {
        "id": "zDgH8r2cOE1Q",
        "colab_type": "text"
      },
      "source": [
        "Since the **times( )** is now defined, we can document it as shown above. This document is returned whenever **times( )** function is called under **help( )** function."
      ]
    },
    {
      "cell_type": "code",
      "metadata": {
        "id": "4wHAoJ2FOE1S",
        "colab_type": "code",
        "colab": {
          "base_uri": "https://localhost:8080/",
          "height": 110
        },
        "outputId": "21cc1c2e-09ab-4fd9-c3b2-0a3a2d9f42e3"
      },
      "source": [
        "help(times)"
      ],
      "execution_count": 21,
      "outputs": [
        {
          "output_type": "stream",
          "text": [
            "Help on function times in module __main__:\n",
            "\n",
            "times(x, y)\n",
            "    This multiplies the two input arguments\n",
            "\n"
          ],
          "name": "stdout"
        }
      ]
    },
    {
      "cell_type": "markdown",
      "metadata": {
        "id": "mpqPyxSROE1Y",
        "colab_type": "text"
      },
      "source": [
        "Multiple variable can also be returned, But keep in mind the order."
      ]
    },
    {
      "cell_type": "code",
      "metadata": {
        "id": "x_Kx6CB_OE1Y",
        "colab_type": "code",
        "colab": {}
      },
      "source": [
        "eglist = [10,50,30,12,6,8,100]"
      ],
      "execution_count": 0,
      "outputs": []
    },
    {
      "cell_type": "code",
      "metadata": {
        "id": "_GRe5q1EOE1e",
        "colab_type": "code",
        "colab": {}
      },
      "source": [
        "def egfunc(eglist):\n",
        "    highest = max(eglist)\n",
        "    lowest = min(eglist)\n",
        "    first = eglist[0]\n",
        "    last = eglist[-1]\n",
        "    return highest,lowest,first,last"
      ],
      "execution_count": 0,
      "outputs": []
    },
    {
      "cell_type": "markdown",
      "metadata": {
        "id": "mQ5S9F-zOE1q",
        "colab_type": "text"
      },
      "source": [
        "If the function is just called without any variable for it to be assigned to, the result is returned inside a tuple. But if the variables are mentioned then the result is assigned to the variable in a particular order which is declared in the return statement."
      ]
    },
    {
      "cell_type": "code",
      "metadata": {
        "id": "_8V_4b6MOE1q",
        "colab_type": "code",
        "colab": {
          "base_uri": "https://localhost:8080/",
          "height": 36
        },
        "outputId": "a7c573be-ea40-4588-9fce-c002ab580a98"
      },
      "source": [
        "egfunc(eglist)"
      ],
      "execution_count": 24,
      "outputs": [
        {
          "output_type": "execute_result",
          "data": {
            "text/plain": [
              "(100, 6, 10, 100)"
            ]
          },
          "metadata": {
            "tags": []
          },
          "execution_count": 24
        }
      ]
    },
    {
      "cell_type": "code",
      "metadata": {
        "id": "SW6hllW8OE1u",
        "colab_type": "code",
        "colab": {
          "base_uri": "https://localhost:8080/",
          "height": 91
        },
        "outputId": "865c50d3-b92a-4a41-9a9e-874bc29d0973"
      },
      "source": [
        "a,b,c,d = egfunc(eglist)\n",
        "print (' a =',a,'\\n b =',b,'\\n c =',c,'\\n d =',d)"
      ],
      "execution_count": 25,
      "outputs": [
        {
          "output_type": "stream",
          "text": [
            " a = 100 \n",
            " b = 6 \n",
            " c = 10 \n",
            " d = 100\n"
          ],
          "name": "stdout"
        }
      ]
    },
    {
      "cell_type": "markdown",
      "metadata": {
        "id": "YjRBCer-OE10",
        "colab_type": "text"
      },
      "source": [
        "## Implicit arguments"
      ]
    },
    {
      "cell_type": "markdown",
      "metadata": {
        "id": "kcF-CZMoOE11",
        "colab_type": "text"
      },
      "source": [
        "When an argument of a function is common in majority of the cases or it is \"implicit\" this concept is used."
      ]
    },
    {
      "cell_type": "code",
      "metadata": {
        "id": "AO-lMrHNOE13",
        "colab_type": "code",
        "colab": {}
      },
      "source": [
        "def implicitadd(x,y=3):\n",
        "    return x+y"
      ],
      "execution_count": 0,
      "outputs": []
    },
    {
      "cell_type": "markdown",
      "metadata": {
        "id": "zImtsqUiOE19",
        "colab_type": "text"
      },
      "source": [
        "**implicitadd( )** is a function accepts two arguments but most of the times the first argument needs to be added just by 3. Hence the second argument is assigned the value 3. Here the second argument is implicit."
      ]
    },
    {
      "cell_type": "markdown",
      "metadata": {
        "id": "uMe9F_WBOE1-",
        "colab_type": "text"
      },
      "source": [
        "Now if the second argument is not defined when calling the **implicitadd( )** function then it considered as 3."
      ]
    },
    {
      "cell_type": "code",
      "metadata": {
        "id": "QY34AX6bOE2B",
        "colab_type": "code",
        "colab": {
          "base_uri": "https://localhost:8080/",
          "height": 36
        },
        "outputId": "963929ca-6c3a-4834-e420-ed3968887113"
      },
      "source": [
        "implicitadd(4)"
      ],
      "execution_count": 27,
      "outputs": [
        {
          "output_type": "execute_result",
          "data": {
            "text/plain": [
              "7"
            ]
          },
          "metadata": {
            "tags": []
          },
          "execution_count": 27
        }
      ]
    },
    {
      "cell_type": "markdown",
      "metadata": {
        "id": "YGIqE38MOE2I",
        "colab_type": "text"
      },
      "source": [
        "But if the second argument is specified then this value overrides the implicit value assigned to the argument "
      ]
    },
    {
      "cell_type": "code",
      "metadata": {
        "id": "7eYmjChWOE2J",
        "colab_type": "code",
        "colab": {
          "base_uri": "https://localhost:8080/",
          "height": 36
        },
        "outputId": "5ac03c95-3413-40c6-bb82-2a61a77acde9"
      },
      "source": [
        "implicitadd(4,4)"
      ],
      "execution_count": 28,
      "outputs": [
        {
          "output_type": "execute_result",
          "data": {
            "text/plain": [
              "8"
            ]
          },
          "metadata": {
            "tags": []
          },
          "execution_count": 28
        }
      ]
    },
    {
      "cell_type": "markdown",
      "metadata": {
        "id": "SRnY76QxOE2P",
        "colab_type": "text"
      },
      "source": [
        "## Any number of arguments"
      ]
    },
    {
      "cell_type": "markdown",
      "metadata": {
        "id": "dlmoZU95OE2R",
        "colab_type": "text"
      },
      "source": [
        "If the number of arguments that is to be accepted by a function is not known then a asterisk symbol is used before the argument."
      ]
    },
    {
      "cell_type": "code",
      "metadata": {
        "id": "_hrgwD5tOE2R",
        "colab_type": "code",
        "colab": {}
      },
      "source": [
        "def add_n(*args):\n",
        "    res = 0\n",
        "    reslist = []\n",
        "    for i in args:\n",
        "        reslist.append(i)\n",
        "    print (reslist)\n",
        "    return sum(reslist)"
      ],
      "execution_count": 0,
      "outputs": []
    },
    {
      "cell_type": "markdown",
      "metadata": {
        "id": "Ft6PmB3SOE2a",
        "colab_type": "text"
      },
      "source": [
        "The above function accepts any number of arguments, defines a list and appends all the arguments into that list and return the sum of all the arguments."
      ]
    },
    {
      "cell_type": "code",
      "metadata": {
        "id": "5b4CPhJnOE2b",
        "colab_type": "code",
        "colab": {
          "base_uri": "https://localhost:8080/",
          "height": 54
        },
        "outputId": "2323b821-73a5-4538-9131-e2d391f9b8c5"
      },
      "source": [
        "add_n(1,2,3,4,5)"
      ],
      "execution_count": 30,
      "outputs": [
        {
          "output_type": "stream",
          "text": [
            "[1, 2, 3, 4, 5]\n"
          ],
          "name": "stdout"
        },
        {
          "output_type": "execute_result",
          "data": {
            "text/plain": [
              "15"
            ]
          },
          "metadata": {
            "tags": []
          },
          "execution_count": 30
        }
      ]
    },
    {
      "cell_type": "code",
      "metadata": {
        "id": "U3gS9kF8OE2e",
        "colab_type": "code",
        "colab": {
          "base_uri": "https://localhost:8080/",
          "height": 54
        },
        "outputId": "633efba4-a8cd-452a-d6ba-365dec7916c6"
      },
      "source": [
        "add_n(1,2,3)"
      ],
      "execution_count": 31,
      "outputs": [
        {
          "output_type": "stream",
          "text": [
            "[1, 2, 3]\n"
          ],
          "name": "stdout"
        },
        {
          "output_type": "execute_result",
          "data": {
            "text/plain": [
              "6"
            ]
          },
          "metadata": {
            "tags": []
          },
          "execution_count": 31
        }
      ]
    },
    {
      "cell_type": "code",
      "metadata": {
        "id": "-tvNGrdVOE2j",
        "colab_type": "code",
        "colab": {}
      },
      "source": [
        "def multi_reurn():\n",
        "    return 1,2,3,4,5"
      ],
      "execution_count": 0,
      "outputs": []
    },
    {
      "cell_type": "code",
      "metadata": {
        "id": "c3h8QoCgOE2p",
        "colab_type": "code",
        "colab": {}
      },
      "source": [
        "a,b,c,d,e=multi_reurn()"
      ],
      "execution_count": 0,
      "outputs": []
    },
    {
      "cell_type": "code",
      "metadata": {
        "id": "1I8WNEJqOE2u",
        "colab_type": "code",
        "colab": {
          "base_uri": "https://localhost:8080/",
          "height": 36
        },
        "outputId": "890f3541-b906-4861-d7d0-c2975cdc8622"
      },
      "source": [
        "print (a,e)"
      ],
      "execution_count": 34,
      "outputs": [
        {
          "output_type": "stream",
          "text": [
            "1 5\n"
          ],
          "name": "stdout"
        }
      ]
    },
    {
      "cell_type": "code",
      "metadata": {
        "id": "KAMfF644OE2z",
        "colab_type": "code",
        "colab": {
          "base_uri": "https://localhost:8080/",
          "height": 36
        },
        "outputId": "e5ca1686-86e3-4e41-a23c-48739453245f"
      },
      "source": [
        "\n",
        "multi_reurn()"
      ],
      "execution_count": 35,
      "outputs": [
        {
          "output_type": "execute_result",
          "data": {
            "text/plain": [
              "(1, 2, 3, 4, 5)"
            ]
          },
          "metadata": {
            "tags": []
          },
          "execution_count": 35
        }
      ]
    },
    {
      "cell_type": "markdown",
      "metadata": {
        "id": "FE61PkLbOE22",
        "colab_type": "text"
      },
      "source": [
        "## Global and Local Variables"
      ]
    },
    {
      "cell_type": "markdown",
      "metadata": {
        "id": "47X1VrT2OE23",
        "colab_type": "text"
      },
      "source": [
        "Whatever variable is declared inside a function is local variable and outside the function in global variable."
      ]
    },
    {
      "cell_type": "code",
      "metadata": {
        "id": "VnxLGW8hOE25",
        "colab_type": "code",
        "colab": {}
      },
      "source": [
        "eg1 = [1,2,3,4,5]"
      ],
      "execution_count": 0,
      "outputs": []
    },
    {
      "cell_type": "markdown",
      "metadata": {
        "id": "IyCxz0MlOE2-",
        "colab_type": "text"
      },
      "source": [
        "In the below function we are appending a element to the declared list inside the function. eg2 variable declared inside the function is a local variable."
      ]
    },
    {
      "cell_type": "code",
      "metadata": {
        "id": "1dzSUqrlOE2-",
        "colab_type": "code",
        "colab": {}
      },
      "source": [
        "def egfunc1():\n",
        "    def thirdfunc(arg1):\n",
        "        eg2 = arg1[:]\n",
        "        eg2.append(6)\n",
        "        print (\"This is happening inside the function :\", eg2 )\n",
        "    print (\"This is happening before the function is called : \", eg1)\n",
        "    thirdfunc(eg1)\n",
        "    print (\"This is happening outside the function :\", eg1   )\n",
        "    print (\"Accessing a variable declared inside the function from outside :\" , eg2)"
      ],
      "execution_count": 0,
      "outputs": []
    },
    {
      "cell_type": "code",
      "metadata": {
        "id": "mNc1rgGqOE3R",
        "colab_type": "code",
        "colab": {
          "base_uri": "https://localhost:8080/",
          "height": 322
        },
        "outputId": "da0d9dfa-0a8a-4054-f7af-3a4a5c3522cd"
      },
      "source": [
        "egfunc1()"
      ],
      "execution_count": 39,
      "outputs": [
        {
          "output_type": "stream",
          "text": [
            "This is happening before the function is called :  [1, 2, 3, 4, 5]\n",
            "This is happening inside the function : [1, 2, 3, 4, 5, 6]\n",
            "This is happening outside the function : [1, 2, 3, 4, 5]\n"
          ],
          "name": "stdout"
        },
        {
          "output_type": "error",
          "ename": "NameError",
          "evalue": "ignored",
          "traceback": [
            "\u001b[0;31m---------------------------------------------------------------------------\u001b[0m",
            "\u001b[0;31mNameError\u001b[0m                                 Traceback (most recent call last)",
            "\u001b[0;32m<ipython-input-39-a0aede218e7c>\u001b[0m in \u001b[0;36m<module>\u001b[0;34m()\u001b[0m\n\u001b[0;32m----> 1\u001b[0;31m \u001b[0megfunc1\u001b[0m\u001b[0;34m(\u001b[0m\u001b[0;34m)\u001b[0m\u001b[0;34m\u001b[0m\u001b[0;34m\u001b[0m\u001b[0m\n\u001b[0m",
            "\u001b[0;32m<ipython-input-38-9fc0645d6208>\u001b[0m in \u001b[0;36megfunc1\u001b[0;34m()\u001b[0m\n\u001b[1;32m      7\u001b[0m     \u001b[0mthirdfunc\u001b[0m\u001b[0;34m(\u001b[0m\u001b[0meg1\u001b[0m\u001b[0;34m)\u001b[0m\u001b[0;34m\u001b[0m\u001b[0;34m\u001b[0m\u001b[0m\n\u001b[1;32m      8\u001b[0m     \u001b[0mprint\u001b[0m \u001b[0;34m(\u001b[0m\u001b[0;34m\"This is happening outside the function :\"\u001b[0m\u001b[0;34m,\u001b[0m \u001b[0meg1\u001b[0m   \u001b[0;34m)\u001b[0m\u001b[0;34m\u001b[0m\u001b[0;34m\u001b[0m\u001b[0m\n\u001b[0;32m----> 9\u001b[0;31m     \u001b[0mprint\u001b[0m \u001b[0;34m(\u001b[0m\u001b[0;34m\"Accessing a variable declared inside the function from outside :\"\u001b[0m \u001b[0;34m,\u001b[0m \u001b[0meg2\u001b[0m\u001b[0;34m)\u001b[0m\u001b[0;34m\u001b[0m\u001b[0;34m\u001b[0m\u001b[0m\n\u001b[0m",
            "\u001b[0;31mNameError\u001b[0m: name 'eg2' is not defined"
          ]
        }
      ]
    },
    {
      "cell_type": "markdown",
      "metadata": {
        "id": "BtBkyMINOE3V",
        "colab_type": "text"
      },
      "source": [
        "If a **global** variable is defined as shown in the example below then that variable can be called from anywhere."
      ]
    },
    {
      "cell_type": "code",
      "metadata": {
        "id": "MpyqNb0QOE3W",
        "colab_type": "code",
        "colab": {}
      },
      "source": [
        "eg3 = [1,2,3,4,5]"
      ],
      "execution_count": 0,
      "outputs": []
    },
    {
      "cell_type": "code",
      "metadata": {
        "id": "x_plsiDZOE3Y",
        "colab_type": "code",
        "colab": {}
      },
      "source": [
        "def egfunc1():\n",
        "    def thirdfunc(arg1):\n",
        "        global eg2\n",
        "        eg2 = arg1[:]\n",
        "        eg2.append(6)\n",
        "        print (\"This is happening inside the function :\", eg2 )\n",
        "    print (\"This is happening before the function is called : \", eg1)\n",
        "    thirdfunc(eg1)\n",
        "    print (\"This is happening outside the function :\", eg1)   \n",
        "    print (\"Accessing a variable declared inside the function from outside :\" , eg2)"
      ],
      "execution_count": 0,
      "outputs": []
    },
    {
      "cell_type": "code",
      "metadata": {
        "id": "Xv8Gq016OE3e",
        "colab_type": "code",
        "colab": {
          "base_uri": "https://localhost:8080/",
          "height": 91
        },
        "outputId": "f1f38d2c-841b-43c1-c4ba-26ad3ccd5714"
      },
      "source": [
        "egfunc1()"
      ],
      "execution_count": 43,
      "outputs": [
        {
          "output_type": "stream",
          "text": [
            "This is happening before the function is called :  [1, 2, 3, 4, 5]\n",
            "This is happening inside the function : [1, 2, 3, 4, 5, 6]\n",
            "This is happening outside the function : [1, 2, 3, 4, 5]\n",
            "Accessing a variable declared inside the function from outside : [1, 2, 3, 4, 5, 6]\n"
          ],
          "name": "stdout"
        }
      ]
    },
    {
      "cell_type": "code",
      "metadata": {
        "id": "E8OP92z0P8Mu",
        "colab_type": "code",
        "colab": {}
      },
      "source": [
        ""
      ],
      "execution_count": 0,
      "outputs": []
    }
  ]
}