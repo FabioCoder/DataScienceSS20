{
  "nbformat": 4,
  "nbformat_minor": 0,
  "metadata": {
    "kernelspec": {
      "display_name": "Python 3",
      "language": "python",
      "name": "python3"
    },
    "language_info": {
      "codemirror_mode": {
        "name": "ipython",
        "version": 3
      },
      "file_extension": ".py",
      "mimetype": "text/x-python",
      "name": "python",
      "nbconvert_exporter": "python",
      "pygments_lexer": "ipython3",
      "version": "3.7.1"
    },
    "colab": {
      "name": "06_classes.ipynb",
      "provenance": []
    }
  },
  "cells": [
    {
      "cell_type": "markdown",
      "metadata": {
        "id": "-UqWQP33QJSz",
        "colab_type": "text"
      },
      "source": [
        "# Introduction to Python VI - Classes\n",
        "* Based on a lecture series by Rajath Kumart (https://github.com/rajathkumarmp/Python-Lectures)\n",
        "* Ported to Python3 and extessions added by Janis Keuper\n",
        "* Copyright: Creative Commons Attribution 3.0 Unported License. To view a copy of this license, visit http://creativecommons.org/licenses/by/3.0/"
      ]
    },
    {
      "cell_type": "code",
      "metadata": {
        "id": "iPqXLRT_QJS1",
        "colab_type": "code",
        "colab": {
          "base_uri": "https://localhost:8080/",
          "height": 128
        },
        "outputId": "0e090b6e-d18e-4c1d-8afc-3ce4e8e09592"
      },
      "source": [
        "#check if notebook runs in colab\n",
        "import sys\n",
        "IN_COLAB = 'google.colab' in sys.modules\n",
        "print('running in Colab:',IN_COLAB)\n",
        "path='..'\n",
        "if IN_COLAB:\n",
        "  #in colab, we need to clone the data from the repo\n",
        "  !git clone https://github.com/keuperj/DataScienceSS20.git\n",
        "  path='DataScienceSS20'"
      ],
      "execution_count": 2,
      "outputs": [
        {
          "output_type": "stream",
          "text": [
            "running in Colab: True\n",
            "Cloning into 'DataScienceSS20'...\n",
            "remote: Enumerating objects: 248, done.\u001b[K\n",
            "remote: Total 248 (delta 0), reused 0 (delta 0), pack-reused 248\u001b[K\n",
            "Receiving objects: 100% (248/248), 45.43 MiB | 24.62 MiB/s, done.\n",
            "Resolving deltas: 100% (85/85), done.\n"
          ],
          "name": "stdout"
        }
      ]
    },
    {
      "cell_type": "markdown",
      "metadata": {
        "id": "U73CJhdPQJTG",
        "colab_type": "text"
      },
      "source": [
        "# Classes"
      ]
    },
    {
      "cell_type": "markdown",
      "metadata": {
        "id": "QxABr7rrQJTL",
        "colab_type": "text"
      },
      "source": [
        "Variables, Lists, Dictionaries etc in python is a object. Without getting into the theory part of Object Oriented Programming, explanation of the concepts will be done along this tutorial.\n",
        "\n",
        "For in depth information on claases see: https://docs.python.org/3/tutorial/classes.html"
      ]
    },
    {
      "cell_type": "markdown",
      "metadata": {
        "id": "zs3RU4kSQJTO",
        "colab_type": "text"
      },
      "source": [
        "A class is declared as follows"
      ]
    },
    {
      "cell_type": "markdown",
      "metadata": {
        "id": "XNUU4M-NQJTS",
        "colab_type": "text"
      },
      "source": [
        "class class_name:\n",
        "\n",
        "    Functions"
      ]
    },
    {
      "cell_type": "code",
      "metadata": {
        "id": "NWGnSQAPQJTU",
        "colab_type": "code",
        "colab": {}
      },
      "source": [
        "class FirstClass:\n",
        "    pass"
      ],
      "execution_count": 0,
      "outputs": []
    },
    {
      "cell_type": "markdown",
      "metadata": {
        "id": "trLIqEYyQJT0",
        "colab_type": "text"
      },
      "source": [
        "**pass** in python means do nothing. "
      ]
    },
    {
      "cell_type": "markdown",
      "metadata": {
        "id": "FxLVB9yeQJT3",
        "colab_type": "text"
      },
      "source": [
        "Above, a class object named \"FirstClass\" is declared now consider a \"egclass\" which has all the characteristics of \"FirstClass\". So all you have to do is, equate the \"egclass\" to \"FirstClass\". In python jargon this is called as creating an instance. \"egclass\" is the instance of \"FirstClass\""
      ]
    },
    {
      "cell_type": "code",
      "metadata": {
        "id": "hpB8RO8KQJT5",
        "colab_type": "code",
        "colab": {}
      },
      "source": [
        "egclass = FirstClass()"
      ],
      "execution_count": 0,
      "outputs": []
    },
    {
      "cell_type": "code",
      "metadata": {
        "id": "NZn2GybYQJUj",
        "colab_type": "code",
        "colab": {
          "base_uri": "https://localhost:8080/",
          "height": 36
        },
        "outputId": "34ec0775-f0ec-4dc4-88ad-091907f84fc2"
      },
      "source": [
        "type(egclass)"
      ],
      "execution_count": 6,
      "outputs": [
        {
          "output_type": "execute_result",
          "data": {
            "text/plain": [
              "__main__.FirstClass"
            ]
          },
          "metadata": {
            "tags": []
          },
          "execution_count": 6
        }
      ]
    },
    {
      "cell_type": "code",
      "metadata": {
        "id": "IpzyKMVPQJUy",
        "colab_type": "code",
        "colab": {
          "base_uri": "https://localhost:8080/",
          "height": 36
        },
        "outputId": "f2740ebd-bd9c-4c8c-fda4-2cffbfb3f042"
      },
      "source": [
        "type(FirstClass)"
      ],
      "execution_count": 7,
      "outputs": [
        {
          "output_type": "execute_result",
          "data": {
            "text/plain": [
              "type"
            ]
          },
          "metadata": {
            "tags": []
          },
          "execution_count": 7
        }
      ]
    },
    {
      "cell_type": "markdown",
      "metadata": {
        "id": "GVhmWIeGQJVA",
        "colab_type": "text"
      },
      "source": [
        "Now let us add some \"functionality\" to the class. So that our \"FirstClass\" is defined in a better way. A function inside a class is called as a \"Method\" of that class"
      ]
    },
    {
      "cell_type": "markdown",
      "metadata": {
        "id": "D6f8ZTjdQJVB",
        "colab_type": "text"
      },
      "source": [
        "Most of the classes will have a function named \"\\_\\_init\\_\\_\". These are called as magic methods. In this method you basically initialize the variables of that class or any other initial algorithms which is applicable to all methods is specified in this method. A variable inside a class is called an attribute."
      ]
    },
    {
      "cell_type": "markdown",
      "metadata": {
        "id": "ZutTTQcUQJVE",
        "colab_type": "text"
      },
      "source": [
        "These helps simplify the process of initializing a instance. For example,\n",
        "\n",
        "Without the use of magic method or \\_\\_init\\_\\_ which is otherwise called as constructors. One had to define a **init( )** method and call the **init( )** function."
      ]
    },
    {
      "cell_type": "code",
      "metadata": {
        "id": "fnadgXEEQJVH",
        "colab_type": "code",
        "colab": {}
      },
      "source": [
        "eg0 = FirstClass()"
      ],
      "execution_count": 0,
      "outputs": []
    },
    {
      "cell_type": "markdown",
      "metadata": {
        "id": "1bHKG864QJVO",
        "colab_type": "text"
      },
      "source": [
        "But when the constructor is defined the \\_\\_init\\_\\_ is called thus intializing the instance created. "
      ]
    },
    {
      "cell_type": "markdown",
      "metadata": {
        "id": "uVkSjxLiQJVQ",
        "colab_type": "text"
      },
      "source": [
        "We will make our \"FirstClass\" to accept two variables: name and symbol.\n",
        "\n",
        "I will be explaining about the \"self\" in a while."
      ]
    },
    {
      "cell_type": "code",
      "metadata": {
        "id": "mHGFIo6PQJVS",
        "colab_type": "code",
        "colab": {}
      },
      "source": [
        "class FirstClass:\n",
        "    def __init__(self,name,symbol):\n",
        "        self.name = name\n",
        "        self.symbol = symbol"
      ],
      "execution_count": 0,
      "outputs": []
    },
    {
      "cell_type": "markdown",
      "metadata": {
        "id": "umgyIxg3QJVg",
        "colab_type": "text"
      },
      "source": [
        "Now that we have defined a function and added the \\_\\_init\\_\\_ method. We can create a instance of FirstClass which now accepts two arguments. "
      ]
    },
    {
      "cell_type": "code",
      "metadata": {
        "id": "NhXrbl9aQJVh",
        "colab_type": "code",
        "colab": {}
      },
      "source": [
        "eg1 = FirstClass('one',1)\n",
        "eg2 = FirstClass('two',2)"
      ],
      "execution_count": 0,
      "outputs": []
    },
    {
      "cell_type": "code",
      "metadata": {
        "id": "Z7zy8CpLQJV7",
        "colab_type": "code",
        "colab": {
          "base_uri": "https://localhost:8080/",
          "height": 54
        },
        "outputId": "27c00e8b-55be-4d8d-fbde-9cf217930ea6"
      },
      "source": [
        "print (eg1.name, eg1.symbol)\n",
        "print (eg2.name, eg2.symbol)"
      ],
      "execution_count": 11,
      "outputs": [
        {
          "output_type": "stream",
          "text": [
            "one 1\n",
            "two 2\n"
          ],
          "name": "stdout"
        }
      ]
    },
    {
      "cell_type": "markdown",
      "metadata": {
        "id": "UBWLWji_QJWD",
        "colab_type": "text"
      },
      "source": [
        "**dir( )** function comes very handy in looking into what the class contains and what all method it offers"
      ]
    },
    {
      "cell_type": "code",
      "metadata": {
        "id": "S0o7WdF0QJWF",
        "colab_type": "code",
        "colab": {
          "base_uri": "https://localhost:8080/",
          "height": 500
        },
        "outputId": "b01c6b6b-0a81-4ca1-8963-59eda59b7626"
      },
      "source": [
        "dir(FirstClass)"
      ],
      "execution_count": 12,
      "outputs": [
        {
          "output_type": "execute_result",
          "data": {
            "text/plain": [
              "['__class__',\n",
              " '__delattr__',\n",
              " '__dict__',\n",
              " '__dir__',\n",
              " '__doc__',\n",
              " '__eq__',\n",
              " '__format__',\n",
              " '__ge__',\n",
              " '__getattribute__',\n",
              " '__gt__',\n",
              " '__hash__',\n",
              " '__init__',\n",
              " '__init_subclass__',\n",
              " '__le__',\n",
              " '__lt__',\n",
              " '__module__',\n",
              " '__ne__',\n",
              " '__new__',\n",
              " '__reduce__',\n",
              " '__reduce_ex__',\n",
              " '__repr__',\n",
              " '__setattr__',\n",
              " '__sizeof__',\n",
              " '__str__',\n",
              " '__subclasshook__',\n",
              " '__weakref__']"
            ]
          },
          "metadata": {
            "tags": []
          },
          "execution_count": 12
        }
      ]
    },
    {
      "cell_type": "markdown",
      "metadata": {
        "id": "sn5CGrbrQJWR",
        "colab_type": "text"
      },
      "source": [
        "**dir( )** of an instance also shows it's defined attributes."
      ]
    },
    {
      "cell_type": "code",
      "metadata": {
        "id": "7XwTE74hQJWT",
        "colab_type": "code",
        "colab": {
          "base_uri": "https://localhost:8080/",
          "height": 537
        },
        "outputId": "6082f862-bd7f-450d-b762-c1a52738a576"
      },
      "source": [
        "dir(eg1)"
      ],
      "execution_count": 13,
      "outputs": [
        {
          "output_type": "execute_result",
          "data": {
            "text/plain": [
              "['__class__',\n",
              " '__delattr__',\n",
              " '__dict__',\n",
              " '__dir__',\n",
              " '__doc__',\n",
              " '__eq__',\n",
              " '__format__',\n",
              " '__ge__',\n",
              " '__getattribute__',\n",
              " '__gt__',\n",
              " '__hash__',\n",
              " '__init__',\n",
              " '__init_subclass__',\n",
              " '__le__',\n",
              " '__lt__',\n",
              " '__module__',\n",
              " '__ne__',\n",
              " '__new__',\n",
              " '__reduce__',\n",
              " '__reduce_ex__',\n",
              " '__repr__',\n",
              " '__setattr__',\n",
              " '__sizeof__',\n",
              " '__str__',\n",
              " '__subclasshook__',\n",
              " '__weakref__',\n",
              " 'name',\n",
              " 'symbol']"
            ]
          },
          "metadata": {
            "tags": []
          },
          "execution_count": 13
        }
      ]
    },
    {
      "cell_type": "markdown",
      "metadata": {
        "id": "EtMoNIvtQJWd",
        "colab_type": "text"
      },
      "source": [
        "Changing the FirstClass function a bit,"
      ]
    },
    {
      "cell_type": "code",
      "metadata": {
        "id": "UxzWIJffQJWf",
        "colab_type": "code",
        "colab": {}
      },
      "source": [
        "class FirstClass:\n",
        "    def __init__(self,name,symbol):\n",
        "        self.n = name\n",
        "        self.s = symbol"
      ],
      "execution_count": 0,
      "outputs": []
    },
    {
      "cell_type": "markdown",
      "metadata": {
        "id": "je9rkhODQJWq",
        "colab_type": "text"
      },
      "source": [
        "Changing self.name and self.symbol to self.n and self.s respectively will yield,"
      ]
    },
    {
      "cell_type": "code",
      "metadata": {
        "id": "p3TsxHBGQJWs",
        "colab_type": "code",
        "colab": {}
      },
      "source": [
        "eg1 = FirstClass('one',1)\n",
        "eg2 = FirstClass('two',2)"
      ],
      "execution_count": 0,
      "outputs": []
    },
    {
      "cell_type": "code",
      "metadata": {
        "id": "NNyZGGIYQJW2",
        "colab_type": "code",
        "colab": {
          "base_uri": "https://localhost:8080/",
          "height": 192
        },
        "outputId": "1c36efa4-e803-46f0-ef85-b79fa37e43b7"
      },
      "source": [
        "print (eg1.name, eg1.symbol)\n",
        "print (eg2.name, eg2.symbol)"
      ],
      "execution_count": 17,
      "outputs": [
        {
          "output_type": "error",
          "ename": "AttributeError",
          "evalue": "ignored",
          "traceback": [
            "\u001b[0;31m---------------------------------------------------------------------------\u001b[0m",
            "\u001b[0;31mAttributeError\u001b[0m                            Traceback (most recent call last)",
            "\u001b[0;32m<ipython-input-17-1e025abf832b>\u001b[0m in \u001b[0;36m<module>\u001b[0;34m()\u001b[0m\n\u001b[0;32m----> 1\u001b[0;31m \u001b[0mprint\u001b[0m \u001b[0;34m(\u001b[0m\u001b[0meg1\u001b[0m\u001b[0;34m.\u001b[0m\u001b[0mname\u001b[0m\u001b[0;34m,\u001b[0m \u001b[0meg1\u001b[0m\u001b[0;34m.\u001b[0m\u001b[0msymbol\u001b[0m\u001b[0;34m)\u001b[0m\u001b[0;34m\u001b[0m\u001b[0;34m\u001b[0m\u001b[0m\n\u001b[0m\u001b[1;32m      2\u001b[0m \u001b[0mprint\u001b[0m \u001b[0;34m(\u001b[0m\u001b[0meg2\u001b[0m\u001b[0;34m.\u001b[0m\u001b[0mname\u001b[0m\u001b[0;34m,\u001b[0m \u001b[0meg2\u001b[0m\u001b[0;34m.\u001b[0m\u001b[0msymbol\u001b[0m\u001b[0;34m)\u001b[0m\u001b[0;34m\u001b[0m\u001b[0;34m\u001b[0m\u001b[0m\n",
            "\u001b[0;31mAttributeError\u001b[0m: 'FirstClass' object has no attribute 'name'"
          ]
        }
      ]
    },
    {
      "cell_type": "markdown",
      "metadata": {
        "id": "VoyAFjXYQJXK",
        "colab_type": "text"
      },
      "source": [
        "AttributeError, Remember variables are nothing but attributes inside a class? So this means we have not given the correct attribute for the instance."
      ]
    },
    {
      "cell_type": "code",
      "metadata": {
        "id": "sQqv1_kCQJXM",
        "colab_type": "code",
        "colab": {
          "base_uri": "https://localhost:8080/",
          "height": 537
        },
        "outputId": "7d6175e8-c3c1-4365-f275-859ccd276e7c"
      },
      "source": [
        "dir(eg1)"
      ],
      "execution_count": 18,
      "outputs": [
        {
          "output_type": "execute_result",
          "data": {
            "text/plain": [
              "['__class__',\n",
              " '__delattr__',\n",
              " '__dict__',\n",
              " '__dir__',\n",
              " '__doc__',\n",
              " '__eq__',\n",
              " '__format__',\n",
              " '__ge__',\n",
              " '__getattribute__',\n",
              " '__gt__',\n",
              " '__hash__',\n",
              " '__init__',\n",
              " '__init_subclass__',\n",
              " '__le__',\n",
              " '__lt__',\n",
              " '__module__',\n",
              " '__ne__',\n",
              " '__new__',\n",
              " '__reduce__',\n",
              " '__reduce_ex__',\n",
              " '__repr__',\n",
              " '__setattr__',\n",
              " '__sizeof__',\n",
              " '__str__',\n",
              " '__subclasshook__',\n",
              " '__weakref__',\n",
              " 'n',\n",
              " 's']"
            ]
          },
          "metadata": {
            "tags": []
          },
          "execution_count": 18
        }
      ]
    },
    {
      "cell_type": "code",
      "metadata": {
        "id": "FSvv6yDbQJXU",
        "colab_type": "code",
        "colab": {
          "base_uri": "https://localhost:8080/",
          "height": 54
        },
        "outputId": "bfd72842-1d9a-4122-882a-28c15fab6c1f"
      },
      "source": [
        "print (eg1.n, eg1.s)\n",
        "print (eg2.n, eg2.s)"
      ],
      "execution_count": 19,
      "outputs": [
        {
          "output_type": "stream",
          "text": [
            "one 1\n",
            "two 2\n"
          ],
          "name": "stdout"
        }
      ]
    },
    {
      "cell_type": "markdown",
      "metadata": {
        "id": "FE9WNVFLQJXa",
        "colab_type": "text"
      },
      "source": [
        "So now we have solved the error. Now let us compare the two examples that we saw.\n",
        "\n",
        "When I declared self.name and self.symbol, there was no attribute error for eg1.name and eg1.symbol and when I declared self.n and self.s, there was no attribute error for eg1.n and eg1.s\n",
        "\n",
        "From the above we can conclude that self is nothing but the instance itself.\n",
        "\n",
        "Remember, self is not predefined it is userdefined. You can make use of anything you are comfortable with. But it has become a common practice to use self."
      ]
    },
    {
      "cell_type": "code",
      "metadata": {
        "id": "KBIRl3NPQJXd",
        "colab_type": "code",
        "colab": {}
      },
      "source": [
        "class FirstClass:\n",
        "    def __init__(asdf1234,name,symbol):\n",
        "        asdf1234.n = name\n",
        "        asdf1234.s = symbol"
      ],
      "execution_count": 0,
      "outputs": []
    },
    {
      "cell_type": "code",
      "metadata": {
        "id": "9suTD1koQJXl",
        "colab_type": "code",
        "colab": {}
      },
      "source": [
        "eg1 = FirstClass('one',1)\n",
        "eg2 = FirstClass('two',2)"
      ],
      "execution_count": 0,
      "outputs": []
    },
    {
      "cell_type": "code",
      "metadata": {
        "id": "iDQKFoGmQJXx",
        "colab_type": "code",
        "colab": {
          "base_uri": "https://localhost:8080/",
          "height": 54
        },
        "outputId": "803ad777-fce2-4959-f7d0-f542b66fafc8"
      },
      "source": [
        "print (eg1.n, eg1.s)\n",
        "print (eg2.n, eg2.s)"
      ],
      "execution_count": 25,
      "outputs": [
        {
          "output_type": "stream",
          "text": [
            "one 1\n",
            "two 2\n"
          ],
          "name": "stdout"
        }
      ]
    },
    {
      "cell_type": "markdown",
      "metadata": {
        "id": "XMkkZgpjQJX3",
        "colab_type": "text"
      },
      "source": [
        "Since eg1 and eg2 are instances of FirstClass it need not necessarily be limited to FirstClass itself. It might extend itself by declaring other attributes without having the attribute to be declared inside the FirstClass."
      ]
    },
    {
      "cell_type": "code",
      "metadata": {
        "id": "UL9lF94hQJX6",
        "colab_type": "code",
        "colab": {}
      },
      "source": [
        "eg1.cube = 1\n",
        "eg2.cube = 8"
      ],
      "execution_count": 0,
      "outputs": []
    },
    {
      "cell_type": "code",
      "metadata": {
        "id": "RtnVhrROQJYB",
        "colab_type": "code",
        "colab": {
          "base_uri": "https://localhost:8080/",
          "height": 555
        },
        "outputId": "0ac913e0-4081-4099-cc55-341888db8c63"
      },
      "source": [
        "dir(eg1)"
      ],
      "execution_count": 27,
      "outputs": [
        {
          "output_type": "execute_result",
          "data": {
            "text/plain": [
              "['__class__',\n",
              " '__delattr__',\n",
              " '__dict__',\n",
              " '__dir__',\n",
              " '__doc__',\n",
              " '__eq__',\n",
              " '__format__',\n",
              " '__ge__',\n",
              " '__getattribute__',\n",
              " '__gt__',\n",
              " '__hash__',\n",
              " '__init__',\n",
              " '__init_subclass__',\n",
              " '__le__',\n",
              " '__lt__',\n",
              " '__module__',\n",
              " '__ne__',\n",
              " '__new__',\n",
              " '__reduce__',\n",
              " '__reduce_ex__',\n",
              " '__repr__',\n",
              " '__setattr__',\n",
              " '__sizeof__',\n",
              " '__str__',\n",
              " '__subclasshook__',\n",
              " '__weakref__',\n",
              " 'cube',\n",
              " 'n',\n",
              " 's']"
            ]
          },
          "metadata": {
            "tags": []
          },
          "execution_count": 27
        }
      ]
    },
    {
      "cell_type": "markdown",
      "metadata": {
        "id": "oQprKtOJQJYG",
        "colab_type": "text"
      },
      "source": [
        "Just like global and local variables as we saw earlier, even classes have it's own types of variables.\n",
        "\n",
        "Class Attribute : attributes defined outside the method and is applicable to all the instances.\n",
        "\n",
        "Instance Attribute : attributes defined inside a method and is applicable to only that method and is unique to each instance."
      ]
    },
    {
      "cell_type": "code",
      "metadata": {
        "id": "DNLV0PpFQJYM",
        "colab_type": "code",
        "colab": {}
      },
      "source": [
        "class FirstClass:\n",
        "    test = 'test'\n",
        "    def __init__(self,name,symbol):\n",
        "        self.name = name\n",
        "        self.symbol = symbol"
      ],
      "execution_count": 0,
      "outputs": []
    },
    {
      "cell_type": "markdown",
      "metadata": {
        "id": "5qHkfCHfQJYS",
        "colab_type": "text"
      },
      "source": [
        "Here test is a class attribute and name is a instance attribute."
      ]
    },
    {
      "cell_type": "code",
      "metadata": {
        "id": "3aMjSJITQJYS",
        "colab_type": "code",
        "colab": {}
      },
      "source": [
        "eg3 = FirstClass('Three',3)"
      ],
      "execution_count": 0,
      "outputs": []
    },
    {
      "cell_type": "code",
      "metadata": {
        "id": "hOVvB0i6QJYa",
        "colab_type": "code",
        "colab": {
          "base_uri": "https://localhost:8080/",
          "height": 54
        },
        "outputId": "05164406-a7ba-4d1c-a874-b3d20feea411"
      },
      "source": [
        "print (eg3.test, eg3.name)\n",
        "print (FirstClass.test)"
      ],
      "execution_count": 33,
      "outputs": [
        {
          "output_type": "stream",
          "text": [
            "test Three\n",
            "test\n"
          ],
          "name": "stdout"
        }
      ]
    },
    {
      "cell_type": "markdown",
      "metadata": {
        "id": "8e7PL3UcQJYf",
        "colab_type": "text"
      },
      "source": [
        "Let us add some more methods to FirstClass."
      ]
    },
    {
      "cell_type": "code",
      "metadata": {
        "id": "cSK4OKN5QJYh",
        "colab_type": "code",
        "colab": {}
      },
      "source": [
        "class FirstClass:\n",
        "    def __init__(self,name,symbol):\n",
        "        self.name = name\n",
        "        self.symbol = symbol\n",
        "    def square(self):\n",
        "        return self.symbol * self.symbol\n",
        "    def cube(self):\n",
        "        return self.symbol * self.symbol * self.symbol\n",
        "    def multiply(self, x):\n",
        "        return self.symbol * x"
      ],
      "execution_count": 0,
      "outputs": []
    },
    {
      "cell_type": "code",
      "metadata": {
        "id": "nuZfNUeEQJYm",
        "colab_type": "code",
        "colab": {}
      },
      "source": [
        "eg4 = FirstClass('Five',5)"
      ],
      "execution_count": 0,
      "outputs": []
    },
    {
      "cell_type": "code",
      "metadata": {
        "id": "aifLcppnQJYt",
        "colab_type": "code",
        "colab": {
          "base_uri": "https://localhost:8080/",
          "height": 54
        },
        "outputId": "3652aef1-3792-4631-c8d9-377b0397fc8a"
      },
      "source": [
        "print (eg4.square())\n",
        "print (eg4.cube())"
      ],
      "execution_count": 36,
      "outputs": [
        {
          "output_type": "stream",
          "text": [
            "25\n",
            "125\n"
          ],
          "name": "stdout"
        }
      ]
    },
    {
      "cell_type": "code",
      "metadata": {
        "id": "1hV69GhdQJYx",
        "colab_type": "code",
        "colab": {
          "base_uri": "https://localhost:8080/",
          "height": 36
        },
        "outputId": "25ff3cf4-ac71-4006-a853-fc3888a972bd"
      },
      "source": [
        "eg4.multiply(2)"
      ],
      "execution_count": 37,
      "outputs": [
        {
          "output_type": "execute_result",
          "data": {
            "text/plain": [
              "10"
            ]
          },
          "metadata": {
            "tags": []
          },
          "execution_count": 37
        }
      ]
    },
    {
      "cell_type": "markdown",
      "metadata": {
        "id": "PJOblt9bQJY1",
        "colab_type": "text"
      },
      "source": [
        "The above can also be written as,"
      ]
    },
    {
      "cell_type": "code",
      "metadata": {
        "id": "8FpdkWDyQJY2",
        "colab_type": "code",
        "colab": {
          "base_uri": "https://localhost:8080/",
          "height": 36
        },
        "outputId": "bb754273-0ae1-467c-c7dd-cd4a0241ee45"
      },
      "source": [
        "FirstClass.multiply(eg4,2)"
      ],
      "execution_count": 38,
      "outputs": [
        {
          "output_type": "execute_result",
          "data": {
            "text/plain": [
              "10"
            ]
          },
          "metadata": {
            "tags": []
          },
          "execution_count": 38
        }
      ]
    },
    {
      "cell_type": "markdown",
      "metadata": {
        "id": "XHEeq8DWQJY9",
        "colab_type": "text"
      },
      "source": [
        "## Inheritance"
      ]
    },
    {
      "cell_type": "markdown",
      "metadata": {
        "id": "uAV2qG1_QJY-",
        "colab_type": "text"
      },
      "source": [
        "There might be cases where a new class would have all the previous characteristics of an already defined class. So the new class can \"inherit\" the previous class and add it's own methods to it. This is called as inheritance."
      ]
    },
    {
      "cell_type": "markdown",
      "metadata": {
        "id": "_WKsM0NdQJZA",
        "colab_type": "text"
      },
      "source": [
        "Consider class SoftwareEngineer which has a method salary."
      ]
    },
    {
      "cell_type": "code",
      "metadata": {
        "id": "LRmK7Rs2QJZC",
        "colab_type": "code",
        "colab": {}
      },
      "source": [
        "class SoftwareEngineer:\n",
        "    def __init__(self,name,age):\n",
        "        self.name = name\n",
        "        self.age = age\n",
        "    def salary(self, value):\n",
        "        self.money = value\n",
        "        print (self.name,\"earns\",self.money)"
      ],
      "execution_count": 0,
      "outputs": []
    },
    {
      "cell_type": "code",
      "metadata": {
        "id": "AvChzeskQJZF",
        "colab_type": "code",
        "colab": {}
      },
      "source": [
        "a = SoftwareEngineer('Kartik',26)"
      ],
      "execution_count": 0,
      "outputs": []
    },
    {
      "cell_type": "code",
      "metadata": {
        "id": "llx7eR77QJZI",
        "colab_type": "code",
        "colab": {
          "base_uri": "https://localhost:8080/",
          "height": 36
        },
        "outputId": "413cba9a-cffe-447d-a569-facb2835bade"
      },
      "source": [
        "a.salary(40000)"
      ],
      "execution_count": 42,
      "outputs": [
        {
          "output_type": "stream",
          "text": [
            "Kartik earns 40000\n"
          ],
          "name": "stdout"
        }
      ]
    },
    {
      "cell_type": "code",
      "metadata": {
        "id": "PNPvode1QJZL",
        "colab_type": "code",
        "colab": {
          "base_uri": "https://localhost:8080/",
          "height": 518
        },
        "outputId": "ed04cc29-2f9a-4902-a466-a4dfcfceb68a"
      },
      "source": [
        "dir(SoftwareEngineer)"
      ],
      "execution_count": 43,
      "outputs": [
        {
          "output_type": "execute_result",
          "data": {
            "text/plain": [
              "['__class__',\n",
              " '__delattr__',\n",
              " '__dict__',\n",
              " '__dir__',\n",
              " '__doc__',\n",
              " '__eq__',\n",
              " '__format__',\n",
              " '__ge__',\n",
              " '__getattribute__',\n",
              " '__gt__',\n",
              " '__hash__',\n",
              " '__init__',\n",
              " '__init_subclass__',\n",
              " '__le__',\n",
              " '__lt__',\n",
              " '__module__',\n",
              " '__ne__',\n",
              " '__new__',\n",
              " '__reduce__',\n",
              " '__reduce_ex__',\n",
              " '__repr__',\n",
              " '__setattr__',\n",
              " '__sizeof__',\n",
              " '__str__',\n",
              " '__subclasshook__',\n",
              " '__weakref__',\n",
              " 'salary']"
            ]
          },
          "metadata": {
            "tags": []
          },
          "execution_count": 43
        }
      ]
    },
    {
      "cell_type": "markdown",
      "metadata": {
        "id": "az4IOPocQJZS",
        "colab_type": "text"
      },
      "source": [
        "Now consider another class Artist which tells us about the amount of money an artist earns and his artform."
      ]
    },
    {
      "cell_type": "code",
      "metadata": {
        "id": "EZIFKjZ1QJZT",
        "colab_type": "code",
        "colab": {}
      },
      "source": [
        "class Artist:\n",
        "    def __init__(self,name,age):\n",
        "        self.name = name\n",
        "        self.age = age\n",
        "    def money(self,value):\n",
        "        self.money = value\n",
        "        print (self.name,\"earns\",self.money)\n",
        "    def artform(self, job):\n",
        "        self.job = job\n",
        "        print (self.name,\"is a\", self.job)"
      ],
      "execution_count": 0,
      "outputs": []
    },
    {
      "cell_type": "code",
      "metadata": {
        "id": "1oD1yDL3QJZW",
        "colab_type": "code",
        "colab": {}
      },
      "source": [
        "b = Artist('Nitin',20)"
      ],
      "execution_count": 0,
      "outputs": []
    },
    {
      "cell_type": "code",
      "metadata": {
        "id": "vIVVvpvBQJZc",
        "colab_type": "code",
        "colab": {
          "base_uri": "https://localhost:8080/",
          "height": 54
        },
        "outputId": "824b4caf-d523-4375-f7cd-1aa6f344a897"
      },
      "source": [
        "b.money(50000)\n",
        "b.artform('Musician')"
      ],
      "execution_count": 46,
      "outputs": [
        {
          "output_type": "stream",
          "text": [
            "Nitin earns 50000\n",
            "Nitin is a Musician\n"
          ],
          "name": "stdout"
        }
      ]
    },
    {
      "cell_type": "code",
      "metadata": {
        "id": "FphmtDaaQJZi",
        "colab_type": "code",
        "colab": {
          "base_uri": "https://localhost:8080/",
          "height": 537
        },
        "outputId": "eef05ced-3bb8-4abe-9b1a-91d9142ba936"
      },
      "source": [
        "dir(Artist)"
      ],
      "execution_count": 47,
      "outputs": [
        {
          "output_type": "execute_result",
          "data": {
            "text/plain": [
              "['__class__',\n",
              " '__delattr__',\n",
              " '__dict__',\n",
              " '__dir__',\n",
              " '__doc__',\n",
              " '__eq__',\n",
              " '__format__',\n",
              " '__ge__',\n",
              " '__getattribute__',\n",
              " '__gt__',\n",
              " '__hash__',\n",
              " '__init__',\n",
              " '__init_subclass__',\n",
              " '__le__',\n",
              " '__lt__',\n",
              " '__module__',\n",
              " '__ne__',\n",
              " '__new__',\n",
              " '__reduce__',\n",
              " '__reduce_ex__',\n",
              " '__repr__',\n",
              " '__setattr__',\n",
              " '__sizeof__',\n",
              " '__str__',\n",
              " '__subclasshook__',\n",
              " '__weakref__',\n",
              " 'artform',\n",
              " 'money']"
            ]
          },
          "metadata": {
            "tags": []
          },
          "execution_count": 47
        }
      ]
    },
    {
      "cell_type": "markdown",
      "metadata": {
        "id": "Gw9wBr65QJZn",
        "colab_type": "text"
      },
      "source": [
        "money method and salary method are the same. So we can generalize the method to salary and inherit the SoftwareEngineer class to Artist class. Now the artist class becomes,"
      ]
    },
    {
      "cell_type": "code",
      "metadata": {
        "id": "C-I4d_urQJZo",
        "colab_type": "code",
        "colab": {}
      },
      "source": [
        "class Artist(SoftwareEngineer):\n",
        "    def artform(self, job):\n",
        "        self.job = job\n",
        "        print (self.name,\"is a\", self.job)"
      ],
      "execution_count": 0,
      "outputs": []
    },
    {
      "cell_type": "code",
      "metadata": {
        "id": "Nwhk008pQJZt",
        "colab_type": "code",
        "colab": {}
      },
      "source": [
        "c = Artist('Nishanth',21)"
      ],
      "execution_count": 0,
      "outputs": []
    },
    {
      "cell_type": "code",
      "metadata": {
        "id": "eRKjIoiNQJZy",
        "colab_type": "code",
        "colab": {
          "base_uri": "https://localhost:8080/",
          "height": 537
        },
        "outputId": "82e26bc5-9366-4724-8430-7c1b77de7543"
      },
      "source": [
        "dir(Artist)"
      ],
      "execution_count": 50,
      "outputs": [
        {
          "output_type": "execute_result",
          "data": {
            "text/plain": [
              "['__class__',\n",
              " '__delattr__',\n",
              " '__dict__',\n",
              " '__dir__',\n",
              " '__doc__',\n",
              " '__eq__',\n",
              " '__format__',\n",
              " '__ge__',\n",
              " '__getattribute__',\n",
              " '__gt__',\n",
              " '__hash__',\n",
              " '__init__',\n",
              " '__init_subclass__',\n",
              " '__le__',\n",
              " '__lt__',\n",
              " '__module__',\n",
              " '__ne__',\n",
              " '__new__',\n",
              " '__reduce__',\n",
              " '__reduce_ex__',\n",
              " '__repr__',\n",
              " '__setattr__',\n",
              " '__sizeof__',\n",
              " '__str__',\n",
              " '__subclasshook__',\n",
              " '__weakref__',\n",
              " 'artform',\n",
              " 'salary']"
            ]
          },
          "metadata": {
            "tags": []
          },
          "execution_count": 50
        }
      ]
    },
    {
      "cell_type": "code",
      "metadata": {
        "id": "ocynLG0AQJZ2",
        "colab_type": "code",
        "colab": {
          "base_uri": "https://localhost:8080/",
          "height": 54
        },
        "outputId": "228f5b1e-dfa1-4f8b-ce47-0a047805facf"
      },
      "source": [
        "c.salary(60000)\n",
        "c.artform('Dancer')"
      ],
      "execution_count": 51,
      "outputs": [
        {
          "output_type": "stream",
          "text": [
            "Nishanth earns 60000\n",
            "Nishanth is a Dancer\n"
          ],
          "name": "stdout"
        }
      ]
    },
    {
      "cell_type": "markdown",
      "metadata": {
        "id": "AgXWk3RzQJZ6",
        "colab_type": "text"
      },
      "source": [
        "Suppose say while inheriting a particular method is not suitable for the new class. One can override this method by defining again that method with the same name inside the new class."
      ]
    },
    {
      "cell_type": "code",
      "metadata": {
        "id": "67YeHTFKQJZ8",
        "colab_type": "code",
        "colab": {}
      },
      "source": [
        "class Artist(SoftwareEngineer):\n",
        "    def artform(self, job):\n",
        "        self.job = job\n",
        "        print (self.name,\"is a\", self.job)\n",
        "    def salary(self, value):\n",
        "        self.money = value\n",
        "        print (self.name,\"earns\",self.money)\n",
        "        print (\"I am overriding the SoftwareEngineer class's salary method\")"
      ],
      "execution_count": 0,
      "outputs": []
    },
    {
      "cell_type": "code",
      "metadata": {
        "id": "KGotDhcdQJaD",
        "colab_type": "code",
        "colab": {}
      },
      "source": [
        "c = Artist('Nishanth',21)"
      ],
      "execution_count": 0,
      "outputs": []
    },
    {
      "cell_type": "code",
      "metadata": {
        "id": "x3oIDCcOQJaH",
        "colab_type": "code",
        "colab": {
          "base_uri": "https://localhost:8080/",
          "height": 73
        },
        "outputId": "1deba963-e5a5-425f-d864-9a7f6d302c4e"
      },
      "source": [
        "c.salary(60000)\n",
        "c.artform('Dancer')"
      ],
      "execution_count": 54,
      "outputs": [
        {
          "output_type": "stream",
          "text": [
            "Nishanth earns 60000\n",
            "I am overriding the SoftwareEngineer class's salary method\n",
            "Nishanth is a Dancer\n"
          ],
          "name": "stdout"
        }
      ]
    },
    {
      "cell_type": "markdown",
      "metadata": {
        "id": "acITCumBQJaL",
        "colab_type": "text"
      },
      "source": [
        "If not sure how many times methods will be called it will become difficult to declare so many variables to carry each result hence it is better to declare a list and append the result."
      ]
    },
    {
      "cell_type": "code",
      "metadata": {
        "id": "tNjpHw4FQJaN",
        "colab_type": "code",
        "colab": {}
      },
      "source": [
        "class emptylist:\n",
        "    def __init__(self):\n",
        "        self.data = []\n",
        "    def one(self,x):\n",
        "        self.data.append(x)\n",
        "    def two(self, x ):\n",
        "        self.data.append(x**2)\n",
        "    def three(self, x):\n",
        "        self.data.append(x**3)"
      ],
      "execution_count": 0,
      "outputs": []
    },
    {
      "cell_type": "code",
      "metadata": {
        "id": "svefUSCqQJaR",
        "colab_type": "code",
        "colab": {}
      },
      "source": [
        "xc = emptylist()"
      ],
      "execution_count": 0,
      "outputs": []
    },
    {
      "cell_type": "code",
      "metadata": {
        "id": "MXpHlu6PQJaV",
        "colab_type": "code",
        "colab": {
          "base_uri": "https://localhost:8080/",
          "height": 36
        },
        "outputId": "4aab462b-d447-4f92-d85c-8eac872fdc6c"
      },
      "source": [
        "xc.one(1)\n",
        "print (xc.data)"
      ],
      "execution_count": 57,
      "outputs": [
        {
          "output_type": "stream",
          "text": [
            "[1]\n"
          ],
          "name": "stdout"
        }
      ]
    },
    {
      "cell_type": "markdown",
      "metadata": {
        "id": "M8JPSXa2QJaZ",
        "colab_type": "text"
      },
      "source": [
        "Since xc.data is a list direct list operations can also be performed."
      ]
    },
    {
      "cell_type": "code",
      "metadata": {
        "id": "YovUwn8FQJaZ",
        "colab_type": "code",
        "colab": {
          "base_uri": "https://localhost:8080/",
          "height": 36
        },
        "outputId": "aa3d3182-683b-48db-95ed-76f2d2b13e84"
      },
      "source": [
        "xc.data.append(8)\n",
        "print (xc.data)"
      ],
      "execution_count": 58,
      "outputs": [
        {
          "output_type": "stream",
          "text": [
            "[1, 8]\n"
          ],
          "name": "stdout"
        }
      ]
    },
    {
      "cell_type": "code",
      "metadata": {
        "id": "ygURj0OEQJac",
        "colab_type": "code",
        "colab": {
          "base_uri": "https://localhost:8080/",
          "height": 36
        },
        "outputId": "882aa461-e3ae-44c3-8fdd-530cfffa1a8c"
      },
      "source": [
        "xc.two(3)\n",
        "print (xc.data)"
      ],
      "execution_count": 59,
      "outputs": [
        {
          "output_type": "stream",
          "text": [
            "[1, 8, 9]\n"
          ],
          "name": "stdout"
        }
      ]
    },
    {
      "cell_type": "markdown",
      "metadata": {
        "id": "26BtSdYjQJai",
        "colab_type": "text"
      },
      "source": [
        "If the number of input arguments varies from instance to instance asterisk can be used as shown."
      ]
    },
    {
      "cell_type": "code",
      "metadata": {
        "id": "LTLhhZlfQJaj",
        "colab_type": "code",
        "colab": {}
      },
      "source": [
        "class NotSure:\n",
        "    def __init__(self, *args):\n",
        "        self.data = ''.join(list(args)) "
      ],
      "execution_count": 0,
      "outputs": []
    },
    {
      "cell_type": "code",
      "metadata": {
        "id": "BADomJ_rQJal",
        "colab_type": "code",
        "colab": {}
      },
      "source": [
        "yz = NotSure('I', 'Do' , 'Not', 'Know', 'What', 'To','Type')"
      ],
      "execution_count": 0,
      "outputs": []
    },
    {
      "cell_type": "code",
      "metadata": {
        "id": "pUilAPbMQJao",
        "colab_type": "code",
        "colab": {
          "base_uri": "https://localhost:8080/",
          "height": 36
        },
        "outputId": "9ac37b5b-b34a-4d3a-c65e-378f9add7436"
      },
      "source": [
        "yz.data"
      ],
      "execution_count": 62,
      "outputs": [
        {
          "output_type": "execute_result",
          "data": {
            "text/plain": [
              "'IDoNotKnowWhatToType'"
            ]
          },
          "metadata": {
            "tags": []
          },
          "execution_count": 62
        }
      ]
    },
    {
      "cell_type": "markdown",
      "metadata": {
        "id": "2S8jrGzXQJar",
        "colab_type": "text"
      },
      "source": [
        "# Where to go from here?"
      ]
    },
    {
      "cell_type": "markdown",
      "metadata": {
        "id": "TQSD2C3CQJas",
        "colab_type": "text"
      },
      "source": [
        "Practice alone can help you get the hang of python. Give your self problem statements and solve them. You can also sign up to any competitive coding platform for problem statements. The more you code the more you discover and the more you start appreciating the language.\n",
        "\n",
        "\n",
        "Now that you have been introduced to python, You can try out the different python libraries in the field of your interest. I highly recommend you to check out this curated list of Python frameworks, libraries and software http://awesome-python.com\n",
        "\n",
        "\n",
        "The official python documentation : https://docs.python.org/3/\n",
        "\n"
      ]
    },
    {
      "cell_type": "markdown",
      "metadata": {
        "id": "PtPSTINbQJas",
        "colab_type": "text"
      },
      "source": [
        "## Further Topics:\n",
        "* Error handling https://docs.python.org/3/tutorial/errors.html\n",
        "* Auto Documentation https://docs.python-guide.org/writing/documentation/\n",
        "* Testing https://docs.python.org/3/library/unittest.html\n",
        "* Debugging https://docs.python.org/3/library/pdb.html\n"
      ]
    },
    {
      "cell_type": "code",
      "metadata": {
        "id": "fC63Og1wQJas",
        "colab_type": "code",
        "colab": {}
      },
      "source": [
        ""
      ],
      "execution_count": 0,
      "outputs": []
    }
  ]
}